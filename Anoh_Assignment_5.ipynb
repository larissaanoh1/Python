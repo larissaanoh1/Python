{
  "nbformat": 4,
  "nbformat_minor": 0,
  "metadata": {
    "colab": {
      "provenance": []
    },
    "kernelspec": {
      "name": "python3",
      "display_name": "Python 3"
    },
    "language_info": {
      "name": "python"
    }
  },
  "cells": [
    {
      "cell_type": "code",
      "execution_count": 3,
      "metadata": {
        "id": "BUDo8kPzV3z1"
      },
      "outputs": [],
      "source": [
        "import numpy as np\n",
        "import pandas as pd\n",
        "import statsmodels\n",
        "from statsmodels.stats.descriptivestats import sign_test"
      ]
    },
    {
      "cell_type": "markdown",
      "source": [
        "Section 13-2"
      ],
      "metadata": {
        "id": "omKnTQ1g8ggM"
      }
    },
    {
      "cell_type": "code",
      "source": [
        "df = [6210,\t3150,\t2700,\t3012,\t4875, 3540,\t6127,\t2581,\t2642,\t2573, 2792,\t2800,\t2500,\t3700,\t6030, 5437,\t2758,\t3490,\t2851,\t2720]"
      ],
      "metadata": {
        "id": "gGg7uUvjzSap"
      },
      "execution_count": 4,
      "outputs": []
    },
    {
      "cell_type": "code",
      "source": [
        "sign_test(df)"
      ],
      "metadata": {
        "colab": {
          "base_uri": "https://localhost:8080/"
        },
        "id": "OUQYTUi67aX6",
        "outputId": "1a05efc7-4bb2-4dfb-cba6-3de9b44f780b"
      },
      "execution_count": 5,
      "outputs": [
        {
          "output_type": "execute_result",
          "data": {
            "text/plain": [
              "(10.0, 1.9073486328125e-06)"
            ]
          },
          "metadata": {},
          "execution_count": 5
        }
      ]
    },
    {
      "cell_type": "markdown",
      "source": [
        "sign.te"
      ],
      "metadata": {
        "id": "r3TTnOLZIxtj"
      }
    },
    {
      "cell_type": "code",
      "source": [
        "from scipy.stats.morestats import binom_test\n",
        "test_value = binom_test(x=15, n=40, alternative = \"less\")\n",
        "test_value"
      ],
      "metadata": {
        "colab": {
          "base_uri": "https://localhost:8080/"
        },
        "id": "XksrLujBI3iR",
        "outputId": "f9e90e8c-c571-4962-d98d-8dfed6866c47"
      },
      "execution_count": 26,
      "outputs": [
        {
          "output_type": "execute_result",
          "data": {
            "text/plain": [
              "0.07692997208141605"
            ]
          },
          "metadata": {},
          "execution_count": 26
        }
      ]
    },
    {
      "cell_type": "markdown",
      "source": [
        "Section 13-3\n",
        "Use the Wilcoxon ra"
      ],
      "metadata": {
        "id": "Z4gxZdTrkfr8"
      }
    },
    {
      "cell_type": "code",
      "source": [
        "from scipy.stats import ranksums\n",
        "groupm = [8,\t12,\t6,\t14,\t22,\t27,\t32,\t24,\t26, 19,\t15,\t13]\n",
        "groupf = [7,\t5,\t2,\t3,\t21,\t26,\t30,\t9,\t4,\t17, 23,\t12,\t11,\t16] # a shifted distribution\n",
        "ranksums(groupm, groupf)"
      ],
      "metadata": {
        "colab": {
          "base_uri": "https://localhost:8080/"
        },
        "id": "eLRKr4T_FeAz",
        "outputId": "be184cb5-f51d-443e-bcbe-8e315694c0fd"
      },
      "execution_count": 28,
      "outputs": [
        {
          "output_type": "execute_result",
          "data": {
            "text/plain": [
              "RanksumsResult(statistic=1.4915990496335552, pvalue=0.1358042875031563)"
            ]
          },
          "metadata": {},
          "execution_count": 28
        }
      ]
    },
    {
      "cell_type": "code",
      "source": [
        "groupNF = [89,\t96,\t88,\t101,\t90,\t91,\t92,\t96,\t108,\t100,\t95]\n",
        "groupAL = [108,\t86,\t91,\t97,\t100,\t102,\t95,\t104,\t95,\t89,\t88,\t101] # a shifted distribution\n",
        "ranksums(groupNF, groupAL)"
      ],
      "metadata": {
        "colab": {
          "base_uri": "https://localhost:8080/"
        },
        "id": "gsNvvl_bFgAG",
        "outputId": "4fc54e2d-9f55-45f9-8cfc-2eadb5353687"
      },
      "execution_count": 29,
      "outputs": [
        {
          "output_type": "execute_result",
          "data": {
            "text/plain": [
              "RanksumsResult(statistic=-0.43082021842766455, pvalue=0.6665990972678644)"
            ]
          },
          "metadata": {},
          "execution_count": 29
        }
      ]
    },
    {
      "cell_type": "markdown",
      "source": [
        "Section 13-5\n",
        "Use the Kruskal-Wa"
      ],
      "metadata": {
        "id": "S7qa2-FGStA3"
      }
    },
    {
      "cell_type": "code",
      "source": [
        "# Import libraries\n",
        "from scipy import stats\n",
        "# Defining data groups\n",
        "data_groupWH = [527, 406, 474, 381, 411]\n",
        "data_groupE = [520, 510, 513, 548, 496]\n",
        "data_groupEA = [523, 547, 547, 391, 549]\n",
        "# Conduct the Kruskal-Wallis Test\n",
        "stats.kruskal(data_groupWH, data_groupE, data_groupEA)"
      ],
      "metadata": {
        "colab": {
          "base_uri": "https://localhost:8080/"
        },
        "id": "g2zBaxOj91Qo",
        "outputId": "05ab9f16-1249-4509-a1d6-da223d3ab7eb"
      },
      "execution_count": null,
      "outputs": [
        {
          "output_type": "execute_result",
          "data": {
            "text/plain": [
              "KruskalResult(statistic=4.167441860465113, pvalue=0.12446621937286355)"
            ]
          },
          "metadata": {},
          "execution_count": 21
        }
      ]
    },
    {
      "cell_type": "markdown",
      "source": [
        "\n",
        "Section 13-6:\n",
        "Subway and Commuter Rail Passengers\n"
      ],
      "metadata": {
        "id": "JrWmHAl7Swq7"
      }
    },
    {
      "cell_type": "code",
      "source": [
        "from scipy.stats import spearmanr\n",
        "\n",
        "#calculate Spearman Rank correlatio\n",
        "spearmanr([845,\t494,\t425,\t313,\t108,\t41], [39,\t291,\t142,\t103,\t33,\t38])"
      ],
      "metadata": {
        "colab": {
          "base_uri": "https://localhost:8080/"
        },
        "id": "om3I-yExSwJV",
        "outputId": "3ea0693a-d00d-4e08-88b5-c7996ca5260f"
      },
      "execution_count": 36,
      "outputs": [
        {
          "output_type": "execute_result",
          "data": {
            "text/plain": [
              "SpearmanrResult(correlation=0.6, pvalue=0.20799999999999982)"
            ]
          },
          "metadata": {},
          "execution_count": 36
        }
      ]
    },
    {
      "cell_type": "markdown",
      "source": [
        "Section 14-3"
      ],
      "metadata": {
        "id": "yPEFJkBtdTIU"
      }
    },
    {
      "cell_type": "markdown",
      "source": [
        "#Prizes in caramel corn boxes\n"
      ],
      "metadata": {
        "id": "l2fZQjX5l0LK"
      }
    },
    {
      "cell_type": "code",
      "source": [
        "# List all possible outcomes. They are 1,2,3,4 box\n",
        "possible_list = [1,2,3,4]\n",
        "\n",
        "# probabilities to each outcome list. Since each item is given an equal probability\n",
        "prob = 1/4\n",
        "\n",
        "# check the experiment outcomes\n",
        "df = pd.DataFrame(columns={'Trials', 'Tosses', 'Number_of_tosses'})\n",
        "\n",
        "number_of_trials = 40\n",
        "\n",
        "for i in range(1, number_of_trials+1):\n",
        "  number_of_tickets_per_trial = random.randint(1, random.randint(1,40))\n",
        "  choices_per_trial = [np.random.choice(possible_list, p=[prob, prob, prob, prob]) for i in range(number_of_tickets_per_trial)]\n",
        "\n",
        "  trial = {\"Trials\": i, \"Tosses\": [choices_per_trial], \"Number_of_tosses\": len(choices_per_trial) }\n",
        "  data=df.append(pd.DataFrame(trial), ignore_index=True)\n",
        "print(\"The trials conducted are in table below:\")\n",
        "display(data)\n",
        "\n",
        "# Compute the result \n",
        "avg_num_tickets = sum(data['Number_of_tosses'])/data.shape[0]\n",
        "\n",
        "# Summarize the results\n",
        "print(f\"Average number of boxes to be bought to get all 4 are {round(avg_num_tickets)} in {number_of_trials} trials\")\n"
      ],
      "metadata": {
        "id": "vRPQVmxBdSYD",
        "colab": {
          "base_uri": "https://localhost:8080/",
          "height": 117
        },
        "outputId": "17e1ec4a-5cfd-4a2a-801a-4f0767b28b03"
      },
      "execution_count": 56,
      "outputs": [
        {
          "output_type": "stream",
          "name": "stdout",
          "text": [
            "The trials conducted are in table below:\n"
          ]
        },
        {
          "output_type": "display_data",
          "data": {
            "text/plain": [
              "  Trials        Tosses Number_of_tosses\n",
              "0     40  [4, 2, 4, 3]                4"
            ],
            "text/html": [
              "\n",
              "  <div id=\"df-a2b794c7-d95b-4bca-86e4-5dd41309ee41\">\n",
              "    <div class=\"colab-df-container\">\n",
              "      <div>\n",
              "<style scoped>\n",
              "    .dataframe tbody tr th:only-of-type {\n",
              "        vertical-align: middle;\n",
              "    }\n",
              "\n",
              "    .dataframe tbody tr th {\n",
              "        vertical-align: top;\n",
              "    }\n",
              "\n",
              "    .dataframe thead th {\n",
              "        text-align: right;\n",
              "    }\n",
              "</style>\n",
              "<table border=\"1\" class=\"dataframe\">\n",
              "  <thead>\n",
              "    <tr style=\"text-align: right;\">\n",
              "      <th></th>\n",
              "      <th>Trials</th>\n",
              "      <th>Tosses</th>\n",
              "      <th>Number_of_tosses</th>\n",
              "    </tr>\n",
              "  </thead>\n",
              "  <tbody>\n",
              "    <tr>\n",
              "      <th>0</th>\n",
              "      <td>40</td>\n",
              "      <td>[4, 2, 4, 3]</td>\n",
              "      <td>4</td>\n",
              "    </tr>\n",
              "  </tbody>\n",
              "</table>\n",
              "</div>\n",
              "      <button class=\"colab-df-convert\" onclick=\"convertToInteractive('df-a2b794c7-d95b-4bca-86e4-5dd41309ee41')\"\n",
              "              title=\"Convert this dataframe to an interactive table.\"\n",
              "              style=\"display:none;\">\n",
              "        \n",
              "  <svg xmlns=\"http://www.w3.org/2000/svg\" height=\"24px\"viewBox=\"0 0 24 24\"\n",
              "       width=\"24px\">\n",
              "    <path d=\"M0 0h24v24H0V0z\" fill=\"none\"/>\n",
              "    <path d=\"M18.56 5.44l.94 2.06.94-2.06 2.06-.94-2.06-.94-.94-2.06-.94 2.06-2.06.94zm-11 1L8.5 8.5l.94-2.06 2.06-.94-2.06-.94L8.5 2.5l-.94 2.06-2.06.94zm10 10l.94 2.06.94-2.06 2.06-.94-2.06-.94-.94-2.06-.94 2.06-2.06.94z\"/><path d=\"M17.41 7.96l-1.37-1.37c-.4-.4-.92-.59-1.43-.59-.52 0-1.04.2-1.43.59L10.3 9.45l-7.72 7.72c-.78.78-.78 2.05 0 2.83L4 21.41c.39.39.9.59 1.41.59.51 0 1.02-.2 1.41-.59l7.78-7.78 2.81-2.81c.8-.78.8-2.07 0-2.86zM5.41 20L4 18.59l7.72-7.72 1.47 1.35L5.41 20z\"/>\n",
              "  </svg>\n",
              "      </button>\n",
              "      \n",
              "  <style>\n",
              "    .colab-df-container {\n",
              "      display:flex;\n",
              "      flex-wrap:wrap;\n",
              "      gap: 12px;\n",
              "    }\n",
              "\n",
              "    .colab-df-convert {\n",
              "      background-color: #E8F0FE;\n",
              "      border: none;\n",
              "      border-radius: 50%;\n",
              "      cursor: pointer;\n",
              "      display: none;\n",
              "      fill: #1967D2;\n",
              "      height: 32px;\n",
              "      padding: 0 0 0 0;\n",
              "      width: 32px;\n",
              "    }\n",
              "\n",
              "    .colab-df-convert:hover {\n",
              "      background-color: #E2EBFA;\n",
              "      box-shadow: 0px 1px 2px rgba(60, 64, 67, 0.3), 0px 1px 3px 1px rgba(60, 64, 67, 0.15);\n",
              "      fill: #174EA6;\n",
              "    }\n",
              "\n",
              "    [theme=dark] .colab-df-convert {\n",
              "      background-color: #3B4455;\n",
              "      fill: #D2E3FC;\n",
              "    }\n",
              "\n",
              "    [theme=dark] .colab-df-convert:hover {\n",
              "      background-color: #434B5C;\n",
              "      box-shadow: 0px 1px 3px 1px rgba(0, 0, 0, 0.15);\n",
              "      filter: drop-shadow(0px 1px 2px rgba(0, 0, 0, 0.3));\n",
              "      fill: #FFFFFF;\n",
              "    }\n",
              "  </style>\n",
              "\n",
              "      <script>\n",
              "        const buttonEl =\n",
              "          document.querySelector('#df-a2b794c7-d95b-4bca-86e4-5dd41309ee41 button.colab-df-convert');\n",
              "        buttonEl.style.display =\n",
              "          google.colab.kernel.accessAllowed ? 'block' : 'none';\n",
              "\n",
              "        async function convertToInteractive(key) {\n",
              "          const element = document.querySelector('#df-a2b794c7-d95b-4bca-86e4-5dd41309ee41');\n",
              "          const dataTable =\n",
              "            await google.colab.kernel.invokeFunction('convertToInteractive',\n",
              "                                                     [key], {});\n",
              "          if (!dataTable) return;\n",
              "\n",
              "          const docLinkHtml = 'Like what you see? Visit the ' +\n",
              "            '<a target=\"_blank\" href=https://colab.research.google.com/notebooks/data_table.ipynb>data table notebook</a>'\n",
              "            + ' to learn more about interactive tables.';\n",
              "          element.innerHTML = '';\n",
              "          dataTable['output_type'] = 'display_data';\n",
              "          await google.colab.output.renderOutput(dataTable, element);\n",
              "          const docLink = document.createElement('div');\n",
              "          docLink.innerHTML = docLinkHtml;\n",
              "          element.appendChild(docLink);\n",
              "        }\n",
              "      </script>\n",
              "    </div>\n",
              "  </div>\n",
              "  "
            ]
          },
          "metadata": {}
        },
        {
          "output_type": "stream",
          "name": "stdout",
          "text": [
            "Average number of boxes to be bought to get all 4 are 4 in 40 trials\n"
          ]
        }
      ]
    },
    {
      "cell_type": "markdown",
      "source": [
        "#Lottery Winner\n"
      ],
      "metadata": {
        "id": "UixVKA501SlJ"
      }
    },
    {
      "cell_type": "code",
      "source": [
        "import random\n",
        "# List all possible outcomes a,b and c \n",
        "proba_list = ['b', 'i', 'g']\n",
        "#probabilities to each outcome\n",
        "data_points = 3\n",
        "prob_b = 60/100\n",
        "prob_i = 30/100\n",
        "prob_g = 10/100\n",
        "\n",
        "#check the experiment outcomes\n",
        "df = pd.DataFrame(columns = {'Trials', 'Tosses', 'Number_of_tosses'})\n",
        "\n",
        "number_of_trials=30\n",
        "for i in range(1, number_of_trials+1):\n",
        "  number_of_tickets_per_trial = random.randint(1, random.randint(1,30))\n",
        "  choices_per_trial = [np.random.choice(['b', 'i', 'g'], p=[prob_b, prob_i, prob_g]) for i in range(number_of_tickets_per_trial)]\n",
        "  trial={\"Trials\": i, \"Tosses\": [choices_per_trial], \"Number_of_tosses\": len(choices_per_trial)}\n",
        "  df = df.append(pd.DataFrame(trial), ignore_index=True)\n",
        "display(df)"
      ],
      "metadata": {
        "colab": {
          "base_uri": "https://localhost:8080/",
          "height": 990
        },
        "id": "oLCboJokilQ3",
        "outputId": "e4c7f4d0-9922-46cd-a03e-88782cf7c85c"
      },
      "execution_count": 50,
      "outputs": [
        {
          "output_type": "display_data",
          "data": {
            "text/plain": [
              "   Trials                                             Tosses Number_of_tosses\n",
              "0       1   [i, b, i, b, b, b, i, b, b, g, b, b, b, g, b, b]               16\n",
              "1       2                                          [b, i, b]                3\n",
              "2       3                                       [b, g, b, i]                4\n",
              "3       4                                             [b, i]                2\n",
              "4       5  [i, b, b, b, b, g, i, b, g, b, b, i, i, i, i, ...               24\n",
              "5       6  [i, i, b, b, g, i, b, b, b, i, i, b, i, i, i, ...               22\n",
              "6       7  [i, b, i, b, g, b, b, i, b, b, i, b, b, g, i, ...               18\n",
              "7       8  [b, b, b, g, b, b, b, b, b, b, g, b, b, i, i, ...               18\n",
              "8       9                  [b, b, i, b, i, b, i, b, b, i, b]               11\n",
              "9      10                        [b, b, b, i, i, b, g, i, b]                9\n",
              "10     11                                       [i, b, i, i]                4\n",
              "11     12                                                [b]                1\n",
              "12     13  [b, b, b, g, g, b, b, b, b, b, b, b, i, b, i, ...               21\n",
              "13     14                                                [b]                1\n",
              "14     15      [b, b, b, i, i, b, b, b, i, b, b, b, b, g, b]               15\n",
              "15     16         [b, b, b, b, g, g, b, i, g, b, b, g, b, i]               14\n",
              "16     17                           [b, b, i, b, b, g, b, b]                8\n",
              "17     18                                                [b]                1\n",
              "18     19                                    [i, i, b, b, b]                5\n",
              "19     20                                                [b]                1\n",
              "20     21                                             [i, g]                2\n",
              "21     22  [b, i, b, i, i, i, b, b, b, b, b, b, i, i, i, ...               19\n",
              "22     23            [b, i, b, i, b, b, i, b, i, i, i, b, i]               13\n",
              "23     24  [g, b, b, g, i, b, b, b, b, b, b, b, b, b, i, ...               23\n",
              "24     25  [b, b, b, g, i, i, b, b, i, i, i, i, b, b, b, ...               22\n",
              "25     26                                          [b, b, b]                3\n",
              "26     27            [b, b, b, b, i, b, b, b, b, b, i, b, b]               13\n",
              "27     28                                             [i, b]                2\n",
              "28     29                                          [b, i, b]                3\n",
              "29     30                     [i, b, b, i, i, i, b, b, b, b]               10"
            ],
            "text/html": [
              "\n",
              "  <div id=\"df-6879dd6e-7d67-4bf5-a291-981d7ad24181\">\n",
              "    <div class=\"colab-df-container\">\n",
              "      <div>\n",
              "<style scoped>\n",
              "    .dataframe tbody tr th:only-of-type {\n",
              "        vertical-align: middle;\n",
              "    }\n",
              "\n",
              "    .dataframe tbody tr th {\n",
              "        vertical-align: top;\n",
              "    }\n",
              "\n",
              "    .dataframe thead th {\n",
              "        text-align: right;\n",
              "    }\n",
              "</style>\n",
              "<table border=\"1\" class=\"dataframe\">\n",
              "  <thead>\n",
              "    <tr style=\"text-align: right;\">\n",
              "      <th></th>\n",
              "      <th>Trials</th>\n",
              "      <th>Tosses</th>\n",
              "      <th>Number_of_tosses</th>\n",
              "    </tr>\n",
              "  </thead>\n",
              "  <tbody>\n",
              "    <tr>\n",
              "      <th>0</th>\n",
              "      <td>1</td>\n",
              "      <td>[i, b, i, b, b, b, i, b, b, g, b, b, b, g, b, b]</td>\n",
              "      <td>16</td>\n",
              "    </tr>\n",
              "    <tr>\n",
              "      <th>1</th>\n",
              "      <td>2</td>\n",
              "      <td>[b, i, b]</td>\n",
              "      <td>3</td>\n",
              "    </tr>\n",
              "    <tr>\n",
              "      <th>2</th>\n",
              "      <td>3</td>\n",
              "      <td>[b, g, b, i]</td>\n",
              "      <td>4</td>\n",
              "    </tr>\n",
              "    <tr>\n",
              "      <th>3</th>\n",
              "      <td>4</td>\n",
              "      <td>[b, i]</td>\n",
              "      <td>2</td>\n",
              "    </tr>\n",
              "    <tr>\n",
              "      <th>4</th>\n",
              "      <td>5</td>\n",
              "      <td>[i, b, b, b, b, g, i, b, g, b, b, i, i, i, i, ...</td>\n",
              "      <td>24</td>\n",
              "    </tr>\n",
              "    <tr>\n",
              "      <th>5</th>\n",
              "      <td>6</td>\n",
              "      <td>[i, i, b, b, g, i, b, b, b, i, i, b, i, i, i, ...</td>\n",
              "      <td>22</td>\n",
              "    </tr>\n",
              "    <tr>\n",
              "      <th>6</th>\n",
              "      <td>7</td>\n",
              "      <td>[i, b, i, b, g, b, b, i, b, b, i, b, b, g, i, ...</td>\n",
              "      <td>18</td>\n",
              "    </tr>\n",
              "    <tr>\n",
              "      <th>7</th>\n",
              "      <td>8</td>\n",
              "      <td>[b, b, b, g, b, b, b, b, b, b, g, b, b, i, i, ...</td>\n",
              "      <td>18</td>\n",
              "    </tr>\n",
              "    <tr>\n",
              "      <th>8</th>\n",
              "      <td>9</td>\n",
              "      <td>[b, b, i, b, i, b, i, b, b, i, b]</td>\n",
              "      <td>11</td>\n",
              "    </tr>\n",
              "    <tr>\n",
              "      <th>9</th>\n",
              "      <td>10</td>\n",
              "      <td>[b, b, b, i, i, b, g, i, b]</td>\n",
              "      <td>9</td>\n",
              "    </tr>\n",
              "    <tr>\n",
              "      <th>10</th>\n",
              "      <td>11</td>\n",
              "      <td>[i, b, i, i]</td>\n",
              "      <td>4</td>\n",
              "    </tr>\n",
              "    <tr>\n",
              "      <th>11</th>\n",
              "      <td>12</td>\n",
              "      <td>[b]</td>\n",
              "      <td>1</td>\n",
              "    </tr>\n",
              "    <tr>\n",
              "      <th>12</th>\n",
              "      <td>13</td>\n",
              "      <td>[b, b, b, g, g, b, b, b, b, b, b, b, i, b, i, ...</td>\n",
              "      <td>21</td>\n",
              "    </tr>\n",
              "    <tr>\n",
              "      <th>13</th>\n",
              "      <td>14</td>\n",
              "      <td>[b]</td>\n",
              "      <td>1</td>\n",
              "    </tr>\n",
              "    <tr>\n",
              "      <th>14</th>\n",
              "      <td>15</td>\n",
              "      <td>[b, b, b, i, i, b, b, b, i, b, b, b, b, g, b]</td>\n",
              "      <td>15</td>\n",
              "    </tr>\n",
              "    <tr>\n",
              "      <th>15</th>\n",
              "      <td>16</td>\n",
              "      <td>[b, b, b, b, g, g, b, i, g, b, b, g, b, i]</td>\n",
              "      <td>14</td>\n",
              "    </tr>\n",
              "    <tr>\n",
              "      <th>16</th>\n",
              "      <td>17</td>\n",
              "      <td>[b, b, i, b, b, g, b, b]</td>\n",
              "      <td>8</td>\n",
              "    </tr>\n",
              "    <tr>\n",
              "      <th>17</th>\n",
              "      <td>18</td>\n",
              "      <td>[b]</td>\n",
              "      <td>1</td>\n",
              "    </tr>\n",
              "    <tr>\n",
              "      <th>18</th>\n",
              "      <td>19</td>\n",
              "      <td>[i, i, b, b, b]</td>\n",
              "      <td>5</td>\n",
              "    </tr>\n",
              "    <tr>\n",
              "      <th>19</th>\n",
              "      <td>20</td>\n",
              "      <td>[b]</td>\n",
              "      <td>1</td>\n",
              "    </tr>\n",
              "    <tr>\n",
              "      <th>20</th>\n",
              "      <td>21</td>\n",
              "      <td>[i, g]</td>\n",
              "      <td>2</td>\n",
              "    </tr>\n",
              "    <tr>\n",
              "      <th>21</th>\n",
              "      <td>22</td>\n",
              "      <td>[b, i, b, i, i, i, b, b, b, b, b, b, i, i, i, ...</td>\n",
              "      <td>19</td>\n",
              "    </tr>\n",
              "    <tr>\n",
              "      <th>22</th>\n",
              "      <td>23</td>\n",
              "      <td>[b, i, b, i, b, b, i, b, i, i, i, b, i]</td>\n",
              "      <td>13</td>\n",
              "    </tr>\n",
              "    <tr>\n",
              "      <th>23</th>\n",
              "      <td>24</td>\n",
              "      <td>[g, b, b, g, i, b, b, b, b, b, b, b, b, b, i, ...</td>\n",
              "      <td>23</td>\n",
              "    </tr>\n",
              "    <tr>\n",
              "      <th>24</th>\n",
              "      <td>25</td>\n",
              "      <td>[b, b, b, g, i, i, b, b, i, i, i, i, b, b, b, ...</td>\n",
              "      <td>22</td>\n",
              "    </tr>\n",
              "    <tr>\n",
              "      <th>25</th>\n",
              "      <td>26</td>\n",
              "      <td>[b, b, b]</td>\n",
              "      <td>3</td>\n",
              "    </tr>\n",
              "    <tr>\n",
              "      <th>26</th>\n",
              "      <td>27</td>\n",
              "      <td>[b, b, b, b, i, b, b, b, b, b, i, b, b]</td>\n",
              "      <td>13</td>\n",
              "    </tr>\n",
              "    <tr>\n",
              "      <th>27</th>\n",
              "      <td>28</td>\n",
              "      <td>[i, b]</td>\n",
              "      <td>2</td>\n",
              "    </tr>\n",
              "    <tr>\n",
              "      <th>28</th>\n",
              "      <td>29</td>\n",
              "      <td>[b, i, b]</td>\n",
              "      <td>3</td>\n",
              "    </tr>\n",
              "    <tr>\n",
              "      <th>29</th>\n",
              "      <td>30</td>\n",
              "      <td>[i, b, b, i, i, i, b, b, b, b]</td>\n",
              "      <td>10</td>\n",
              "    </tr>\n",
              "  </tbody>\n",
              "</table>\n",
              "</div>\n",
              "      <button class=\"colab-df-convert\" onclick=\"convertToInteractive('df-6879dd6e-7d67-4bf5-a291-981d7ad24181')\"\n",
              "              title=\"Convert this dataframe to an interactive table.\"\n",
              "              style=\"display:none;\">\n",
              "        \n",
              "  <svg xmlns=\"http://www.w3.org/2000/svg\" height=\"24px\"viewBox=\"0 0 24 24\"\n",
              "       width=\"24px\">\n",
              "    <path d=\"M0 0h24v24H0V0z\" fill=\"none\"/>\n",
              "    <path d=\"M18.56 5.44l.94 2.06.94-2.06 2.06-.94-2.06-.94-.94-2.06-.94 2.06-2.06.94zm-11 1L8.5 8.5l.94-2.06 2.06-.94-2.06-.94L8.5 2.5l-.94 2.06-2.06.94zm10 10l.94 2.06.94-2.06 2.06-.94-2.06-.94-.94-2.06-.94 2.06-2.06.94z\"/><path d=\"M17.41 7.96l-1.37-1.37c-.4-.4-.92-.59-1.43-.59-.52 0-1.04.2-1.43.59L10.3 9.45l-7.72 7.72c-.78.78-.78 2.05 0 2.83L4 21.41c.39.39.9.59 1.41.59.51 0 1.02-.2 1.41-.59l7.78-7.78 2.81-2.81c.8-.78.8-2.07 0-2.86zM5.41 20L4 18.59l7.72-7.72 1.47 1.35L5.41 20z\"/>\n",
              "  </svg>\n",
              "      </button>\n",
              "      \n",
              "  <style>\n",
              "    .colab-df-container {\n",
              "      display:flex;\n",
              "      flex-wrap:wrap;\n",
              "      gap: 12px;\n",
              "    }\n",
              "\n",
              "    .colab-df-convert {\n",
              "      background-color: #E8F0FE;\n",
              "      border: none;\n",
              "      border-radius: 50%;\n",
              "      cursor: pointer;\n",
              "      display: none;\n",
              "      fill: #1967D2;\n",
              "      height: 32px;\n",
              "      padding: 0 0 0 0;\n",
              "      width: 32px;\n",
              "    }\n",
              "\n",
              "    .colab-df-convert:hover {\n",
              "      background-color: #E2EBFA;\n",
              "      box-shadow: 0px 1px 2px rgba(60, 64, 67, 0.3), 0px 1px 3px 1px rgba(60, 64, 67, 0.15);\n",
              "      fill: #174EA6;\n",
              "    }\n",
              "\n",
              "    [theme=dark] .colab-df-convert {\n",
              "      background-color: #3B4455;\n",
              "      fill: #D2E3FC;\n",
              "    }\n",
              "\n",
              "    [theme=dark] .colab-df-convert:hover {\n",
              "      background-color: #434B5C;\n",
              "      box-shadow: 0px 1px 3px 1px rgba(0, 0, 0, 0.15);\n",
              "      filter: drop-shadow(0px 1px 2px rgba(0, 0, 0, 0.3));\n",
              "      fill: #FFFFFF;\n",
              "    }\n",
              "  </style>\n",
              "\n",
              "      <script>\n",
              "        const buttonEl =\n",
              "          document.querySelector('#df-6879dd6e-7d67-4bf5-a291-981d7ad24181 button.colab-df-convert');\n",
              "        buttonEl.style.display =\n",
              "          google.colab.kernel.accessAllowed ? 'block' : 'none';\n",
              "\n",
              "        async function convertToInteractive(key) {\n",
              "          const element = document.querySelector('#df-6879dd6e-7d67-4bf5-a291-981d7ad24181');\n",
              "          const dataTable =\n",
              "            await google.colab.kernel.invokeFunction('convertToInteractive',\n",
              "                                                     [key], {});\n",
              "          if (!dataTable) return;\n",
              "\n",
              "          const docLinkHtml = 'Like what you see? Visit the ' +\n",
              "            '<a target=\"_blank\" href=https://colab.research.google.com/notebooks/data_table.ipynb>data table notebook</a>'\n",
              "            + ' to learn more about interactive tables.';\n",
              "          element.innerHTML = '';\n",
              "          dataTable['output_type'] = 'display_data';\n",
              "          await google.colab.output.renderOutput(dataTable, element);\n",
              "          const docLink = document.createElement('div');\n",
              "          docLink.innerHTML = docLinkHtml;\n",
              "          element.appendChild(docLink);\n",
              "        }\n",
              "      </script>\n",
              "    </div>\n",
              "  </div>\n",
              "  "
            ]
          },
          "metadata": {}
        }
      ]
    },
    {
      "cell_type": "code",
      "source": [
        "#Compute the result \n",
        "avg_num_tickets = sum(df['Number_of_tosses'])/df.shape[0]\n",
        "# Summarize the results\n",
        "print(f\"Average number of tickets a person must buy is {round(avg_num_tickets)} in {number_of_trials} trials\")\n"
      ],
      "metadata": {
        "colab": {
          "base_uri": "https://localhost:8080/"
        },
        "id": "QHY3Ny1ArW6j",
        "outputId": "2638dc68-6a4a-4542-8e5b-032ad6031fad"
      },
      "execution_count": 51,
      "outputs": [
        {
          "output_type": "stream",
          "name": "stdout",
          "text": [
            "Average number of tickets a person must buy is 10 in 30 trials\n"
          ]
        }
      ]
    }
  ]
}