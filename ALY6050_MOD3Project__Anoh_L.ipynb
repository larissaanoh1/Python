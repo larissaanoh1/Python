{
  "nbformat": 4,
  "nbformat_minor": 0,
  "metadata": {
    "colab": {
      "provenance": []
    },
    "kernelspec": {
      "name": "python3",
      "display_name": "Python 3"
    },
    "language_info": {
      "name": "python"
    }
  },
  "cells": [
    {
      "cell_type": "code",
      "source": [
        "!pip install yfinance"
      ],
      "metadata": {
        "colab": {
          "base_uri": "https://localhost:8080/"
        },
        "id": "nXC3UIjSYxMu",
        "outputId": "440f8121-f97e-4271-ef81-ecd0d5344d46"
      },
      "execution_count": 3,
      "outputs": [
        {
          "output_type": "stream",
          "name": "stdout",
          "text": [
            "Looking in indexes: https://pypi.org/simple, https://us-python.pkg.dev/colab-wheels/public/simple/\n",
            "Collecting yfinance\n",
            "  Downloading yfinance-0.2.12-py2.py3-none-any.whl (59 kB)\n",
            "\u001b[2K     \u001b[90m━━━━━━━━━━━━━━━━━━━━━━━━━━━━━━━━━━━━━━━━\u001b[0m \u001b[32m59.2/59.2 KB\u001b[0m \u001b[31m8.8 MB/s\u001b[0m eta \u001b[36m0:00:00\u001b[0m\n",
            "\u001b[?25hCollecting html5lib>=1.1\n",
            "  Downloading html5lib-1.1-py2.py3-none-any.whl (112 kB)\n",
            "\u001b[2K     \u001b[90m━━━━━━━━━━━━━━━━━━━━━━━━━━━━━━━━━━━━━━\u001b[0m \u001b[32m112.2/112.2 KB\u001b[0m \u001b[31m15.8 MB/s\u001b[0m eta \u001b[36m0:00:00\u001b[0m\n",
            "\u001b[?25hRequirement already satisfied: pandas>=1.3.0 in /usr/local/lib/python3.9/dist-packages (from yfinance) (1.4.4)\n",
            "Requirement already satisfied: multitasking>=0.0.7 in /usr/local/lib/python3.9/dist-packages (from yfinance) (0.0.11)\n",
            "Requirement already satisfied: numpy>=1.16.5 in /usr/local/lib/python3.9/dist-packages (from yfinance) (1.22.4)\n",
            "Collecting appdirs>=1.4.4\n",
            "  Downloading appdirs-1.4.4-py2.py3-none-any.whl (9.6 kB)\n",
            "Collecting requests>=2.26\n",
            "  Downloading requests-2.28.2-py3-none-any.whl (62 kB)\n",
            "\u001b[2K     \u001b[90m━━━━━━━━━━━━━━━━━━━━━━━━━━━━━━━━━━━━━━━━\u001b[0m \u001b[32m62.8/62.8 KB\u001b[0m \u001b[31m8.0 MB/s\u001b[0m eta \u001b[36m0:00:00\u001b[0m\n",
            "\u001b[?25hCollecting frozendict>=2.3.4\n",
            "  Downloading frozendict-2.3.5-cp39-cp39-manylinux_2_17_x86_64.manylinux2014_x86_64.whl (112 kB)\n",
            "\u001b[2K     \u001b[90m━━━━━━━━━━━━━━━━━━━━━━━━━━━━━━━━━━━━━━\u001b[0m \u001b[32m112.8/112.8 KB\u001b[0m \u001b[31m16.7 MB/s\u001b[0m eta \u001b[36m0:00:00\u001b[0m\n",
            "\u001b[?25hCollecting cryptography>=3.3.2\n",
            "  Downloading cryptography-39.0.2-cp36-abi3-manylinux_2_28_x86_64.whl (4.2 MB)\n",
            "\u001b[2K     \u001b[90m━━━━━━━━━━━━━━━━━━━━━━━━━━━━━━━━━━━━━━━━\u001b[0m \u001b[32m4.2/4.2 MB\u001b[0m \u001b[31m114.6 MB/s\u001b[0m eta \u001b[36m0:00:00\u001b[0m\n",
            "\u001b[?25hRequirement already satisfied: pytz>=2022.5 in /usr/local/lib/python3.9/dist-packages (from yfinance) (2022.7.1)\n",
            "Requirement already satisfied: lxml>=4.9.1 in /usr/local/lib/python3.9/dist-packages (from yfinance) (4.9.2)\n",
            "Collecting beautifulsoup4>=4.11.1\n",
            "  Downloading beautifulsoup4-4.11.2-py3-none-any.whl (129 kB)\n",
            "\u001b[2K     \u001b[90m━━━━━━━━━━━━━━━━━━━━━━━━━━━━━━━━━━━━━━\u001b[0m \u001b[32m129.4/129.4 KB\u001b[0m \u001b[31m17.9 MB/s\u001b[0m eta \u001b[36m0:00:00\u001b[0m\n",
            "\u001b[?25hRequirement already satisfied: soupsieve>1.2 in /usr/local/lib/python3.9/dist-packages (from beautifulsoup4>=4.11.1->yfinance) (2.4)\n",
            "Requirement already satisfied: cffi>=1.12 in /usr/local/lib/python3.9/dist-packages (from cryptography>=3.3.2->yfinance) (1.15.1)\n",
            "Requirement already satisfied: webencodings in /usr/local/lib/python3.9/dist-packages (from html5lib>=1.1->yfinance) (0.5.1)\n",
            "Requirement already satisfied: six>=1.9 in /usr/local/lib/python3.9/dist-packages (from html5lib>=1.1->yfinance) (1.15.0)\n",
            "Requirement already satisfied: python-dateutil>=2.8.1 in /usr/local/lib/python3.9/dist-packages (from pandas>=1.3.0->yfinance) (2.8.2)\n",
            "Requirement already satisfied: certifi>=2017.4.17 in /usr/local/lib/python3.9/dist-packages (from requests>=2.26->yfinance) (2022.12.7)\n",
            "Collecting charset-normalizer<4,>=2\n",
            "  Downloading charset_normalizer-3.1.0-cp39-cp39-manylinux_2_17_x86_64.manylinux2014_x86_64.whl (199 kB)\n",
            "\u001b[2K     \u001b[90m━━━━━━━━━━━━━━━━━━━━━━━━━━━━━━━━━━━━━━\u001b[0m \u001b[32m199.2/199.2 KB\u001b[0m \u001b[31m22.7 MB/s\u001b[0m eta \u001b[36m0:00:00\u001b[0m\n",
            "\u001b[?25hRequirement already satisfied: urllib3<1.27,>=1.21.1 in /usr/local/lib/python3.9/dist-packages (from requests>=2.26->yfinance) (1.26.15)\n",
            "Requirement already satisfied: idna<4,>=2.5 in /usr/local/lib/python3.9/dist-packages (from requests>=2.26->yfinance) (2.10)\n",
            "Requirement already satisfied: pycparser in /usr/local/lib/python3.9/dist-packages (from cffi>=1.12->cryptography>=3.3.2->yfinance) (2.21)\n",
            "Installing collected packages: appdirs, html5lib, frozendict, charset-normalizer, beautifulsoup4, requests, cryptography, yfinance\n",
            "  Attempting uninstall: html5lib\n",
            "    Found existing installation: html5lib 1.0.1\n",
            "    Uninstalling html5lib-1.0.1:\n",
            "      Successfully uninstalled html5lib-1.0.1\n",
            "  Attempting uninstall: beautifulsoup4\n",
            "    Found existing installation: beautifulsoup4 4.9.3\n",
            "    Uninstalling beautifulsoup4-4.9.3:\n",
            "      Successfully uninstalled beautifulsoup4-4.9.3\n",
            "  Attempting uninstall: requests\n",
            "    Found existing installation: requests 2.25.1\n",
            "    Uninstalling requests-2.25.1:\n",
            "      Successfully uninstalled requests-2.25.1\n",
            "Successfully installed appdirs-1.4.4 beautifulsoup4-4.11.2 charset-normalizer-3.1.0 cryptography-39.0.2 frozendict-2.3.5 html5lib-1.1 requests-2.28.2 yfinance-0.2.12\n"
          ]
        }
      ]
    },
    {
      "cell_type": "code",
      "source": [
        "!pip install pandas-datareader"
      ],
      "metadata": {
        "colab": {
          "base_uri": "https://localhost:8080/"
        },
        "id": "poGd7wItzcdf",
        "outputId": "fab710e6-c07e-4a97-8678-bedb7506ef90"
      },
      "execution_count": null,
      "outputs": [
        {
          "output_type": "stream",
          "name": "stdout",
          "text": [
            "Looking in indexes: https://pypi.org/simple, https://us-python.pkg.dev/colab-wheels/public/simple/\n",
            "Requirement already satisfied: pandas-datareader in /usr/local/lib/python3.9/dist-packages (0.10.0)\n",
            "Requirement already satisfied: requests>=2.19.0 in /usr/local/lib/python3.9/dist-packages (from pandas-datareader) (2.28.2)\n",
            "Requirement already satisfied: lxml in /usr/local/lib/python3.9/dist-packages (from pandas-datareader) (4.9.2)\n",
            "Requirement already satisfied: pandas>=0.23 in /usr/local/lib/python3.9/dist-packages (from pandas-datareader) (1.4.4)\n",
            "Requirement already satisfied: pytz>=2020.1 in /usr/local/lib/python3.9/dist-packages (from pandas>=0.23->pandas-datareader) (2022.7.1)\n",
            "Requirement already satisfied: numpy>=1.18.5 in /usr/local/lib/python3.9/dist-packages (from pandas>=0.23->pandas-datareader) (1.22.4)\n",
            "Requirement already satisfied: python-dateutil>=2.8.1 in /usr/local/lib/python3.9/dist-packages (from pandas>=0.23->pandas-datareader) (2.8.2)\n",
            "Requirement already satisfied: urllib3<1.27,>=1.21.1 in /usr/local/lib/python3.9/dist-packages (from requests>=2.19.0->pandas-datareader) (1.26.15)\n",
            "Requirement already satisfied: charset-normalizer<4,>=2 in /usr/local/lib/python3.9/dist-packages (from requests>=2.19.0->pandas-datareader) (3.1.0)\n",
            "Requirement already satisfied: idna<4,>=2.5 in /usr/local/lib/python3.9/dist-packages (from requests>=2.19.0->pandas-datareader) (2.10)\n",
            "Requirement already satisfied: certifi>=2017.4.17 in /usr/local/lib/python3.9/dist-packages (from requests>=2.19.0->pandas-datareader) (2022.12.7)\n",
            "Requirement already satisfied: six>=1.5 in /usr/local/lib/python3.9/dist-packages (from python-dateutil>=2.8.1->pandas>=0.23->pandas-datareader) (1.15.0)\n"
          ]
        }
      ]
    },
    {
      "cell_type": "code",
      "source": [
        "pip install statsmodels"
      ],
      "metadata": {
        "colab": {
          "base_uri": "https://localhost:8080/"
        },
        "id": "Hb5IqLP0jfMt",
        "outputId": "f5c40584-83a5-4310-a2df-ccaa9a8f61a2"
      },
      "execution_count": null,
      "outputs": [
        {
          "output_type": "stream",
          "name": "stdout",
          "text": [
            "Looking in indexes: https://pypi.org/simple, https://us-python.pkg.dev/colab-wheels/public/simple/\n",
            "Requirement already satisfied: statsmodels in /usr/local/lib/python3.9/dist-packages (0.13.5)\n",
            "Requirement already satisfied: pandas>=0.25 in /usr/local/lib/python3.9/dist-packages (from statsmodels) (1.4.4)\n",
            "Requirement already satisfied: scipy>=1.3 in /usr/local/lib/python3.9/dist-packages (from statsmodels) (1.10.1)\n",
            "Requirement already satisfied: numpy>=1.17 in /usr/local/lib/python3.9/dist-packages (from statsmodels) (1.22.4)\n",
            "Requirement already satisfied: patsy>=0.5.2 in /usr/local/lib/python3.9/dist-packages (from statsmodels) (0.5.3)\n",
            "Requirement already satisfied: packaging>=21.3 in /usr/local/lib/python3.9/dist-packages (from statsmodels) (23.0)\n",
            "Requirement already satisfied: pytz>=2020.1 in /usr/local/lib/python3.9/dist-packages (from pandas>=0.25->statsmodels) (2022.7.1)\n",
            "Requirement already satisfied: python-dateutil>=2.8.1 in /usr/local/lib/python3.9/dist-packages (from pandas>=0.25->statsmodels) (2.8.2)\n",
            "Requirement already satisfied: six in /usr/local/lib/python3.9/dist-packages (from patsy>=0.5.2->statsmodels) (1.15.0)\n"
          ]
        }
      ]
    },
    {
      "cell_type": "code",
      "source": [
        "!pip install scikit-learn"
      ],
      "metadata": {
        "colab": {
          "base_uri": "https://localhost:8080/"
        },
        "id": "IHUiLdGVjm9z",
        "outputId": "45a46058-a8c9-4adb-af9d-65af9a307cf9"
      },
      "execution_count": null,
      "outputs": [
        {
          "output_type": "stream",
          "name": "stdout",
          "text": [
            "Looking in indexes: https://pypi.org/simple, https://us-python.pkg.dev/colab-wheels/public/simple/\n",
            "Requirement already satisfied: scikit-learn in /usr/local/lib/python3.9/dist-packages (1.2.2)\n",
            "Requirement already satisfied: numpy>=1.17.3 in /usr/local/lib/python3.9/dist-packages (from scikit-learn) (1.22.4)\n",
            "Requirement already satisfied: threadpoolctl>=2.0.0 in /usr/local/lib/python3.9/dist-packages (from scikit-learn) (3.1.0)\n",
            "Requirement already satisfied: joblib>=1.1.1 in /usr/local/lib/python3.9/dist-packages (from scikit-learn) (1.1.1)\n",
            "Requirement already satisfied: scipy>=1.3.2 in /usr/local/lib/python3.9/dist-packages (from scikit-learn) (1.10.1)\n"
          ]
        }
      ]
    },
    {
      "cell_type": "code",
      "execution_count": 4,
      "metadata": {
        "id": "tWaArNmaUHtC"
      },
      "outputs": [],
      "source": [
        "# Importing Packages\n",
        "import yfinance as yf\n",
        "import numpy as np\n",
        "from random import random\n",
        "import matplotlib.pyplot as plt\n",
        "from scipy.stats import norm\n",
        "from statsmodels.tsa.api import ExponentialSmoothing, SimpleExpSmoothing, Holt\n",
        "from statsmodels.tsa.api import SimpleExpSmoothing\n",
        "from statsmodels.tsa.api import Holt"
      ]
    },
    {
      "cell_type": "markdown",
      "source": [
        "consisting of 252 market days"
      ],
      "metadata": {
        "id": "P5NRIknFMxSx"
      }
    },
    {
      "cell_type": "code",
      "source": [
        "import datetime\n",
        "# Get the current date\n",
        "current_date = datetime.today()\n",
        "end_date = current_date.strftime('%Y-%m-%d')\n",
        "start_date = (current_date - timedelta(days=252)).strftime('%Y-%m-%d')\n",
        "tesla_df = yf.download('TSLA', start=start_date, end=end_date)\n",
        "amazon_df = yf.download('AMZN', start=start_date, end=end_date)"
      ],
      "metadata": {
        "colab": {
          "base_uri": "https://localhost:8080/"
        },
        "id": "9KehEQEHMORz",
        "outputId": "1622c96c-929c-420b-84ce-d37094f16a91"
      },
      "execution_count": 105,
      "outputs": [
        {
          "output_type": "stream",
          "name": "stdout",
          "text": [
            "[*********************100%***********************]  1 of 1 completed\n",
            "[*********************100%***********************]  1 of 1 completed\n"
          ]
        }
      ]
    },
    {
      "cell_type": "code",
      "source": [
        "import yfinance as yahooFinance\n",
        " \n",
        "# in order to specify start date and\n",
        "# end date we need datetime package\n",
        "import datetime\n",
        " \n",
        "# startDate , as per our convenience we can modify\n",
        "startDate = datetime.datetime(2022, 1, 1)\n",
        " \n",
        "# endDate , as per our convenience we can modify\n",
        "endDate = datetime.datetime(2022, 12, 20)\n",
        "#Get Tesla historical stock prices\n",
        "data_tesla = yahooFinance.Ticker(\"TSLA\")\n",
        " \n",
        " # Get Amazon historical stock prices\n",
        "data_amazon = yahooFinance.Ticker(\"AMZN\")\n",
        "\n",
        "\n",
        "#Get Tesla historical stock prices\n",
        "tesla = data_tesla.history(start=startDate,\n",
        "                                     end=endDate)\n",
        " \n",
        " # Get Amazon historical stock prices\n",
        "amazon = data_tesla.history(start=startDate,\n",
        "                                     end=endDate)\n",
        "\n",
        "\n",
        "# pass the parameters as the taken dates for start and end\n",
        "tesla\n"
      ],
      "metadata": {
        "colab": {
          "base_uri": "https://localhost:8080/",
          "height": 455
        },
        "id": "_jjAkJ4Q0lPR",
        "outputId": "957b1962-ea91-4ccf-812a-7b8dd1c9c5c0"
      },
      "execution_count": 6,
      "outputs": [
        {
          "output_type": "execute_result",
          "data": {
            "text/plain": [
              "                                 Open        High         Low       Close  \\\n",
              "Date                                                                        \n",
              "2022-01-03 00:00:00-05:00  382.583344  400.356659  378.679993  399.926666   \n",
              "2022-01-04 00:00:00-05:00  396.516663  402.666656  374.350006  383.196655   \n",
              "2022-01-05 00:00:00-05:00  382.216675  390.113342  360.336670  362.706665   \n",
              "2022-01-06 00:00:00-05:00  359.000000  362.666656  340.166656  354.899994   \n",
              "2022-01-07 00:00:00-05:00  360.123322  360.309998  336.666656  342.320007   \n",
              "...                               ...         ...         ...         ...   \n",
              "2022-12-13 00:00:00-05:00  174.869995  175.050003  156.910004  160.949997   \n",
              "2022-12-14 00:00:00-05:00  159.250000  161.619995  155.309998  156.800003   \n",
              "2022-12-15 00:00:00-05:00  153.440002  160.929993  153.279999  157.669998   \n",
              "2022-12-16 00:00:00-05:00  159.639999  160.990005  150.039993  150.229996   \n",
              "2022-12-19 00:00:00-05:00  154.000000  155.250000  145.820007  149.869995   \n",
              "\n",
              "                              Volume  Dividends  Stock Splits  \n",
              "Date                                                           \n",
              "2022-01-03 00:00:00-05:00  103931400        0.0           0.0  \n",
              "2022-01-04 00:00:00-05:00  100248300        0.0           0.0  \n",
              "2022-01-05 00:00:00-05:00   80119800        0.0           0.0  \n",
              "2022-01-06 00:00:00-05:00   90336600        0.0           0.0  \n",
              "2022-01-07 00:00:00-05:00   84164700        0.0           0.0  \n",
              "...                              ...        ...           ...  \n",
              "2022-12-13 00:00:00-05:00  175862700        0.0           0.0  \n",
              "2022-12-14 00:00:00-05:00  140682300        0.0           0.0  \n",
              "2022-12-15 00:00:00-05:00  122334500        0.0           0.0  \n",
              "2022-12-16 00:00:00-05:00  139032200        0.0           0.0  \n",
              "2022-12-19 00:00:00-05:00  139390600        0.0           0.0  \n",
              "\n",
              "[243 rows x 7 columns]"
            ],
            "text/html": [
              "\n",
              "  <div id=\"df-45af9872-2938-4be7-8806-3bed578f3832\">\n",
              "    <div class=\"colab-df-container\">\n",
              "      <div>\n",
              "<style scoped>\n",
              "    .dataframe tbody tr th:only-of-type {\n",
              "        vertical-align: middle;\n",
              "    }\n",
              "\n",
              "    .dataframe tbody tr th {\n",
              "        vertical-align: top;\n",
              "    }\n",
              "\n",
              "    .dataframe thead th {\n",
              "        text-align: right;\n",
              "    }\n",
              "</style>\n",
              "<table border=\"1\" class=\"dataframe\">\n",
              "  <thead>\n",
              "    <tr style=\"text-align: right;\">\n",
              "      <th></th>\n",
              "      <th>Open</th>\n",
              "      <th>High</th>\n",
              "      <th>Low</th>\n",
              "      <th>Close</th>\n",
              "      <th>Volume</th>\n",
              "      <th>Dividends</th>\n",
              "      <th>Stock Splits</th>\n",
              "    </tr>\n",
              "    <tr>\n",
              "      <th>Date</th>\n",
              "      <th></th>\n",
              "      <th></th>\n",
              "      <th></th>\n",
              "      <th></th>\n",
              "      <th></th>\n",
              "      <th></th>\n",
              "      <th></th>\n",
              "    </tr>\n",
              "  </thead>\n",
              "  <tbody>\n",
              "    <tr>\n",
              "      <th>2022-01-03 00:00:00-05:00</th>\n",
              "      <td>382.583344</td>\n",
              "      <td>400.356659</td>\n",
              "      <td>378.679993</td>\n",
              "      <td>399.926666</td>\n",
              "      <td>103931400</td>\n",
              "      <td>0.0</td>\n",
              "      <td>0.0</td>\n",
              "    </tr>\n",
              "    <tr>\n",
              "      <th>2022-01-04 00:00:00-05:00</th>\n",
              "      <td>396.516663</td>\n",
              "      <td>402.666656</td>\n",
              "      <td>374.350006</td>\n",
              "      <td>383.196655</td>\n",
              "      <td>100248300</td>\n",
              "      <td>0.0</td>\n",
              "      <td>0.0</td>\n",
              "    </tr>\n",
              "    <tr>\n",
              "      <th>2022-01-05 00:00:00-05:00</th>\n",
              "      <td>382.216675</td>\n",
              "      <td>390.113342</td>\n",
              "      <td>360.336670</td>\n",
              "      <td>362.706665</td>\n",
              "      <td>80119800</td>\n",
              "      <td>0.0</td>\n",
              "      <td>0.0</td>\n",
              "    </tr>\n",
              "    <tr>\n",
              "      <th>2022-01-06 00:00:00-05:00</th>\n",
              "      <td>359.000000</td>\n",
              "      <td>362.666656</td>\n",
              "      <td>340.166656</td>\n",
              "      <td>354.899994</td>\n",
              "      <td>90336600</td>\n",
              "      <td>0.0</td>\n",
              "      <td>0.0</td>\n",
              "    </tr>\n",
              "    <tr>\n",
              "      <th>2022-01-07 00:00:00-05:00</th>\n",
              "      <td>360.123322</td>\n",
              "      <td>360.309998</td>\n",
              "      <td>336.666656</td>\n",
              "      <td>342.320007</td>\n",
              "      <td>84164700</td>\n",
              "      <td>0.0</td>\n",
              "      <td>0.0</td>\n",
              "    </tr>\n",
              "    <tr>\n",
              "      <th>...</th>\n",
              "      <td>...</td>\n",
              "      <td>...</td>\n",
              "      <td>...</td>\n",
              "      <td>...</td>\n",
              "      <td>...</td>\n",
              "      <td>...</td>\n",
              "      <td>...</td>\n",
              "    </tr>\n",
              "    <tr>\n",
              "      <th>2022-12-13 00:00:00-05:00</th>\n",
              "      <td>174.869995</td>\n",
              "      <td>175.050003</td>\n",
              "      <td>156.910004</td>\n",
              "      <td>160.949997</td>\n",
              "      <td>175862700</td>\n",
              "      <td>0.0</td>\n",
              "      <td>0.0</td>\n",
              "    </tr>\n",
              "    <tr>\n",
              "      <th>2022-12-14 00:00:00-05:00</th>\n",
              "      <td>159.250000</td>\n",
              "      <td>161.619995</td>\n",
              "      <td>155.309998</td>\n",
              "      <td>156.800003</td>\n",
              "      <td>140682300</td>\n",
              "      <td>0.0</td>\n",
              "      <td>0.0</td>\n",
              "    </tr>\n",
              "    <tr>\n",
              "      <th>2022-12-15 00:00:00-05:00</th>\n",
              "      <td>153.440002</td>\n",
              "      <td>160.929993</td>\n",
              "      <td>153.279999</td>\n",
              "      <td>157.669998</td>\n",
              "      <td>122334500</td>\n",
              "      <td>0.0</td>\n",
              "      <td>0.0</td>\n",
              "    </tr>\n",
              "    <tr>\n",
              "      <th>2022-12-16 00:00:00-05:00</th>\n",
              "      <td>159.639999</td>\n",
              "      <td>160.990005</td>\n",
              "      <td>150.039993</td>\n",
              "      <td>150.229996</td>\n",
              "      <td>139032200</td>\n",
              "      <td>0.0</td>\n",
              "      <td>0.0</td>\n",
              "    </tr>\n",
              "    <tr>\n",
              "      <th>2022-12-19 00:00:00-05:00</th>\n",
              "      <td>154.000000</td>\n",
              "      <td>155.250000</td>\n",
              "      <td>145.820007</td>\n",
              "      <td>149.869995</td>\n",
              "      <td>139390600</td>\n",
              "      <td>0.0</td>\n",
              "      <td>0.0</td>\n",
              "    </tr>\n",
              "  </tbody>\n",
              "</table>\n",
              "<p>243 rows × 7 columns</p>\n",
              "</div>\n",
              "      <button class=\"colab-df-convert\" onclick=\"convertToInteractive('df-45af9872-2938-4be7-8806-3bed578f3832')\"\n",
              "              title=\"Convert this dataframe to an interactive table.\"\n",
              "              style=\"display:none;\">\n",
              "        \n",
              "  <svg xmlns=\"http://www.w3.org/2000/svg\" height=\"24px\"viewBox=\"0 0 24 24\"\n",
              "       width=\"24px\">\n",
              "    <path d=\"M0 0h24v24H0V0z\" fill=\"none\"/>\n",
              "    <path d=\"M18.56 5.44l.94 2.06.94-2.06 2.06-.94-2.06-.94-.94-2.06-.94 2.06-2.06.94zm-11 1L8.5 8.5l.94-2.06 2.06-.94-2.06-.94L8.5 2.5l-.94 2.06-2.06.94zm10 10l.94 2.06.94-2.06 2.06-.94-2.06-.94-.94-2.06-.94 2.06-2.06.94z\"/><path d=\"M17.41 7.96l-1.37-1.37c-.4-.4-.92-.59-1.43-.59-.52 0-1.04.2-1.43.59L10.3 9.45l-7.72 7.72c-.78.78-.78 2.05 0 2.83L4 21.41c.39.39.9.59 1.41.59.51 0 1.02-.2 1.41-.59l7.78-7.78 2.81-2.81c.8-.78.8-2.07 0-2.86zM5.41 20L4 18.59l7.72-7.72 1.47 1.35L5.41 20z\"/>\n",
              "  </svg>\n",
              "      </button>\n",
              "      \n",
              "  <style>\n",
              "    .colab-df-container {\n",
              "      display:flex;\n",
              "      flex-wrap:wrap;\n",
              "      gap: 12px;\n",
              "    }\n",
              "\n",
              "    .colab-df-convert {\n",
              "      background-color: #E8F0FE;\n",
              "      border: none;\n",
              "      border-radius: 50%;\n",
              "      cursor: pointer;\n",
              "      display: none;\n",
              "      fill: #1967D2;\n",
              "      height: 32px;\n",
              "      padding: 0 0 0 0;\n",
              "      width: 32px;\n",
              "    }\n",
              "\n",
              "    .colab-df-convert:hover {\n",
              "      background-color: #E2EBFA;\n",
              "      box-shadow: 0px 1px 2px rgba(60, 64, 67, 0.3), 0px 1px 3px 1px rgba(60, 64, 67, 0.15);\n",
              "      fill: #174EA6;\n",
              "    }\n",
              "\n",
              "    [theme=dark] .colab-df-convert {\n",
              "      background-color: #3B4455;\n",
              "      fill: #D2E3FC;\n",
              "    }\n",
              "\n",
              "    [theme=dark] .colab-df-convert:hover {\n",
              "      background-color: #434B5C;\n",
              "      box-shadow: 0px 1px 3px 1px rgba(0, 0, 0, 0.15);\n",
              "      filter: drop-shadow(0px 1px 2px rgba(0, 0, 0, 0.3));\n",
              "      fill: #FFFFFF;\n",
              "    }\n",
              "  </style>\n",
              "\n",
              "      <script>\n",
              "        const buttonEl =\n",
              "          document.querySelector('#df-45af9872-2938-4be7-8806-3bed578f3832 button.colab-df-convert');\n",
              "        buttonEl.style.display =\n",
              "          google.colab.kernel.accessAllowed ? 'block' : 'none';\n",
              "\n",
              "        async function convertToInteractive(key) {\n",
              "          const element = document.querySelector('#df-45af9872-2938-4be7-8806-3bed578f3832');\n",
              "          const dataTable =\n",
              "            await google.colab.kernel.invokeFunction('convertToInteractive',\n",
              "                                                     [key], {});\n",
              "          if (!dataTable) return;\n",
              "\n",
              "          const docLinkHtml = 'Like what you see? Visit the ' +\n",
              "            '<a target=\"_blank\" href=https://colab.research.google.com/notebooks/data_table.ipynb>data table notebook</a>'\n",
              "            + ' to learn more about interactive tables.';\n",
              "          element.innerHTML = '';\n",
              "          dataTable['output_type'] = 'display_data';\n",
              "          await google.colab.output.renderOutput(dataTable, element);\n",
              "          const docLink = document.createElement('div');\n",
              "          docLink.innerHTML = docLinkHtml;\n",
              "          element.appendChild(docLink);\n",
              "        }\n",
              "      </script>\n",
              "    </div>\n",
              "  </div>\n",
              "  "
            ]
          },
          "metadata": {},
          "execution_count": 6
        }
      ]
    },
    {
      "cell_type": "code",
      "source": [
        "amazon"
      ],
      "metadata": {
        "colab": {
          "base_uri": "https://localhost:8080/",
          "height": 455
        },
        "id": "stWFKm7ubLF-",
        "outputId": "f52b65b3-e9cc-48b0-b37e-a5ffff325464"
      },
      "execution_count": 228,
      "outputs": [
        {
          "output_type": "execute_result",
          "data": {
            "text/plain": [
              "                                 Open        High         Low       Close  \\\n",
              "Date                                                                        \n",
              "2022-01-03 00:00:00-05:00  382.583344  400.356659  378.679993  399.926666   \n",
              "2022-01-04 00:00:00-05:00  396.516663  402.666656  374.350006  383.196655   \n",
              "2022-01-05 00:00:00-05:00  382.216675  390.113342  360.336670  362.706665   \n",
              "2022-01-06 00:00:00-05:00  359.000000  362.666656  340.166656  354.899994   \n",
              "2022-01-07 00:00:00-05:00  360.123322  360.309998  336.666656  342.320007   \n",
              "...                               ...         ...         ...         ...   \n",
              "2022-12-13 00:00:00-05:00  174.869995  175.050003  156.910004  160.949997   \n",
              "2022-12-14 00:00:00-05:00  159.250000  161.619995  155.309998  156.800003   \n",
              "2022-12-15 00:00:00-05:00  153.440002  160.929993  153.279999  157.669998   \n",
              "2022-12-16 00:00:00-05:00  159.639999  160.990005  150.039993  150.229996   \n",
              "2022-12-19 00:00:00-05:00  154.000000  155.250000  145.820007  149.869995   \n",
              "\n",
              "                              Volume  Dividends  Stock Splits  \n",
              "Date                                                           \n",
              "2022-01-03 00:00:00-05:00  103931400        0.0           0.0  \n",
              "2022-01-04 00:00:00-05:00  100248300        0.0           0.0  \n",
              "2022-01-05 00:00:00-05:00   80119800        0.0           0.0  \n",
              "2022-01-06 00:00:00-05:00   90336600        0.0           0.0  \n",
              "2022-01-07 00:00:00-05:00   84164700        0.0           0.0  \n",
              "...                              ...        ...           ...  \n",
              "2022-12-13 00:00:00-05:00  175862700        0.0           0.0  \n",
              "2022-12-14 00:00:00-05:00  140682300        0.0           0.0  \n",
              "2022-12-15 00:00:00-05:00  122334500        0.0           0.0  \n",
              "2022-12-16 00:00:00-05:00  139032200        0.0           0.0  \n",
              "2022-12-19 00:00:00-05:00  139390600        0.0           0.0  \n",
              "\n",
              "[243 rows x 7 columns]"
            ],
            "text/html": [
              "\n",
              "  <div id=\"df-f8f4bfb2-4a84-44bd-adf0-f80d1fb0dc30\">\n",
              "    <div class=\"colab-df-container\">\n",
              "      <div>\n",
              "<style scoped>\n",
              "    .dataframe tbody tr th:only-of-type {\n",
              "        vertical-align: middle;\n",
              "    }\n",
              "\n",
              "    .dataframe tbody tr th {\n",
              "        vertical-align: top;\n",
              "    }\n",
              "\n",
              "    .dataframe thead th {\n",
              "        text-align: right;\n",
              "    }\n",
              "</style>\n",
              "<table border=\"1\" class=\"dataframe\">\n",
              "  <thead>\n",
              "    <tr style=\"text-align: right;\">\n",
              "      <th></th>\n",
              "      <th>Open</th>\n",
              "      <th>High</th>\n",
              "      <th>Low</th>\n",
              "      <th>Close</th>\n",
              "      <th>Volume</th>\n",
              "      <th>Dividends</th>\n",
              "      <th>Stock Splits</th>\n",
              "    </tr>\n",
              "    <tr>\n",
              "      <th>Date</th>\n",
              "      <th></th>\n",
              "      <th></th>\n",
              "      <th></th>\n",
              "      <th></th>\n",
              "      <th></th>\n",
              "      <th></th>\n",
              "      <th></th>\n",
              "    </tr>\n",
              "  </thead>\n",
              "  <tbody>\n",
              "    <tr>\n",
              "      <th>2022-01-03 00:00:00-05:00</th>\n",
              "      <td>382.583344</td>\n",
              "      <td>400.356659</td>\n",
              "      <td>378.679993</td>\n",
              "      <td>399.926666</td>\n",
              "      <td>103931400</td>\n",
              "      <td>0.0</td>\n",
              "      <td>0.0</td>\n",
              "    </tr>\n",
              "    <tr>\n",
              "      <th>2022-01-04 00:00:00-05:00</th>\n",
              "      <td>396.516663</td>\n",
              "      <td>402.666656</td>\n",
              "      <td>374.350006</td>\n",
              "      <td>383.196655</td>\n",
              "      <td>100248300</td>\n",
              "      <td>0.0</td>\n",
              "      <td>0.0</td>\n",
              "    </tr>\n",
              "    <tr>\n",
              "      <th>2022-01-05 00:00:00-05:00</th>\n",
              "      <td>382.216675</td>\n",
              "      <td>390.113342</td>\n",
              "      <td>360.336670</td>\n",
              "      <td>362.706665</td>\n",
              "      <td>80119800</td>\n",
              "      <td>0.0</td>\n",
              "      <td>0.0</td>\n",
              "    </tr>\n",
              "    <tr>\n",
              "      <th>2022-01-06 00:00:00-05:00</th>\n",
              "      <td>359.000000</td>\n",
              "      <td>362.666656</td>\n",
              "      <td>340.166656</td>\n",
              "      <td>354.899994</td>\n",
              "      <td>90336600</td>\n",
              "      <td>0.0</td>\n",
              "      <td>0.0</td>\n",
              "    </tr>\n",
              "    <tr>\n",
              "      <th>2022-01-07 00:00:00-05:00</th>\n",
              "      <td>360.123322</td>\n",
              "      <td>360.309998</td>\n",
              "      <td>336.666656</td>\n",
              "      <td>342.320007</td>\n",
              "      <td>84164700</td>\n",
              "      <td>0.0</td>\n",
              "      <td>0.0</td>\n",
              "    </tr>\n",
              "    <tr>\n",
              "      <th>...</th>\n",
              "      <td>...</td>\n",
              "      <td>...</td>\n",
              "      <td>...</td>\n",
              "      <td>...</td>\n",
              "      <td>...</td>\n",
              "      <td>...</td>\n",
              "      <td>...</td>\n",
              "    </tr>\n",
              "    <tr>\n",
              "      <th>2022-12-13 00:00:00-05:00</th>\n",
              "      <td>174.869995</td>\n",
              "      <td>175.050003</td>\n",
              "      <td>156.910004</td>\n",
              "      <td>160.949997</td>\n",
              "      <td>175862700</td>\n",
              "      <td>0.0</td>\n",
              "      <td>0.0</td>\n",
              "    </tr>\n",
              "    <tr>\n",
              "      <th>2022-12-14 00:00:00-05:00</th>\n",
              "      <td>159.250000</td>\n",
              "      <td>161.619995</td>\n",
              "      <td>155.309998</td>\n",
              "      <td>156.800003</td>\n",
              "      <td>140682300</td>\n",
              "      <td>0.0</td>\n",
              "      <td>0.0</td>\n",
              "    </tr>\n",
              "    <tr>\n",
              "      <th>2022-12-15 00:00:00-05:00</th>\n",
              "      <td>153.440002</td>\n",
              "      <td>160.929993</td>\n",
              "      <td>153.279999</td>\n",
              "      <td>157.669998</td>\n",
              "      <td>122334500</td>\n",
              "      <td>0.0</td>\n",
              "      <td>0.0</td>\n",
              "    </tr>\n",
              "    <tr>\n",
              "      <th>2022-12-16 00:00:00-05:00</th>\n",
              "      <td>159.639999</td>\n",
              "      <td>160.990005</td>\n",
              "      <td>150.039993</td>\n",
              "      <td>150.229996</td>\n",
              "      <td>139032200</td>\n",
              "      <td>0.0</td>\n",
              "      <td>0.0</td>\n",
              "    </tr>\n",
              "    <tr>\n",
              "      <th>2022-12-19 00:00:00-05:00</th>\n",
              "      <td>154.000000</td>\n",
              "      <td>155.250000</td>\n",
              "      <td>145.820007</td>\n",
              "      <td>149.869995</td>\n",
              "      <td>139390600</td>\n",
              "      <td>0.0</td>\n",
              "      <td>0.0</td>\n",
              "    </tr>\n",
              "  </tbody>\n",
              "</table>\n",
              "<p>243 rows × 7 columns</p>\n",
              "</div>\n",
              "      <button class=\"colab-df-convert\" onclick=\"convertToInteractive('df-f8f4bfb2-4a84-44bd-adf0-f80d1fb0dc30')\"\n",
              "              title=\"Convert this dataframe to an interactive table.\"\n",
              "              style=\"display:none;\">\n",
              "        \n",
              "  <svg xmlns=\"http://www.w3.org/2000/svg\" height=\"24px\"viewBox=\"0 0 24 24\"\n",
              "       width=\"24px\">\n",
              "    <path d=\"M0 0h24v24H0V0z\" fill=\"none\"/>\n",
              "    <path d=\"M18.56 5.44l.94 2.06.94-2.06 2.06-.94-2.06-.94-.94-2.06-.94 2.06-2.06.94zm-11 1L8.5 8.5l.94-2.06 2.06-.94-2.06-.94L8.5 2.5l-.94 2.06-2.06.94zm10 10l.94 2.06.94-2.06 2.06-.94-2.06-.94-.94-2.06-.94 2.06-2.06.94z\"/><path d=\"M17.41 7.96l-1.37-1.37c-.4-.4-.92-.59-1.43-.59-.52 0-1.04.2-1.43.59L10.3 9.45l-7.72 7.72c-.78.78-.78 2.05 0 2.83L4 21.41c.39.39.9.59 1.41.59.51 0 1.02-.2 1.41-.59l7.78-7.78 2.81-2.81c.8-.78.8-2.07 0-2.86zM5.41 20L4 18.59l7.72-7.72 1.47 1.35L5.41 20z\"/>\n",
              "  </svg>\n",
              "      </button>\n",
              "      \n",
              "  <style>\n",
              "    .colab-df-container {\n",
              "      display:flex;\n",
              "      flex-wrap:wrap;\n",
              "      gap: 12px;\n",
              "    }\n",
              "\n",
              "    .colab-df-convert {\n",
              "      background-color: #E8F0FE;\n",
              "      border: none;\n",
              "      border-radius: 50%;\n",
              "      cursor: pointer;\n",
              "      display: none;\n",
              "      fill: #1967D2;\n",
              "      height: 32px;\n",
              "      padding: 0 0 0 0;\n",
              "      width: 32px;\n",
              "    }\n",
              "\n",
              "    .colab-df-convert:hover {\n",
              "      background-color: #E2EBFA;\n",
              "      box-shadow: 0px 1px 2px rgba(60, 64, 67, 0.3), 0px 1px 3px 1px rgba(60, 64, 67, 0.15);\n",
              "      fill: #174EA6;\n",
              "    }\n",
              "\n",
              "    [theme=dark] .colab-df-convert {\n",
              "      background-color: #3B4455;\n",
              "      fill: #D2E3FC;\n",
              "    }\n",
              "\n",
              "    [theme=dark] .colab-df-convert:hover {\n",
              "      background-color: #434B5C;\n",
              "      box-shadow: 0px 1px 3px 1px rgba(0, 0, 0, 0.15);\n",
              "      filter: drop-shadow(0px 1px 2px rgba(0, 0, 0, 0.3));\n",
              "      fill: #FFFFFF;\n",
              "    }\n",
              "  </style>\n",
              "\n",
              "      <script>\n",
              "        const buttonEl =\n",
              "          document.querySelector('#df-f8f4bfb2-4a84-44bd-adf0-f80d1fb0dc30 button.colab-df-convert');\n",
              "        buttonEl.style.display =\n",
              "          google.colab.kernel.accessAllowed ? 'block' : 'none';\n",
              "\n",
              "        async function convertToInteractive(key) {\n",
              "          const element = document.querySelector('#df-f8f4bfb2-4a84-44bd-adf0-f80d1fb0dc30');\n",
              "          const dataTable =\n",
              "            await google.colab.kernel.invokeFunction('convertToInteractive',\n",
              "                                                     [key], {});\n",
              "          if (!dataTable) return;\n",
              "\n",
              "          const docLinkHtml = 'Like what you see? Visit the ' +\n",
              "            '<a target=\"_blank\" href=https://colab.research.google.com/notebooks/data_table.ipynb>data table notebook</a>'\n",
              "            + ' to learn more about interactive tables.';\n",
              "          element.innerHTML = '';\n",
              "          dataTable['output_type'] = 'display_data';\n",
              "          await google.colab.output.renderOutput(dataTable, element);\n",
              "          const docLink = document.createElement('div');\n",
              "          docLink.innerHTML = docLinkHtml;\n",
              "          element.appendChild(docLink);\n",
              "        }\n",
              "      </script>\n",
              "    </div>\n",
              "  </div>\n",
              "  "
            ]
          },
          "metadata": {},
          "execution_count": 228
        }
      ]
    },
    {
      "cell_type": "code",
      "source": [
        "plt.plot(tesla_df['Close'], label='Tesla', color='red')\n",
        "plt.plot(amazon_df['Close'], label='Amazon', color='blue')\n",
        "plt.xlabel('Date')\n",
        "plt.ylabel('Close Price')\n",
        "plt.title('Stock Prices of Tesla and Amazon')\n",
        "\n",
        "# Add a legend to the plot\n",
        "plt.legend()\n",
        "\n",
        "# Show the plot\n",
        "plt.show()"
      ],
      "metadata": {
        "colab": {
          "base_uri": "https://localhost:8080/",
          "height": 295
        },
        "id": "QWMeodc5H6SO",
        "outputId": "331972e8-eee9-4429-d6fa-5342f279ef33"
      },
      "execution_count": 106,
      "outputs": [
        {
          "output_type": "display_data",
          "data": {
            "text/plain": [
              "<Figure size 432x288 with 1 Axes>"
            ],
            "image/png": "[encoded data removed]"
          },
          "metadata": {
            "needs_background": "light"
          }
        }
      ]
    },
    {
      "cell_type": "markdown",
      "source": [],
      "metadata": {
        "id": "nAqccsV284Qu"
      }
    },
    {
      "cell_type": "markdown",
      "source": [],
      "metadata": {
        "id": "apSJOglJ84jG"
      }
    },
    {
      "cell_type": "markdown",
      "source": [
        "(ii) Perform exponential smoothing to forecast both prices for period 253. Use successive values of\n",
        "0.15, 0,45, 0.55, and 0.75 for the smoothing parameter α. Next, calculate the MAPD (Mean\n",
        "Absolute Percentage Deviation) of each forecast; and based on the MAPDs, determine the value\n",
        "of α that has yielded the most accurate forecast for each stock. In your report, describe your\n",
        "results; and explain why in your opinion such values of α have yielded the most accurate\n",
        "forecasts for the two stocks. "
      ],
      "metadata": {
        "id": "GJfWRb5f8d2W"
      }
    },
    {
      "cell_type": "code",
      "source": [
        "import pandas as pd\n",
        "import numpy as np\n",
        "import matplotlib.pyplot as plt\n",
        "from statsmodels.tsa.holtwinters import ExponentialSmoothing\n",
        "import yfinance as yf\n",
        "\n",
        "start_date = '2018-01-01'\n",
        "end_date = pd.datetime.today().strftime('%Y-%m-%d')\n",
        "\n",
        "tesla = yf.download('TSLA', start=start_date, end=end_date)\n",
        "amazon = yf.download('AMZN', start=start_date, end=end_date)\n",
        "\n",
        "# Get the current date\n",
        "current_date = datetime.today()\n",
        "end_date = current_date.strftime('%Y-%m-%d')\n",
        "start_date = (current_date - timedelta(days=252)).strftime('%Y-%m-%d')\n",
        "tsla_df = yf.download('TSLA', start=start_date, end=end_date)\n",
        "amzn_df = yf.download('AMZN', start=start_date, end=end_date)\n",
        "\n",
        "tesla = tesla[['Close']].dropna()\n",
        "amazon = amazon[['Close']].dropna()\n",
        "\n",
        "# Get the current date\n",
        "current_date = datetime.today()\n",
        "end_date = current_date.strftime('%Y-%m-%d')\n",
        "start_date = (current_date - timedelta(days=252)).strftime('%Y-%m-%d')\n",
        "tsla_df = yf.download('TSLA', start=start_date, end=end_date)\n",
        "amzn_df = yf.download('AMZN', start=start_date, end=end_date)\n",
        "\n",
        "market_days = 253\n",
        "split_date = tesla.index[-market_days].strftime('%Y-%m-%d')\n",
        "\n",
        "tesla_train = tesla.loc[tesla.index < split_date]\n",
        "tesla_test = tesla.loc[tesla.index >= split_date]\n",
        "\n",
        "amazon_train = amazon.loc[amazon.index < split_date]\n",
        "amazon_test = amazon.loc[amazon.index >= split_date]\n",
        "\n",
        "model_tesla = ExponentialSmoothing(tesla_train, trend='add', seasonal=None)\n",
        "model_amazon = ExponentialSmoothing(amazon_train, trend='add', seasonal=None)\n",
        "\n",
        "fit_tesla = model_tesla.fit()\n",
        "fit_amazon = model_amazon.fit()\n",
        "\n",
        "tesla_predictions = fit_tesla.forecast(market_days)\n",
        "amazon_predictions = fit_amazon.forecast(market_days)\n",
        "\n",
        "plt.plot(tesla_test, label='Tesla Actual')\n",
        "plt.plot(tesla_predictions, label='Tesla Predicted')\n",
        "plt.legend()\n",
        "plt.show()\n",
        "\n",
        "plt.plot(amazon_test, label='Amazon Actual')\n",
        "plt.plot(amazon_predictions, label='Amazon Predicted')\n",
        "plt.legend()\n",
        "plt.show()"
      ],
      "metadata": {
        "colab": {
          "base_uri": "https://localhost:8080/",
          "height": 741
        },
        "id": "R82CzVb3ULar",
        "outputId": "f7e1bd85-020c-4f03-8f0c-67f3c8c5f851"
      },
      "execution_count": 12,
      "outputs": [
        {
          "output_type": "stream",
          "name": "stdout",
          "text": [
            "\r[*********************100%***********************]  1 of 1 completed"
          ]
        },
        {
          "output_type": "stream",
          "name": "stderr",
          "text": [
            "<ipython-input-12-95d8b25243a2>:8: FutureWarning: The pandas.datetime class is deprecated and will be removed from pandas in a future version. Import from datetime module instead.\n",
            "  end_date = pd.datetime.today().strftime('%Y-%m-%d')\n"
          ]
        },
        {
          "output_type": "stream",
          "name": "stdout",
          "text": [
            "\n",
            "\r[*********************100%***********************]  1 of 1 completed\n"
          ]
        },
        {
          "output_type": "stream",
          "name": "stderr",
          "text": [
            "/usr/local/lib/python3.9/dist-packages/statsmodels/tsa/base/tsa_model.py:471: ValueWarning: A date index has been provided, but it has no associated frequency information and so will be ignored when e.g. forecasting.\n",
            "  self._init_dates(dates, freq)\n",
            "/usr/local/lib/python3.9/dist-packages/statsmodels/tsa/base/tsa_model.py:471: ValueWarning: A date index has been provided, but it has no associated frequency information and so will be ignored when e.g. forecasting.\n",
            "  self._init_dates(dates, freq)\n",
            "/usr/local/lib/python3.9/dist-packages/statsmodels/tsa/base/tsa_model.py:834: ValueWarning: No supported index is available. Prediction results will be given with an integer index beginning at `start`.\n",
            "  return get_prediction_index(\n",
            "/usr/local/lib/python3.9/dist-packages/statsmodels/tsa/base/tsa_model.py:834: ValueWarning: No supported index is available. Prediction results will be given with an integer index beginning at `start`.\n",
            "  return get_prediction_index(\n"
          ]
        },
        {
          "output_type": "display_data",
          "data": {
            "text/plain": [
              "<Figure size 432x288 with 1 Axes>"
            ],
            "image/png": "[encoded data removed]"
          },
          "metadata": {
            "needs_background": "light"
          }
        },
        {
          "output_type": "display_data",
          "data": {
            "text/plain": [
              "<Figure size 432x288 with 1 Axes>"
            ],
            "image/png": "[encoded data removed]"
          },
          "metadata": {
            "needs_background": "light"
          }
        }
      ]
    },
    {
      "cell_type": "code",
      "source": [
        "import yfinance as yf\n",
        "import numpy as np\n",
        "import pandas as pd\n",
        "import matplotlib.pyplot as plt\n",
        "from datetime import datetime, timedelta\n",
        "from statsmodels.tsa.holtwinters import ExponentialSmoothing\n",
        "from statsmodels.tsa.api import SimpleExpSmoothing\n",
        "import warnings\n",
        "\n",
        "# Get the current date\n",
        "current_date = datetime.today()\n",
        "end_date = current_date.strftime('%Y-%m-%d')\n",
        "start_date = (current_date - timedelta(days=252)).strftime('%Y-%m-%d')\n",
        "tsla_df = yf.download('TSLA', start=start_date, end=end_date)\n",
        "amzn_df = yf.download('AMZN', start=start_date, end=end_date)\n",
        "\n",
        "alphas = [0.15, 0.45, 0.55, 0.75]\n",
        "mapds_tsla = []\n",
        "mapds_amzn = []\n",
        "\n",
        "\n",
        "for alpha in alphas:\n",
        "      ses_tsla = SimpleExpSmoothing(tsla_df['Close']).fit(smoothing_level=alpha)\n",
        "      forecast_tsla = ses_tsla.forecast(1)\n",
        "      ses_amzn = SimpleExpSmoothing(amzn_df['Close']).fit(smoothing_level=alpha)\n",
        "      forecast_amzn = ses_amzn.forecast(1)\n",
        "\n",
        "      actual_tsla = tsla_df['Close'].iloc[-1]\n",
        "      actual_amzn = amzn_df['Close'].iloc[-1]\n",
        "      mapd_tsla = np.abs((forecast_tsla - actual_tsla) / actual_tsla).values[0]\n",
        "      mapd_amzn = np.abs((forecast_amzn - actual_amzn) / actual_amzn).values[0]\n",
        "      mapds_tsla.append(mapd_tsla)\n",
        "      mapds_amzn.append(mapd_amzn)\n",
        "\n",
        "\n"
      ],
      "metadata": {
        "colab": {
          "base_uri": "https://localhost:8080/"
        },
        "id": "4zJjRXatSibu",
        "outputId": "782cc1f6-e069-4fb7-a62c-47c6bf006176"
      },
      "execution_count": 102,
      "outputs": [
        {
          "output_type": "stream",
          "name": "stdout",
          "text": [
            "[*********************100%***********************]  1 of 1 completed\n",
            "[*********************100%***********************]  1 of 1 completed\n"
          ]
        },
        {
          "output_type": "stream",
          "name": "stderr",
          "text": [
            "/usr/local/lib/python3.9/dist-packages/statsmodels/tsa/base/tsa_model.py:471: ValueWarning: A date index has been provided, but it has no associated frequency information and so will be ignored when e.g. forecasting.\n",
            "  self._init_dates(dates, freq)\n",
            "/usr/local/lib/python3.9/dist-packages/statsmodels/tsa/base/tsa_model.py:834: ValueWarning: No supported index is available. Prediction results will be given with an integer index beginning at `start`.\n",
            "  return get_prediction_index(\n",
            "/usr/local/lib/python3.9/dist-packages/statsmodels/tsa/base/tsa_model.py:471: ValueWarning: A date index has been provided, but it has no associated frequency information and so will be ignored when e.g. forecasting.\n",
            "  self._init_dates(dates, freq)\n",
            "/usr/local/lib/python3.9/dist-packages/statsmodels/tsa/base/tsa_model.py:834: ValueWarning: No supported index is available. Prediction results will be given with an integer index beginning at `start`.\n",
            "  return get_prediction_index(\n",
            "/usr/local/lib/python3.9/dist-packages/statsmodels/tsa/base/tsa_model.py:471: ValueWarning: A date index has been provided, but it has no associated frequency information and so will be ignored when e.g. forecasting.\n",
            "  self._init_dates(dates, freq)\n",
            "/usr/local/lib/python3.9/dist-packages/statsmodels/tsa/base/tsa_model.py:834: ValueWarning: No supported index is available. Prediction results will be given with an integer index beginning at `start`.\n",
            "  return get_prediction_index(\n",
            "/usr/local/lib/python3.9/dist-packages/statsmodels/tsa/base/tsa_model.py:471: ValueWarning: A date index has been provided, but it has no associated frequency information and so will be ignored when e.g. forecasting.\n",
            "  self._init_dates(dates, freq)\n",
            "/usr/local/lib/python3.9/dist-packages/statsmodels/tsa/base/tsa_model.py:834: ValueWarning: No supported index is available. Prediction results will be given with an integer index beginning at `start`.\n",
            "  return get_prediction_index(\n",
            "/usr/local/lib/python3.9/dist-packages/statsmodels/tsa/base/tsa_model.py:471: ValueWarning: A date index has been provided, but it has no associated frequency information and so will be ignored when e.g. forecasting.\n",
            "  self._init_dates(dates, freq)\n",
            "/usr/local/lib/python3.9/dist-packages/statsmodels/tsa/base/tsa_model.py:834: ValueWarning: No supported index is available. Prediction results will be given with an integer index beginning at `start`.\n",
            "  return get_prediction_index(\n",
            "/usr/local/lib/python3.9/dist-packages/statsmodels/tsa/base/tsa_model.py:471: ValueWarning: A date index has been provided, but it has no associated frequency information and so will be ignored when e.g. forecasting.\n",
            "  self._init_dates(dates, freq)\n",
            "/usr/local/lib/python3.9/dist-packages/statsmodels/tsa/base/tsa_model.py:834: ValueWarning: No supported index is available. Prediction results will be given with an integer index beginning at `start`.\n",
            "  return get_prediction_index(\n",
            "/usr/local/lib/python3.9/dist-packages/statsmodels/tsa/base/tsa_model.py:471: ValueWarning: A date index has been provided, but it has no associated frequency information and so will be ignored when e.g. forecasting.\n",
            "  self._init_dates(dates, freq)\n",
            "/usr/local/lib/python3.9/dist-packages/statsmodels/tsa/base/tsa_model.py:834: ValueWarning: No supported index is available. Prediction results will be given with an integer index beginning at `start`.\n",
            "  return get_prediction_index(\n",
            "/usr/local/lib/python3.9/dist-packages/statsmodels/tsa/base/tsa_model.py:471: ValueWarning: A date index has been provided, but it has no associated frequency information and so will be ignored when e.g. forecasting.\n",
            "  self._init_dates(dates, freq)\n",
            "/usr/local/lib/python3.9/dist-packages/statsmodels/tsa/base/tsa_model.py:834: ValueWarning: No supported index is available. Prediction results will be given with an integer index beginning at `start`.\n",
            "  return get_prediction_index(\n"
          ]
        }
      ]
    },
    {
      "cell_type": "code",
      "source": [
        "import yfinance as yf\n",
        "import numpy as np\n",
        "import pandas as pd\n",
        "import matplotlib.pyplot as plt\n",
        "from datetime import datetime, timedelta\n",
        "from statsmodels.tsa.holtwinters import ExponentialSmoothing\n",
        "from statsmodels.tsa.api import SimpleExpSmoothing\n",
        "import warnings\n",
        "\n",
        "# Get the current date\n",
        "current_date = datetime.today()\n",
        "end_date = current_date.strftime('%Y-%m-%d')\n",
        "start_date = (current_date - timedelta(days=253)).strftime('%Y-%m-%d')\n",
        "tsla_df = yf.download('TSLA', start=start_date, end=end_date)\n",
        "amzn_df = yf.download('AMZN', start=start_date, end=end_date)\n",
        "\n",
        "alphas = [0.15, 0.45, 0.55, 0.75]\n",
        "mapds_tsla = []\n",
        "mapds_amzn = []\n",
        "\n",
        "\n",
        "for alpha in alphas:\n",
        "      ses_tsla = SimpleExpSmoothing(tsla_df['Close']).fit(smoothing_level=alpha)\n",
        "      forecast_tsla = ses_tsla.forecast(1)\n",
        "      ses_amzn = SimpleExpSmoothing(amzn_df['Close']).fit(smoothing_level=alpha)\n",
        "      forecast_amzn = ses_amzn.forecast(1)\n",
        "\n",
        "      actual_tsla = tsla_df['Close'].iloc[-1]\n",
        "      actual_amzn = amzn_df['Close'].iloc[-1]\n",
        "      mapd_tsla = np.abs((forecast_tsla - actual_tsla) / actual_tsla).values[0]\n",
        "      mapd_amzn = np.abs((forecast_amzn - actual_amzn) / actual_amzn).values[0]\n",
        "      mapds_tsla.append(mapd_tsla)\n",
        "      mapds_amzn.append(mapd_amzn)"
      ],
      "metadata": {
        "id": "OI9vn3PAMzHR"
      },
      "execution_count": null,
      "outputs": []
    },
    {
      "cell_type": "code",
      "source": [
        "ses_forecast_df = pd.DataFrame({\"Tesla_exponential_smoothing\": ses_tsla, \"Tesla_Forecast_Exponential_smoothing\":  forecast_tsla, \"Amazon_exponential_smoothing\": ses_amzn, \"Amazon_Forecast_Exponential_smoothing\": forecast_amzn})\n",
        "ses_forecast_df"
      ],
      "metadata": {
        "colab": {
          "base_uri": "https://localhost:8080/",
          "height": 81
        },
        "id": "4g-toHIRNCsh",
        "outputId": "f7b64e2b-aacc-48c9-9865-5bda844ef327"
      },
      "execution_count": 122,
      "outputs": [
        {
          "output_type": "execute_result",
          "data": {
            "text/plain": [
              "                           Tesla_exponential_smoothing  \\\n",
              "175  <statsmodels.tsa.holtwinters.results.HoltWinte...   \n",
              "\n",
              "     Tesla_Forecast_Exponential_smoothing  \\\n",
              "175                             183.24654   \n",
              "\n",
              "                          Amazon_exponential_smoothing  \\\n",
              "175  <statsmodels.tsa.holtwinters.results.HoltWinte...   \n",
              "\n",
              "     Amazon_Forecast_Exponential_smoothing  \n",
              "175                              98.954453  "
            ],
            "text/html": [
              "\n",
              "  <div id=\"df-710d31b6-88b1-4335-9879-9cf50bbf9932\">\n",
              "    <div class=\"colab-df-container\">\n",
              "      <div>\n",
              "<style scoped>\n",
              "    .dataframe tbody tr th:only-of-type {\n",
              "        vertical-align: middle;\n",
              "    }\n",
              "\n",
              "    .dataframe tbody tr th {\n",
              "        vertical-align: top;\n",
              "    }\n",
              "\n",
              "    .dataframe thead th {\n",
              "        text-align: right;\n",
              "    }\n",
              "</style>\n",
              "<table border=\"1\" class=\"dataframe\">\n",
              "  <thead>\n",
              "    <tr style=\"text-align: right;\">\n",
              "      <th></th>\n",
              "      <th>Tesla_exponential_smoothing</th>\n",
              "      <th>Tesla_Forecast_Exponential_smoothing</th>\n",
              "      <th>Amazon_exponential_smoothing</th>\n",
              "      <th>Amazon_Forecast_Exponential_smoothing</th>\n",
              "    </tr>\n",
              "  </thead>\n",
              "  <tbody>\n",
              "    <tr>\n",
              "      <th>175</th>\n",
              "      <td>&lt;statsmodels.tsa.holtwinters.results.HoltWinte...</td>\n",
              "      <td>183.24654</td>\n",
              "      <td>&lt;statsmodels.tsa.holtwinters.results.HoltWinte...</td>\n",
              "      <td>98.954453</td>\n",
              "    </tr>\n",
              "  </tbody>\n",
              "</table>\n",
              "</div>\n",
              "      <button class=\"colab-df-convert\" onclick=\"convertToInteractive('df-710d31b6-88b1-4335-9879-9cf50bbf9932')\"\n",
              "              title=\"Convert this dataframe to an interactive table.\"\n",
              "              style=\"display:none;\">\n",
              "        \n",
              "  <svg xmlns=\"http://www.w3.org/2000/svg\" height=\"24px\"viewBox=\"0 0 24 24\"\n",
              "       width=\"24px\">\n",
              "    <path d=\"M0 0h24v24H0V0z\" fill=\"none\"/>\n",
              "    <path d=\"M18.56 5.44l.94 2.06.94-2.06 2.06-.94-2.06-.94-.94-2.06-.94 2.06-2.06.94zm-11 1L8.5 8.5l.94-2.06 2.06-.94-2.06-.94L8.5 2.5l-.94 2.06-2.06.94zm10 10l.94 2.06.94-2.06 2.06-.94-2.06-.94-.94-2.06-.94 2.06-2.06.94z\"/><path d=\"M17.41 7.96l-1.37-1.37c-.4-.4-.92-.59-1.43-.59-.52 0-1.04.2-1.43.59L10.3 9.45l-7.72 7.72c-.78.78-.78 2.05 0 2.83L4 21.41c.39.39.9.59 1.41.59.51 0 1.02-.2 1.41-.59l7.78-7.78 2.81-2.81c.8-.78.8-2.07 0-2.86zM5.41 20L4 18.59l7.72-7.72 1.47 1.35L5.41 20z\"/>\n",
              "  </svg>\n",
              "      </button>\n",
              "      \n",
              "  <style>\n",
              "    .colab-df-container {\n",
              "      display:flex;\n",
              "      flex-wrap:wrap;\n",
              "      gap: 12px;\n",
              "    }\n",
              "\n",
              "    .colab-df-convert {\n",
              "      background-color: #E8F0FE;\n",
              "      border: none;\n",
              "      border-radius: 50%;\n",
              "      cursor: pointer;\n",
              "      display: none;\n",
              "      fill: #1967D2;\n",
              "      height: 32px;\n",
              "      padding: 0 0 0 0;\n",
              "      width: 32px;\n",
              "    }\n",
              "\n",
              "    .colab-df-convert:hover {\n",
              "      background-color: #E2EBFA;\n",
              "      box-shadow: 0px 1px 2px rgba(60, 64, 67, 0.3), 0px 1px 3px 1px rgba(60, 64, 67, 0.15);\n",
              "      fill: #174EA6;\n",
              "    }\n",
              "\n",
              "    [theme=dark] .colab-df-convert {\n",
              "      background-color: #3B4455;\n",
              "      fill: #D2E3FC;\n",
              "    }\n",
              "\n",
              "    [theme=dark] .colab-df-convert:hover {\n",
              "      background-color: #434B5C;\n",
              "      box-shadow: 0px 1px 3px 1px rgba(0, 0, 0, 0.15);\n",
              "      filter: drop-shadow(0px 1px 2px rgba(0, 0, 0, 0.3));\n",
              "      fill: #FFFFFF;\n",
              "    }\n",
              "  </style>\n",
              "\n",
              "      <script>\n",
              "        const buttonEl =\n",
              "          document.querySelector('#df-710d31b6-88b1-4335-9879-9cf50bbf9932 button.colab-df-convert');\n",
              "        buttonEl.style.display =\n",
              "          google.colab.kernel.accessAllowed ? 'block' : 'none';\n",
              "\n",
              "        async function convertToInteractive(key) {\n",
              "          const element = document.querySelector('#df-710d31b6-88b1-4335-9879-9cf50bbf9932');\n",
              "          const dataTable =\n",
              "            await google.colab.kernel.invokeFunction('convertToInteractive',\n",
              "                                                     [key], {});\n",
              "          if (!dataTable) return;\n",
              "\n",
              "          const docLinkHtml = 'Like what you see? Visit the ' +\n",
              "            '<a target=\"_blank\" href=https://colab.research.google.com/notebooks/data_table.ipynb>data table notebook</a>'\n",
              "            + ' to learn more about interactive tables.';\n",
              "          element.innerHTML = '';\n",
              "          dataTable['output_type'] = 'display_data';\n",
              "          await google.colab.output.renderOutput(dataTable, element);\n",
              "          const docLink = document.createElement('div');\n",
              "          docLink.innerHTML = docLinkHtml;\n",
              "          element.appendChild(docLink);\n",
              "        }\n",
              "      </script>\n",
              "    </div>\n",
              "  </div>\n",
              "  "
            ]
          },
          "metadata": {},
          "execution_count": 122
        }
      ]
    },
    {
      "cell_type": "code",
      "source": [
        "np.abs((forecast_tsla - actual_tsla) / actual_tsla).values[0]"
      ],
      "metadata": {
        "colab": {
          "base_uri": "https://localhost:8080/"
        },
        "id": "Cuvv-2D9Gvlz",
        "outputId": "fecf3a01-060d-46f3-9bbd-54ff9bba5ca1"
      },
      "execution_count": 96,
      "outputs": [
        {
          "output_type": "execute_result",
          "data": {
            "text/plain": [
              "0.004798049678150927"
            ]
          },
          "metadata": {},
          "execution_count": 96
        }
      ]
    },
    {
      "cell_type": "code",
      "source": [
        "\n",
        "mapds_tsla"
      ],
      "metadata": {
        "colab": {
          "base_uri": "https://localhost:8080/"
        },
        "id": "d5RAfXxoGWly",
        "outputId": "9045602d-c398-49f0-9b6d-9922a2b96558"
      },
      "execution_count": 109,
      "outputs": [
        {
          "output_type": "execute_result",
          "data": {
            "text/plain": [
              "[0.004603049065401777,\n",
              " 0.012752500284299247,\n",
              " 0.009936889330594544,\n",
              " 0.004798049678150927]"
            ]
          },
          "metadata": {},
          "execution_count": 109
        }
      ]
    },
    {
      "cell_type": "code",
      "source": [
        "best_alpha_tsla = alphas[np.argmin(mapds_tsla)]\n",
        "best_alpha_amzn = alphas[np.argmin(mapds_amzn)]\n",
        "\n",
        "# Print the results\n",
        "print(f\"TSLA - Best alpha: {best_alpha_tsla:.2f}, MAPD: {np.min(mapds_tsla):.2%}\")\n",
        "print(f\"AMZN - Best alpha: {best_alpha_amzn:.2f}, MAPD: {np.min(mapds_amzn):.2%}\")\n",
        "\n"
      ],
      "metadata": {
        "colab": {
          "base_uri": "https://localhost:8080/"
        },
        "id": "T5_u1E7SFV3Y",
        "outputId": "7d82db15-662b-4d7d-dd98-905c74d5fbcf"
      },
      "execution_count": 108,
      "outputs": [
        {
          "output_type": "stream",
          "name": "stdout",
          "text": [
            "TSLA - Best alpha: 0.15, MAPD: 0.46%\n",
            "AMZN - Best alpha: 0.75, MAPD: 1.09%\n"
          ]
        }
      ]
    },
    {
      "cell_type": "code",
      "source": [],
      "metadata": {
        "id": "idn_5uSLGUug"
      },
      "execution_count": null,
      "outputs": []
    },
    {
      "cell_type": "code",
      "source": [
        "mapds_tsla[-1].values"
      ],
      "metadata": {
        "colab": {
          "base_uri": "https://localhost:8080/"
        },
        "id": "n-Yt4B0JE3Z9",
        "outputId": "a344e414-c35c-407e-ef7e-4288eb59a52c"
      },
      "execution_count": 87,
      "outputs": [
        {
          "output_type": "execute_result",
          "data": {
            "text/plain": [
              "array([0.00479805])"
            ]
          },
          "metadata": {},
          "execution_count": 87
        }
      ]
    },
    {
      "cell_type": "code",
      "source": [
        "import yfinance as yf\n",
        "import numpy as np\n",
        "import pandas as pd\n",
        "import matplotlib.pyplot as plt\n",
        "from datetime import datetime, timedelta\n",
        "from statsmodels.tsa.holtwinters import ExponentialSmoothing\n",
        "from statsmodels.tsa.api import SimpleExpSmoothing\n",
        "import warnings\n",
        "\n",
        "# Get the current date\n",
        "current_date = datetime.today()\n",
        "end_date = current_date.strftime('%Y-%m-%d')\n",
        "start_date = (current_date - timedelta(days=253)).strftime('%Y-%m-%d')\n",
        "tsla_df = yf.download('TSLA', start=start_date, end=end_date)\n",
        "amzn_df = yf.download('AMZN', start=start_date, end=end_date)\n",
        "\n",
        "alphas = [0.15, 0.25, 0.45, 0.85]\n",
        "mapds_tsla = []\n",
        "mapds_amzn = []\n",
        "\n",
        "\n",
        "for alpha in alphas:\n",
        "      ses_tsla1 = SimpleExpSmoothing(tsla_df['Close']).fit(smoothing_level=alpha)\n",
        "      forecast_tsla1 = ses_tsla1.forecast(1)\n",
        "      ses_amzn1 = SimpleExpSmoothing(amzn_df['Close']).fit(smoothing_level=alpha)\n",
        "      forecast_amzn1 = ses_amzn.forecast(1)\n",
        "\n",
        "      actual_tsla1 = tsla_df['Close'].iloc[-1]\n",
        "      actual_amzn1 = amzn_df['Close'].iloc[-1]\n",
        "      mapd_tsla1 = np.abs((forecast_tsla1 - actual_tsla1) / actual_tsla1).values[0]\n",
        "      mapd_amzn = np.abs((forecast_amzn - actual_amzn1) / actual_amzn1).values[0]\n",
        "      mapds_tsla.append(mapd_tsla)\n",
        "      mapds_amzn.append(mapd_amzn)\n",
        "\n",
        "ses_forecast_df1 = pd.DataFrame({\"Tesla_exponential_smoothing\": ses_tsla, \"Tesla_Forecast_Exponential_smoothing\":  forecast_tsla, \"Amazon_exponential_smoothing\": ses_amzn, \"Amazon_Forecast_Exponential_smoothing\": forecast_amzn})\n",
        "ses_forecast_df1"
      ],
      "metadata": {
        "colab": {
          "base_uri": "https://localhost:8080/",
          "height": 671
        },
        "id": "IHK7s2LnVAMI",
        "outputId": "a236375c-626f-4f04-b1c3-09a5c0b6c592"
      },
      "execution_count": 138,
      "outputs": [
        {
          "output_type": "stream",
          "name": "stdout",
          "text": [
            "[*********************100%***********************]  1 of 1 completed\n",
            "[*********************100%***********************]  1 of 1 completed\n"
          ]
        },
        {
          "output_type": "stream",
          "name": "stderr",
          "text": [
            "/usr/local/lib/python3.9/dist-packages/statsmodels/tsa/base/tsa_model.py:471: ValueWarning: A date index has been provided, but it has no associated frequency information and so will be ignored when e.g. forecasting.\n",
            "  self._init_dates(dates, freq)\n",
            "/usr/local/lib/python3.9/dist-packages/statsmodels/tsa/base/tsa_model.py:834: ValueWarning: No supported index is available. Prediction results will be given with an integer index beginning at `start`.\n",
            "  return get_prediction_index(\n",
            "/usr/local/lib/python3.9/dist-packages/statsmodels/tsa/base/tsa_model.py:471: ValueWarning: A date index has been provided, but it has no associated frequency information and so will be ignored when e.g. forecasting.\n",
            "  self._init_dates(dates, freq)\n",
            "/usr/local/lib/python3.9/dist-packages/statsmodels/tsa/base/tsa_model.py:834: ValueWarning: No supported index is available. Prediction results will be given with an integer index beginning at `start`.\n",
            "  return get_prediction_index(\n",
            "/usr/local/lib/python3.9/dist-packages/statsmodels/tsa/base/tsa_model.py:471: ValueWarning: A date index has been provided, but it has no associated frequency information and so will be ignored when e.g. forecasting.\n",
            "  self._init_dates(dates, freq)\n",
            "/usr/local/lib/python3.9/dist-packages/statsmodels/tsa/base/tsa_model.py:834: ValueWarning: No supported index is available. Prediction results will be given with an integer index beginning at `start`.\n",
            "  return get_prediction_index(\n",
            "/usr/local/lib/python3.9/dist-packages/statsmodels/tsa/base/tsa_model.py:471: ValueWarning: A date index has been provided, but it has no associated frequency information and so will be ignored when e.g. forecasting.\n",
            "  self._init_dates(dates, freq)\n",
            "/usr/local/lib/python3.9/dist-packages/statsmodels/tsa/base/tsa_model.py:834: ValueWarning: No supported index is available. Prediction results will be given with an integer index beginning at `start`.\n",
            "  return get_prediction_index(\n",
            "/usr/local/lib/python3.9/dist-packages/statsmodels/tsa/base/tsa_model.py:471: ValueWarning: A date index has been provided, but it has no associated frequency information and so will be ignored when e.g. forecasting.\n",
            "  self._init_dates(dates, freq)\n",
            "/usr/local/lib/python3.9/dist-packages/statsmodels/tsa/base/tsa_model.py:834: ValueWarning: No supported index is available. Prediction results will be given with an integer index beginning at `start`.\n",
            "  return get_prediction_index(\n",
            "/usr/local/lib/python3.9/dist-packages/statsmodels/tsa/base/tsa_model.py:471: ValueWarning: A date index has been provided, but it has no associated frequency information and so will be ignored when e.g. forecasting.\n",
            "  self._init_dates(dates, freq)\n",
            "/usr/local/lib/python3.9/dist-packages/statsmodels/tsa/base/tsa_model.py:834: ValueWarning: No supported index is available. Prediction results will be given with an integer index beginning at `start`.\n",
            "  return get_prediction_index(\n",
            "/usr/local/lib/python3.9/dist-packages/statsmodels/tsa/base/tsa_model.py:471: ValueWarning: A date index has been provided, but it has no associated frequency information and so will be ignored when e.g. forecasting.\n",
            "  self._init_dates(dates, freq)\n",
            "/usr/local/lib/python3.9/dist-packages/statsmodels/tsa/base/tsa_model.py:834: ValueWarning: No supported index is available. Prediction results will be given with an integer index beginning at `start`.\n",
            "  return get_prediction_index(\n",
            "/usr/local/lib/python3.9/dist-packages/statsmodels/tsa/base/tsa_model.py:471: ValueWarning: A date index has been provided, but it has no associated frequency information and so will be ignored when e.g. forecasting.\n",
            "  self._init_dates(dates, freq)\n",
            "/usr/local/lib/python3.9/dist-packages/statsmodels/tsa/base/tsa_model.py:834: ValueWarning: No supported index is available. Prediction results will be given with an integer index beginning at `start`.\n",
            "  return get_prediction_index(\n"
          ]
        },
        {
          "output_type": "execute_result",
          "data": {
            "text/plain": [
              "                           Tesla_exponential_smoothing  \\\n",
              "175  <statsmodels.tsa.holtwinters.results.HoltWinte...   \n",
              "\n",
              "     Tesla_Forecast_Exponential_smoothing  \\\n",
              "175                            183.611145   \n",
              "\n",
              "                          Amazon_exponential_smoothing  \\\n",
              "175  <statsmodels.tsa.holtwinters.results.HoltWinte...   \n",
              "\n",
              "     Amazon_Forecast_Exponential_smoothing  \n",
              "175                              99.425305  "
            ],
            "text/html": [
              "\n",
              "  <div id=\"df-4c1c6cab-65b8-470a-b875-c5d01eedb247\">\n",
              "    <div class=\"colab-df-container\">\n",
              "      <div>\n",
              "<style scoped>\n",
              "    .dataframe tbody tr th:only-of-type {\n",
              "        vertical-align: middle;\n",
              "    }\n",
              "\n",
              "    .dataframe tbody tr th {\n",
              "        vertical-align: top;\n",
              "    }\n",
              "\n",
              "    .dataframe thead th {\n",
              "        text-align: right;\n",
              "    }\n",
              "</style>\n",
              "<table border=\"1\" class=\"dataframe\">\n",
              "  <thead>\n",
              "    <tr style=\"text-align: right;\">\n",
              "      <th></th>\n",
              "      <th>Tesla_exponential_smoothing</th>\n",
              "      <th>Tesla_Forecast_Exponential_smoothing</th>\n",
              "      <th>Amazon_exponential_smoothing</th>\n",
              "      <th>Amazon_Forecast_Exponential_smoothing</th>\n",
              "    </tr>\n",
              "  </thead>\n",
              "  <tbody>\n",
              "    <tr>\n",
              "      <th>175</th>\n",
              "      <td>&lt;statsmodels.tsa.holtwinters.results.HoltWinte...</td>\n",
              "      <td>183.611145</td>\n",
              "      <td>&lt;statsmodels.tsa.holtwinters.results.HoltWinte...</td>\n",
              "      <td>99.425305</td>\n",
              "    </tr>\n",
              "  </tbody>\n",
              "</table>\n",
              "</div>\n",
              "      <button class=\"colab-df-convert\" onclick=\"convertToInteractive('df-4c1c6cab-65b8-470a-b875-c5d01eedb247')\"\n",
              "              title=\"Convert this dataframe to an interactive table.\"\n",
              "              style=\"display:none;\">\n",
              "        \n",
              "  <svg xmlns=\"http://www.w3.org/2000/svg\" height=\"24px\"viewBox=\"0 0 24 24\"\n",
              "       width=\"24px\">\n",
              "    <path d=\"M0 0h24v24H0V0z\" fill=\"none\"/>\n",
              "    <path d=\"M18.56 5.44l.94 2.06.94-2.06 2.06-.94-2.06-.94-.94-2.06-.94 2.06-2.06.94zm-11 1L8.5 8.5l.94-2.06 2.06-.94-2.06-.94L8.5 2.5l-.94 2.06-2.06.94zm10 10l.94 2.06.94-2.06 2.06-.94-2.06-.94-.94-2.06-.94 2.06-2.06.94z\"/><path d=\"M17.41 7.96l-1.37-1.37c-.4-.4-.92-.59-1.43-.59-.52 0-1.04.2-1.43.59L10.3 9.45l-7.72 7.72c-.78.78-.78 2.05 0 2.83L4 21.41c.39.39.9.59 1.41.59.51 0 1.02-.2 1.41-.59l7.78-7.78 2.81-2.81c.8-.78.8-2.07 0-2.86zM5.41 20L4 18.59l7.72-7.72 1.47 1.35L5.41 20z\"/>\n",
              "  </svg>\n",
              "      </button>\n",
              "      \n",
              "  <style>\n",
              "    .colab-df-container {\n",
              "      display:flex;\n",
              "      flex-wrap:wrap;\n",
              "      gap: 12px;\n",
              "    }\n",
              "\n",
              "    .colab-df-convert {\n",
              "      background-color: #E8F0FE;\n",
              "      border: none;\n",
              "      border-radius: 50%;\n",
              "      cursor: pointer;\n",
              "      display: none;\n",
              "      fill: #1967D2;\n",
              "      height: 32px;\n",
              "      padding: 0 0 0 0;\n",
              "      width: 32px;\n",
              "    }\n",
              "\n",
              "    .colab-df-convert:hover {\n",
              "      background-color: #E2EBFA;\n",
              "      box-shadow: 0px 1px 2px rgba(60, 64, 67, 0.3), 0px 1px 3px 1px rgba(60, 64, 67, 0.15);\n",
              "      fill: #174EA6;\n",
              "    }\n",
              "\n",
              "    [theme=dark] .colab-df-convert {\n",
              "      background-color: #3B4455;\n",
              "      fill: #D2E3FC;\n",
              "    }\n",
              "\n",
              "    [theme=dark] .colab-df-convert:hover {\n",
              "      background-color: #434B5C;\n",
              "      box-shadow: 0px 1px 3px 1px rgba(0, 0, 0, 0.15);\n",
              "      filter: drop-shadow(0px 1px 2px rgba(0, 0, 0, 0.3));\n",
              "      fill: #FFFFFF;\n",
              "    }\n",
              "  </style>\n",
              "\n",
              "      <script>\n",
              "        const buttonEl =\n",
              "          document.querySelector('#df-4c1c6cab-65b8-470a-b875-c5d01eedb247 button.colab-df-convert');\n",
              "        buttonEl.style.display =\n",
              "          google.colab.kernel.accessAllowed ? 'block' : 'none';\n",
              "\n",
              "        async function convertToInteractive(key) {\n",
              "          const element = document.querySelector('#df-4c1c6cab-65b8-470a-b875-c5d01eedb247');\n",
              "          const dataTable =\n",
              "            await google.colab.kernel.invokeFunction('convertToInteractive',\n",
              "                                                     [key], {});\n",
              "          if (!dataTable) return;\n",
              "\n",
              "          const docLinkHtml = 'Like what you see? Visit the ' +\n",
              "            '<a target=\"_blank\" href=https://colab.research.google.com/notebooks/data_table.ipynb>data table notebook</a>'\n",
              "            + ' to learn more about interactive tables.';\n",
              "          element.innerHTML = '';\n",
              "          dataTable['output_type'] = 'display_data';\n",
              "          await google.colab.output.renderOutput(dataTable, element);\n",
              "          const docLink = document.createElement('div');\n",
              "          docLink.innerHTML = docLinkHtml;\n",
              "          element.appendChild(docLink);\n",
              "        }\n",
              "      </script>\n",
              "    </div>\n",
              "  </div>\n",
              "  "
            ]
          },
          "metadata": {},
          "execution_count": 138
        }
      ]
    },
    {
      "cell_type": "code",
      "source": [
        "best_alpha_tsla1 = alphas[np.argmin(mapds_tsla)]\n",
        "best_alpha_amzn1 = alphas[np.argmin(mapds_amzn)]\n",
        "\n",
        "# Print the results\n",
        "print(f\"TSLA - Best alpha1: {best_alpha_tsla:.2f}, MAPD: {np.min(mapds_tsla):.2%}\")\n",
        "print(f\"AMZN - Best alpha1: {best_alpha_amzn:.2f}, MAPD: {np.min(mapds_amzn):.2%}\")\n"
      ],
      "metadata": {
        "colab": {
          "base_uri": "https://localhost:8080/"
        },
        "id": "EpGS0y3ZWi5w",
        "outputId": "f2450b4b-a36a-4124-e5f1-5717e87cee8c"
      },
      "execution_count": 139,
      "outputs": [
        {
          "output_type": "stream",
          "name": "stdout",
          "text": [
            "TSLA - Best alpha1: 0.15, MAPD: 0.28%\n",
            "AMZN - Best alpha1: 0.75, MAPD: 0.61%\n"
          ]
        }
      ]
    },
    {
      "cell_type": "code",
      "source": [
        "tesla = tesla[['Close']].dropna()\n",
        "amazon = amazon[['Close']].dropna()"
      ],
      "metadata": {
        "id": "KcEgppQ2SI-u"
      },
      "execution_count": 199,
      "outputs": []
    },
    {
      "cell_type": "code",
      "source": [
        "# Define the tickers you want to combine\n",
        "tickers = [ 'TSLA', 'AMZN']\n",
        "# Combine the data for all tickers into a single DataFrame\n",
        "data = pd.concat([tesla1, amazon1], axis=1, keys=tickers)\n",
        "\n",
        "# Print the first few rows of the combined DataFrame\n",
        "print(data.head())"
      ],
      "metadata": {
        "colab": {
          "base_uri": "https://localhost:8080/"
        },
        "id": "1uhmqliFxIOX",
        "outputId": "90359a45-b411-4d7b-d4e1-55ea625664c2"
      },
      "execution_count": 14,
      "outputs": [
        {
          "output_type": "stream",
          "name": "stdout",
          "text": [
            "                                 TSLA                                      \\\n",
            "                                 Open        High         Low       Close   \n",
            "Date                                                                        \n",
            "2022-01-03 00:00:00-05:00  382.583344  400.356659  378.679993  399.926666   \n",
            "2022-01-04 00:00:00-05:00  396.516663  402.666656  374.350006  383.196655   \n",
            "2022-01-05 00:00:00-05:00  382.216675  390.113342  360.336670  362.706665   \n",
            "2022-01-06 00:00:00-05:00  359.000000  362.666656  340.166656  354.899994   \n",
            "2022-01-07 00:00:00-05:00  360.123322  360.309998  336.666656  342.320007   \n",
            "\n",
            "                                                                   AMZN  \\\n",
            "                              Volume Dividends Stock Splits        Open   \n",
            "Date                                                                      \n",
            "2022-01-03 00:00:00-05:00  103931400       0.0          0.0  382.583344   \n",
            "2022-01-04 00:00:00-05:00  100248300       0.0          0.0  396.516663   \n",
            "2022-01-05 00:00:00-05:00   80119800       0.0          0.0  382.216675   \n",
            "2022-01-06 00:00:00-05:00   90336600       0.0          0.0  359.000000   \n",
            "2022-01-07 00:00:00-05:00   84164700       0.0          0.0  360.123322   \n",
            "\n",
            "                                                                          \\\n",
            "                                 High         Low       Close     Volume   \n",
            "Date                                                                       \n",
            "2022-01-03 00:00:00-05:00  400.356659  378.679993  399.926666  103931400   \n",
            "2022-01-04 00:00:00-05:00  402.666656  374.350006  383.196655  100248300   \n",
            "2022-01-05 00:00:00-05:00  390.113342  360.336670  362.706665   80119800   \n",
            "2022-01-06 00:00:00-05:00  362.666656  340.166656  354.899994   90336600   \n",
            "2022-01-07 00:00:00-05:00  360.309998  336.666656  342.320007   84164700   \n",
            "\n",
            "                                                  \n",
            "                          Dividends Stock Splits  \n",
            "Date                                              \n",
            "2022-01-03 00:00:00-05:00       0.0          0.0  \n",
            "2022-01-04 00:00:00-05:00       0.0          0.0  \n",
            "2022-01-05 00:00:00-05:00       0.0          0.0  \n",
            "2022-01-06 00:00:00-05:00       0.0          0.0  \n",
            "2022-01-07 00:00:00-05:00       0.0          0.0  \n"
          ]
        }
      ]
    },
    {
      "cell_type": "code",
      "source": [],
      "metadata": {
        "id": "5AMweZfNFUfp"
      },
      "execution_count": null,
      "outputs": []
    },
    {
      "cell_type": "markdown",
      "source": [],
      "metadata": {
        "id": "mPMv4vB5oydc"
      }
    },
    {
      "cell_type": "code",
      "source": [],
      "metadata": {
        "id": "JHZjJWH7Tmuc"
      },
      "execution_count": null,
      "outputs": []
    },
    {
      "cell_type": "markdown",
      "source": [
        "Part 2: Long-term Forecasting"
      ],
      "metadata": {
        "id": "v2U6fzOZo4Tr"
      }
    },
    {
      "cell_type": "markdown",
      "source": [
        "(i)"
      ],
      "metadata": {
        "id": "rlZADrMBozHJ"
      }
    },
    {
      "cell_type": "code",
      "source": [
        "# Extract the closing price data for Tesla and Amazon\n",
        "tesla_close = tesla_df['Close']\n",
        "amazon_close = amazon_df['Close']\n",
        "\n",
        "# Define the weights for the weighted moving average\n",
        "weights = [0.5, 0.3, 0.2]\n",
        "\n",
        "# Calculate the weighted moving averages for Tesla and Amazon\n",
        "tesla_wma = np.convolve(tesla_close, weights)[:len(tesla_close)]\n",
        "amazon_wma = np.convolve(amazon_close, weights)[:len(amazon_close)]\n",
        "\n",
        "# Define the base value for linear trend\n",
        "tesla_base = tesla_close[100]\n",
        "amazon_base = amazon_close[100]\n",
        "\n",
        "# Calculate the linear trend for Tesla and Amazon\n",
        "tesla_trend = (tesla_close[101:] - tesla_base).mean()\n",
        "amazon_trend = (amazon_close[101:] - amazon_base).mean()\n",
        "\n",
        "# Calculate the forecasted values for Tesla and Amazon\n",
        "tesla_forecast = np.arange(101, 258) * tesla_trend + tesla_base\n",
        "amazon_forecast = np.arange(101, 258) * amazon_trend + amazon_base\n",
        "\n",
        "\n",
        "# Print the trend for Tesla and Amazon\n",
        "print('Tesla Trend:', tesla_trend)\n",
        "print('Amazon Trend:', amazon_trend)\n",
        "print('Tesla Forecast:', tesla_forecast)\n",
        "print('Amazon Forecast:', amazon_forecast)\n",
        "\n",
        "trend_forecast_df = pd.DataFrame({'Tesla Trend': tesla_trend, 'Amazon Trend': amazon_trend, 'Tesla Forecast': tesla_forecast, 'Amazon Forecast': amazon_forecast})\n",
        "trend_forecast_df"
      ],
      "metadata": {
        "id": "YsELwrg1pOuS",
        "colab": {
          "base_uri": "https://localhost:8080/",
          "height": 1000
        },
        "outputId": "5357357b-3059-4521-b184-954f7367b31d"
      },
      "execution_count": 135,
      "outputs": [
        {
          "output_type": "stream",
          "name": "stdout",
          "text": [
            "Tesla Trend: -14.934248623782642\n",
            "Amazon Trend: 1.2746594572720462\n",
            "Tesla Forecast: [-1327.52910917 -1342.46335779 -1357.39760642 -1372.33185504\n",
            " -1387.26610367 -1402.20035229 -1417.13460091 -1432.06884954\n",
            " -1447.00309816 -1461.93734679 -1476.87159541 -1491.80584403\n",
            " -1506.74009266 -1521.67434128 -1536.6085899  -1551.54283853\n",
            " -1566.47708715 -1581.41133578 -1596.3455844  -1611.27983302\n",
            " -1626.21408165 -1641.14833027 -1656.08257889 -1671.01682752\n",
            " -1685.95107614 -1700.88532477 -1715.81957339 -1730.75382201\n",
            " -1745.68807064 -1760.62231926 -1775.55656788 -1790.49081651\n",
            " -1805.42506513 -1820.35931376 -1835.29356238 -1850.227811\n",
            " -1865.16205963 -1880.09630825 -1895.03055687 -1909.9648055\n",
            " -1924.89905412 -1939.83330275 -1954.76755137 -1969.70179999\n",
            " -1984.63604862 -1999.57029724 -2014.50454586 -2029.43879449\n",
            " -2044.37304311 -2059.30729174 -2074.24154036 -2089.17578898\n",
            " -2104.11003761 -2119.04428623 -2133.97853486 -2148.91278348\n",
            " -2163.8470321  -2178.78128073 -2193.71552935 -2208.64977797\n",
            " -2223.5840266  -2238.51827522 -2253.45252385 -2268.38677247\n",
            " -2283.32102109 -2298.25526972 -2313.18951834 -2328.12376696\n",
            " -2343.05801559 -2357.99226421 -2372.92651284 -2387.86076146\n",
            " -2402.79501008 -2417.72925871 -2432.66350733 -2447.59775595\n",
            " -2462.53200458 -2477.4662532  -2492.40050183 -2507.33475045\n",
            " -2522.26899907 -2537.2032477  -2552.13749632 -2567.07174494\n",
            " -2582.00599357 -2596.94024219 -2611.87449082 -2626.80873944\n",
            " -2641.74298806 -2656.67723669 -2671.61148531 -2686.54573394\n",
            " -2701.47998256 -2716.41423118 -2731.34847981 -2746.28272843\n",
            " -2761.21697705 -2776.15122568 -2791.0854743  -2806.01972293\n",
            " -2820.95397155 -2835.88822017 -2850.8224688  -2865.75671742\n",
            " -2880.69096604 -2895.62521467 -2910.55946329 -2925.49371192\n",
            " -2940.42796054 -2955.36220916 -2970.29645779 -2985.23070641\n",
            " -3000.16495503 -3015.09920366 -3030.03345228 -3044.96770091\n",
            " -3059.90194953 -3074.83619815 -3089.77044678 -3104.7046954\n",
            " -3119.63894402 -3134.57319265 -3149.50744127 -3164.4416899\n",
            " -3179.37593852 -3194.31018714 -3209.24443577 -3224.17868439\n",
            " -3239.11293302 -3254.04718164 -3268.98143026 -3283.91567889\n",
            " -3298.84992751 -3313.78417613 -3328.71842476 -3343.65267338\n",
            " -3358.58692201 -3373.52117063 -3388.45541925 -3403.38966788\n",
            " -3418.3239165  -3433.25816512 -3448.19241375 -3463.12666237\n",
            " -3478.060911   -3492.99515962 -3507.92940824 -3522.86365687\n",
            " -3537.79790549 -3552.73215411 -3567.66640274 -3582.60065136\n",
            " -3597.53489999 -3612.46914861 -3627.40339723 -3642.33764586\n",
            " -3657.27189448]\n",
            "Amazon Forecast: [221.16060335 222.43526281 223.70992227 224.98458173 226.25924118\n",
            " 227.53390064 228.8085601  230.08321955 231.35787901 232.63253847\n",
            " 233.90719793 235.18185738 236.45651684 237.7311763  239.00583576\n",
            " 240.28049521 241.55515467 242.82981413 244.10447358 245.37913304\n",
            " 246.6537925  247.92845196 249.20311141 250.47777087 251.75243033\n",
            " 253.02708979 254.30174924 255.5764087  256.85106816 258.12572761\n",
            " 259.40038707 260.67504653 261.94970599 263.22436544 264.4990249\n",
            " 265.77368436 267.04834382 268.32300327 269.59766273 270.87232219\n",
            " 272.14698164 273.4216411  274.69630056 275.97096002 277.24561947\n",
            " 278.52027893 279.79493839 281.06959785 282.3442573  283.61891676\n",
            " 284.89357622 286.16823567 287.44289513 288.71755459 289.99221405\n",
            " 291.2668735  292.54153296 293.81619242 295.09085188 296.36551133\n",
            " 297.64017079 298.91483025 300.1894897  301.46414916 302.73880862\n",
            " 304.01346808 305.28812753 306.56278699 307.83744645 309.11210591\n",
            " 310.38676536 311.66142482 312.93608428 314.21074373 315.48540319\n",
            " 316.76006265 318.03472211 319.30938156 320.58404102 321.85870048\n",
            " 323.13335994 324.40801939 325.68267885 326.95733831 328.23199776\n",
            " 329.50665722 330.78131668 332.05597614 333.33063559 334.60529505\n",
            " 335.87995451 337.15461397 338.42927342 339.70393288 340.97859234\n",
            " 342.25325179 343.52791125 344.80257071 346.07723017 347.35188962\n",
            " 348.62654908 349.90120854 351.175868   352.45052745 353.72518691\n",
            " 354.99984637 356.27450582 357.54916528 358.82382474 360.0984842\n",
            " 361.37314365 362.64780311 363.92246257 365.19712203 366.47178148\n",
            " 367.74644094 369.0211004  370.29575985 371.57041931 372.84507877\n",
            " 374.11973823 375.39439768 376.66905714 377.9437166  379.21837606\n",
            " 380.49303551 381.76769497 383.04235443 384.31701388 385.59167334\n",
            " 386.8663328  388.14099226 389.41565171 390.69031117 391.96497063\n",
            " 393.23963009 394.51428954 395.788949   397.06360846 398.33826791\n",
            " 399.61292737 400.88758683 402.16224629 403.43690574 404.7115652\n",
            " 405.98622466 407.26088412 408.53554357 409.81020303 411.08486249\n",
            " 412.35952194 413.6341814  414.90884086 416.18350032 417.45815977\n",
            " 418.73281923 420.00747869]\n"
          ]
        },
        {
          "output_type": "execute_result",
          "data": {
            "text/plain": [
              "     Tesla Trend  Amazon Trend  Tesla Forecast  Amazon Forecast\n",
              "0     -14.934249      1.274659    -1327.529109       221.160603\n",
              "1     -14.934249      1.274659    -1342.463358       222.435263\n",
              "2     -14.934249      1.274659    -1357.397606       223.709922\n",
              "3     -14.934249      1.274659    -1372.331855       224.984582\n",
              "4     -14.934249      1.274659    -1387.266104       226.259241\n",
              "..           ...           ...             ...              ...\n",
              "152   -14.934249      1.274659    -3597.534900       414.908841\n",
              "153   -14.934249      1.274659    -3612.469149       416.183500\n",
              "154   -14.934249      1.274659    -3627.403397       417.458160\n",
              "155   -14.934249      1.274659    -3642.337646       418.732819\n",
              "156   -14.934249      1.274659    -3657.271894       420.007479\n",
              "\n",
              "[157 rows x 4 columns]"
            ],
            "text/html": [
              "\n",
              "  <div id=\"df-2b130be0-19e4-4217-ac30-1b2ff5f4857d\">\n",
              "    <div class=\"colab-df-container\">\n",
              "      <div>\n",
              "<style scoped>\n",
              "    .dataframe tbody tr th:only-of-type {\n",
              "        vertical-align: middle;\n",
              "    }\n",
              "\n",
              "    .dataframe tbody tr th {\n",
              "        vertical-align: top;\n",
              "    }\n",
              "\n",
              "    .dataframe thead th {\n",
              "        text-align: right;\n",
              "    }\n",
              "</style>\n",
              "<table border=\"1\" class=\"dataframe\">\n",
              "  <thead>\n",
              "    <tr style=\"text-align: right;\">\n",
              "      <th></th>\n",
              "      <th>Tesla Trend</th>\n",
              "      <th>Amazon Trend</th>\n",
              "      <th>Tesla Forecast</th>\n",
              "      <th>Amazon Forecast</th>\n",
              "    </tr>\n",
              "  </thead>\n",
              "  <tbody>\n",
              "    <tr>\n",
              "      <th>0</th>\n",
              "      <td>-14.934249</td>\n",
              "      <td>1.274659</td>\n",
              "      <td>-1327.529109</td>\n",
              "      <td>221.160603</td>\n",
              "    </tr>\n",
              "    <tr>\n",
              "      <th>1</th>\n",
              "      <td>-14.934249</td>\n",
              "      <td>1.274659</td>\n",
              "      <td>-1342.463358</td>\n",
              "      <td>222.435263</td>\n",
              "    </tr>\n",
              "    <tr>\n",
              "      <th>2</th>\n",
              "      <td>-14.934249</td>\n",
              "      <td>1.274659</td>\n",
              "      <td>-1357.397606</td>\n",
              "      <td>223.709922</td>\n",
              "    </tr>\n",
              "    <tr>\n",
              "      <th>3</th>\n",
              "      <td>-14.934249</td>\n",
              "      <td>1.274659</td>\n",
              "      <td>-1372.331855</td>\n",
              "      <td>224.984582</td>\n",
              "    </tr>\n",
              "    <tr>\n",
              "      <th>4</th>\n",
              "      <td>-14.934249</td>\n",
              "      <td>1.274659</td>\n",
              "      <td>-1387.266104</td>\n",
              "      <td>226.259241</td>\n",
              "    </tr>\n",
              "    <tr>\n",
              "      <th>...</th>\n",
              "      <td>...</td>\n",
              "      <td>...</td>\n",
              "      <td>...</td>\n",
              "      <td>...</td>\n",
              "    </tr>\n",
              "    <tr>\n",
              "      <th>152</th>\n",
              "      <td>-14.934249</td>\n",
              "      <td>1.274659</td>\n",
              "      <td>-3597.534900</td>\n",
              "      <td>414.908841</td>\n",
              "    </tr>\n",
              "    <tr>\n",
              "      <th>153</th>\n",
              "      <td>-14.934249</td>\n",
              "      <td>1.274659</td>\n",
              "      <td>-3612.469149</td>\n",
              "      <td>416.183500</td>\n",
              "    </tr>\n",
              "    <tr>\n",
              "      <th>154</th>\n",
              "      <td>-14.934249</td>\n",
              "      <td>1.274659</td>\n",
              "      <td>-3627.403397</td>\n",
              "      <td>417.458160</td>\n",
              "    </tr>\n",
              "    <tr>\n",
              "      <th>155</th>\n",
              "      <td>-14.934249</td>\n",
              "      <td>1.274659</td>\n",
              "      <td>-3642.337646</td>\n",
              "      <td>418.732819</td>\n",
              "    </tr>\n",
              "    <tr>\n",
              "      <th>156</th>\n",
              "      <td>-14.934249</td>\n",
              "      <td>1.274659</td>\n",
              "      <td>-3657.271894</td>\n",
              "      <td>420.007479</td>\n",
              "    </tr>\n",
              "  </tbody>\n",
              "</table>\n",
              "<p>157 rows × 4 columns</p>\n",
              "</div>\n",
              "      <button class=\"colab-df-convert\" onclick=\"convertToInteractive('df-2b130be0-19e4-4217-ac30-1b2ff5f4857d')\"\n",
              "              title=\"Convert this dataframe to an interactive table.\"\n",
              "              style=\"display:none;\">\n",
              "        \n",
              "  <svg xmlns=\"http://www.w3.org/2000/svg\" height=\"24px\"viewBox=\"0 0 24 24\"\n",
              "       width=\"24px\">\n",
              "    <path d=\"M0 0h24v24H0V0z\" fill=\"none\"/>\n",
              "    <path d=\"M18.56 5.44l.94 2.06.94-2.06 2.06-.94-2.06-.94-.94-2.06-.94 2.06-2.06.94zm-11 1L8.5 8.5l.94-2.06 2.06-.94-2.06-.94L8.5 2.5l-.94 2.06-2.06.94zm10 10l.94 2.06.94-2.06 2.06-.94-2.06-.94-.94-2.06-.94 2.06-2.06.94z\"/><path d=\"M17.41 7.96l-1.37-1.37c-.4-.4-.92-.59-1.43-.59-.52 0-1.04.2-1.43.59L10.3 9.45l-7.72 7.72c-.78.78-.78 2.05 0 2.83L4 21.41c.39.39.9.59 1.41.59.51 0 1.02-.2 1.41-.59l7.78-7.78 2.81-2.81c.8-.78.8-2.07 0-2.86zM5.41 20L4 18.59l7.72-7.72 1.47 1.35L5.41 20z\"/>\n",
              "  </svg>\n",
              "      </button>\n",
              "      \n",
              "  <style>\n",
              "    .colab-df-container {\n",
              "      display:flex;\n",
              "      flex-wrap:wrap;\n",
              "      gap: 12px;\n",
              "    }\n",
              "\n",
              "    .colab-df-convert {\n",
              "      background-color: #E8F0FE;\n",
              "      border: none;\n",
              "      border-radius: 50%;\n",
              "      cursor: pointer;\n",
              "      display: none;\n",
              "      fill: #1967D2;\n",
              "      height: 32px;\n",
              "      padding: 0 0 0 0;\n",
              "      width: 32px;\n",
              "    }\n",
              "\n",
              "    .colab-df-convert:hover {\n",
              "      background-color: #E2EBFA;\n",
              "      box-shadow: 0px 1px 2px rgba(60, 64, 67, 0.3), 0px 1px 3px 1px rgba(60, 64, 67, 0.15);\n",
              "      fill: #174EA6;\n",
              "    }\n",
              "\n",
              "    [theme=dark] .colab-df-convert {\n",
              "      background-color: #3B4455;\n",
              "      fill: #D2E3FC;\n",
              "    }\n",
              "\n",
              "    [theme=dark] .colab-df-convert:hover {\n",
              "      background-color: #434B5C;\n",
              "      box-shadow: 0px 1px 3px 1px rgba(0, 0, 0, 0.15);\n",
              "      filter: drop-shadow(0px 1px 2px rgba(0, 0, 0, 0.3));\n",
              "      fill: #FFFFFF;\n",
              "    }\n",
              "  </style>\n",
              "\n",
              "      <script>\n",
              "        const buttonEl =\n",
              "          document.querySelector('#df-2b130be0-19e4-4217-ac30-1b2ff5f4857d button.colab-df-convert');\n",
              "        buttonEl.style.display =\n",
              "          google.colab.kernel.accessAllowed ? 'block' : 'none';\n",
              "\n",
              "        async function convertToInteractive(key) {\n",
              "          const element = document.querySelector('#df-2b130be0-19e4-4217-ac30-1b2ff5f4857d');\n",
              "          const dataTable =\n",
              "            await google.colab.kernel.invokeFunction('convertToInteractive',\n",
              "                                                     [key], {});\n",
              "          if (!dataTable) return;\n",
              "\n",
              "          const docLinkHtml = 'Like what you see? Visit the ' +\n",
              "            '<a target=\"_blank\" href=https://colab.research.google.com/notebooks/data_table.ipynb>data table notebook</a>'\n",
              "            + ' to learn more about interactive tables.';\n",
              "          element.innerHTML = '';\n",
              "          dataTable['output_type'] = 'display_data';\n",
              "          await google.colab.output.renderOutput(dataTable, element);\n",
              "          const docLink = document.createElement('div');\n",
              "          docLink.innerHTML = docLinkHtml;\n",
              "          element.appendChild(docLink);\n",
              "        }\n",
              "      </script>\n",
              "    </div>\n",
              "  </div>\n",
              "  "
            ]
          },
          "metadata": {},
          "execution_count": 135
        }
      ]
    },
    {
      "cell_type": "code",
      "source": [
        "# Plot the trends and forecasts for Tesla and Amazon\n",
        "plt.figure(figsize=(12,6))\n",
        "plt.plot(tesla_close, label='Tesla Close')\n",
        "plt.plot(amazon_close, label='Amazon Close')\n",
        "plt.plot(np.arange(101, 258), tesla_forecast, label='Tesla Forecast')\n",
        "plt.plot(np.arange(101, 258), amazon_forecast, label='Amazon Forecast')\n",
        "plt.legend()\n",
        "plt.title('Trends and Forecasts for Tesla and Amazon')\n",
        "plt.xlabel('Days')\n",
        "plt.ylabel('Closing Price')\n",
        "plt.show()"
      ],
      "metadata": {
        "colab": {
          "base_uri": "https://localhost:8080/",
          "height": 404
        },
        "id": "E6qC7pbC0qYy",
        "outputId": "391f6f9c-3296-475d-c425-6b7cf35d5a2a"
      },
      "execution_count": 116,
      "outputs": [
        {
          "output_type": "display_data",
          "data": {
            "text/plain": [
              "<Figure size 864x432 with 1 Axes>"
            ],
            "image/png": "[encoded data removed]"
          },
          "metadata": {
            "needs_background": "light"
          }
        }
      ]
    },
    {
      "cell_type": "code",
      "source": [
        "\n",
        "# Define plot parameters\n",
        "fig, ax = plt.subplots(figsize=(12, 6))\n",
        "\n",
        "# Plot the data\n",
        "ax.plot(tesla_close, label='Tesla Close')\n",
        "ax.plot(amazon_close, label='Amazon Close')\n",
        "ax.plot(np.arange(101, 258), tesla_forecast, label='Tesla Forecast')\n",
        "ax.plot(np.arange(101, 258), amazon_forecast, label='Amazon Forecast')\n",
        "\n",
        "# Add plot title and labels\n",
        "ax.set_title('Trends and Forecasts for Tesla and Amazon')\n",
        "ax.set_xlabel('Days')\n",
        "ax.set_ylabel('Closing Price')\n",
        "\n",
        "# Add legend\n",
        "ax.legend()\n",
        "\n",
        "# Show the plot\n",
        "plt.show()\n",
        "\n"
      ],
      "metadata": {
        "colab": {
          "base_uri": "https://localhost:8080/",
          "height": 404
        },
        "id": "ujsqTE2KtcZf",
        "outputId": "08ca6cd3-9396-4d08-c93b-68958188cf2f"
      },
      "execution_count": 26,
      "outputs": [
        {
          "output_type": "display_data",
          "data": {
            "text/plain": [
              "<Figure size 864x432 with 1 Axes>"
            ],
            "image/png": "[encoded data removed]"
          },
          "metadata": {
            "needs_background": "light"
          }
        }
      ]
    },
    {
      "cell_type": "code",
      "source": [
        "# Extract the actual closing prices for Tesla and Amazon for periods 253-257\n",
        "tesla_actual = tesla_close[252:257].values\n",
        "amazon_actual = amazon_close[252:257].values\n",
        "\n",
        "# Calculate the MAPEs for Tesla and Amazon\n",
        "tesla_mape = np.mean(np.abs((tesla_actual - tesla_forecast[152:157]) / tesla_actual)) * 100\n",
        "amazon_mape = np.mean(np.abs((amazon_actual - amazon_forecast[152:157]) / amazon_actual)) * 100\n",
        "\n",
        "# Print the MAPEs for Tesla and Amazon\n",
        "print('Tesla MAPE:', tesla_mape)\n",
        "print('Amazon MAPE:', amazon_mape)"
      ],
      "metadata": {
        "colab": {
          "base_uri": "https://localhost:8080/"
        },
        "id": "Nu9b9SdmzwT3",
        "outputId": "1024d17c-ebfb-41e0-a8e1-ec472f9e8f9d"
      },
      "execution_count": 211,
      "outputs": [
        {
          "output_type": "stream",
          "name": "stdout",
          "text": [
            "Tesla MAPE: 146054.86756618015\n",
            "Amazon MAPE: 13438.612712503973\n"
          ]
        }
      ]
    },
    {
      "cell_type": "markdown",
      "source": [
        "Part 3: Regression: "
      ],
      "metadata": {
        "id": "UVJHM_Qz1WD0"
      }
    },
    {
      "cell_type": "markdown",
      "source": [
        "(i) For each stock, use simple regression of stock values versus the time periods to predict its\n",
        "values for periods 1 through 257. In your report, describe how the accuracy of this\n",
        "prediction has been compared to the methods used in Parts 1 and 2 of this project"
      ],
      "metadata": {
        "id": "IJo4aGoH1wlT"
      }
    },
    {
      "cell_type": "code",
      "source": [
        "from scipy.stats import chi2\n",
        "from statsmodels.graphics.gofplots import ProbPlot\n",
        "\n",
        "# Get the time periods\n",
        "time_periods = np.arange(1, len(tesla_df)+1)\n",
        "time_periods1 = np.arange(1, len(amazon_df)+1)\n",
        "\n",
        "tesla_reg = LinearRegression()\n",
        "amazon_reg = LinearRegression()\n",
        "\n",
        "# Fit the regression model for Tesla and Amazon\n",
        "tesla_reg.fit(time_periods.reshape(-1, 1), tesla_df['Close'])\n",
        "amazon_reg.fit(time_periods.reshape(-1, 1), amazon_df['Close'])\n",
        "\n",
        "# Predict the stock prices for the next 257 periods\n",
        "future_periods = np.arange(1, 258)\n",
        "tesla_pred = tesla_reg.predict(future_periods.reshape(-1, 1))\n",
        "amazon_pred = amazon_reg.predict(future_periods.reshape(-1, 1))\n",
        "\n",
        "# Plot the predicted stock prices for Tesla and Amazon\n",
        "plt.plot(tesla['Close'], label='Tesla Actual')\n",
        "plt.plot(future_periods, tesla_pred, label='Tesla Predicted')\n",
        "plt.title('Tesla  Actual vs predicted Price')\n",
        "plt.legend()\n",
        "plt.show()\n",
        "\n",
        "plt.plot(amazon['Close'], label='Amazon Actual')\n",
        "plt.plot(future_periods, amazon_pred, label='Amazon Predicted')\n",
        "plt.title('Amazon  Actual vs predicted Price')\n",
        "plt.legend()\n",
        "plt.show()\n"
      ],
      "metadata": {
        "colab": {
          "base_uri": "https://localhost:8080/",
          "height": 545
        },
        "id": "wo6a-yeaw8wc",
        "outputId": "03bf2d93-e597-407f-b709-595dfe8903c6"
      },
      "execution_count": 133,
      "outputs": [
        {
          "output_type": "display_data",
          "data": {
            "text/plain": [
              "<Figure size 432x288 with 1 Axes>"
            ],
            "image/png": "[encoded data removed]"
          },
          "metadata": {
            "needs_background": "light"
          }
        },
        {
          "output_type": "display_data",
          "data": {
            "text/plain": [
              "<Figure size 432x288 with 1 Axes>"
            ],
            "image/png": "[encoded data removed]"
          },
          "metadata": {
            "needs_background": "light"
          }
        }
      ]
    },
    {
      "cell_type": "code",
      "source": [
        "\n",
        "# Perform the simple regression analysis for Tesla stock\n",
        "tesla_X = tesla_pred\n",
        "tesla_y = tesla_df['Close'].values.reshape(-1,1)\n",
        "\n",
        "# Perform the simple regression analysis for Amazon stock\n",
        "amazon_X = amazon_pred\n",
        "amazon_y = amazon_df['Close'].values.reshape(-1,1)\n",
        "\n",
        "tesla_pred = tesla_reg.predict(np.arange(1, 258).reshape(-1,1))\n",
        "amazon_pred = amazon_reg.predict(np.arange(1, 258).reshape(-1,1))\n",
        "\n",
        "# Evaluate the accuracy of the prediction for Tesla stock\n",
        "tesla_mse = np.mean((tesla_pred - tesla_y)**2)\n",
        "tesla_r2 = tesla_reg.score(time_periods.reshape(-1, 1), tesla_y)\n",
        "\n",
        "\n",
        "# Evaluate the accuracy of the prediction for amazon stock\n",
        "amazon_mse = np.mean((amazon_pred - amazon_y)**2)\n",
        "amazon_r2 = amazon_reg.score(time_periods.reshape(-1, 1), tesla_y)\n",
        "\n",
        "print(\"Tesla stock prediction accuracy:\")\n",
        "print(\"Tesla Mean squared error: \", tesla_mse)\n",
        "print(\"Tesla R-squared: \", tesla_r2)\n",
        "\n",
        "print(\"Amazon stock prediction accuracy:\")\n",
        "print(\"Amazon Mean squared error: \", amazon_mse)\n",
        "print(\"Amazon R-squared: \", amazon_r2)\n"
      ],
      "metadata": {
        "colab": {
          "base_uri": "https://localhost:8080/"
        },
        "id": "THHAfyghyi3s",
        "outputId": "65e555b6-41f8-45ea-b531-7900a261e74b"
      },
      "execution_count": 42,
      "outputs": [
        {
          "output_type": "stream",
          "name": "stdout",
          "text": [
            "Tesla stock prediction accuracy:\n",
            "Tesla Mean squared error:  32175.411392972987\n",
            "Tesla R-squared:  0.7030518457118142\n",
            "Amazon stock prediction accuracy:\n",
            "Amazon Mean squared error:  2082.7884862368755\n",
            "Amazon R-squared:  0.2518023574160577\n"
          ]
        }
      ]
    },
    {
      "cell_type": "code",
      "source": [
        "# Calculate the residuals for Tesla and Amazon\n",
        "tesla_residuals = tesla_df['Close'] - tesla_reg.predict(time_periods.reshape(-1, 1))\n",
        "amazon_residuals = amazon_df['Close'] - amazon_reg.predict(time_periods.reshape(-1, 1))\n",
        "\n",
        "\n",
        "# Check for independence of residuals using the Durbin-Watson test\n",
        "from statsmodels.stats.stattools import durbin_watson\n",
        "print('Durbin-Watson Test for Independence of Residuals')\n",
        "print(f'Tesla: {durbin_watson(tesla_residuals)}')\n",
        "print(f'Amazon: {durbin_watson(amazon_residuals)}')\n",
        "\n",
        "# Check for homoscedasticity of residuals using the Breusch-Pagan test\n",
        "from statsmodels.stats.diagnostic import het_breuschpagan\n",
        "print('\\nBreusch-Pagan Test for Homoscedasticity of Residuals')\n",
        "bp_tesla = het_breuschpagan(tesla_residuals, time_periods.reshape(-1, 1))\n",
        "bp_amazon = het_breuschpagan(amazon_residuals, time_periods.reshape(-1, 1))\n",
        "print(f'Tesla: p-value = {bp_tesla[1]}', f'F-statistic = {bp_tesla[0]}')\n",
        "print(f'Amazon: p-value = {bp_amazon[1]}', f'F-statistic = {bp_amazon[0]}')\n",
        "\n",
        "\n"
      ],
      "metadata": {
        "colab": {
          "base_uri": "https://localhost:8080/"
        },
        "id": "FwQF5g2XC0mw",
        "outputId": "09eb2dc0-d491-4489-91dc-955cabbb83d5"
      },
      "execution_count": 44,
      "outputs": [
        {
          "output_type": "stream",
          "name": "stdout",
          "text": [
            "Durbin-Watson Test for Independence of Residuals\n",
            "Tesla: 0.012204047322819444\n",
            "Amazon: 0.009132520822058442\n",
            "\n",
            "Breusch-Pagan Test for Homoscedasticity of Residuals\n",
            "Tesla: p-value = nan F-statistic = 569.5790412672776\n",
            "Amazon: p-value = nan F-statistic = 837.7204566394139\n"
          ]
        }
      ]
    },
    {
      "cell_type": "code",
      "source": [
        "import scipy.stats as stats\n",
        "import matplotlib.pyplot as plt\n",
        "# Plot normal probability plot of residuals for Tesla\n",
        "stats.probplot(tesla_residuals, dist=\"norm\", plot=plt)\n",
        "plt.title(\"Normal Probability Plot of Residuals (Tesla)\")\n",
        "plt.show()\n",
        "\n",
        "# Plot normal probability plot of residuals for Amazon\n",
        "stats.probplot(amazon_residuals, dist=\"norm\", plot=plt)\n",
        "plt.title(\"Normal Probability Plot of Residuals (Amazon)\")\n",
        "plt.show()\n",
        "\n",
        "# Perform chi-squared test for normality of residuals for Tesla\n",
        "_, pvalue = stats.normaltest(tesla_residuals)\n",
        "print(\"Chi-squared test for normality of residuals\")\n",
        "print(f\"Tesla: p-value = {pvalue:.3f}\")\n",
        "\n",
        "# Perform chi-squared test for normality of residuals for Amazon\n",
        "_, pvalue = stats.normaltest(amazon_residuals)\n",
        "print(\"Chi-squared test for normality of residuals\")\n",
        "print(f\"Amazon: p-value = {pvalue:.3f}\")\n",
        "\n",
        "\n"
      ],
      "metadata": {
        "colab": {
          "base_uri": "https://localhost:8080/",
          "height": 642
        },
        "id": "946AAlwYPmvL",
        "outputId": "5e25f6aa-6a0a-4d4c-c58b-40387a6c94e5"
      },
      "execution_count": 45,
      "outputs": [
        {
          "output_type": "display_data",
          "data": {
            "text/plain": [
              "<Figure size 432x288 with 1 Axes>"
            ],
            "image/png": "[encoded data removed]"
          },
          "metadata": {
            "needs_background": "light"
          }
        },
        {
          "output_type": "display_data",
          "data": {
            "text/plain": [
              "<Figure size 432x288 with 1 Axes>"
            ],
            "image/png": "[encoded data removed]"
          },
          "metadata": {
            "needs_background": "light"
          }
        },
        {
          "output_type": "stream",
          "name": "stdout",
          "text": [
            "Chi-squared test for normality of residuals\n",
            "Tesla: p-value = 0.081\n",
            "Chi-squared test for normality of residuals\n",
            "Amazon: p-value = 0.000\n"
          ]
        }
      ]
    }
  ]
}