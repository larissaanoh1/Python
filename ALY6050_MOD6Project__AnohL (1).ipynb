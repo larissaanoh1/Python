{
  "nbformat": 4,
  "nbformat_minor": 0,
  "metadata": {
    "colab": {
      "provenance": []
    },
    "kernelspec": {
      "name": "python3",
      "display_name": "Python 3"
    },
    "language_info": {
      "name": "python"
    }
  },
  "cells": [
    {
      "cell_type": "code",
      "source": [
        "pip install pulp"
      ],
      "metadata": {
        "colab": {
          "base_uri": "https://localhost:8080/"
        },
        "id": "j2QuLGyJFlS-",
        "outputId": "ed422cd6-950a-4692-c252-c59ae1a049de"
      },
      "execution_count": 2,
      "outputs": [
        {
          "output_type": "stream",
          "name": "stdout",
          "text": [
            "Looking in indexes: https://pypi.org/simple, https://us-python.pkg.dev/colab-wheels/public/simple/\n",
            "Collecting pulp\n",
            "  Downloading PuLP-2.7.0-py3-none-any.whl (14.3 MB)\n",
            "\u001b[2K     \u001b[90m━━━━━━━━━━━━━━━━━━━━━━━━━━━━━━━━━━━━━━━━\u001b[0m \u001b[32m14.3/14.3 MB\u001b[0m \u001b[31m20.7 MB/s\u001b[0m eta \u001b[36m0:00:00\u001b[0m\n",
            "\u001b[?25hInstalling collected packages: pulp\n",
            "Successfully installed pulp-2.7.0\n"
          ]
        }
      ]
    },
    {
      "cell_type": "code",
      "source": [
        "import pulp"
      ],
      "metadata": {
        "id": "TLPb2VP2lMVM"
      },
      "execution_count": 3,
      "outputs": []
    },
    {
      "cell_type": "code",
      "source": [
        "import pandas as pd\n",
        "import numpy as np\n",
        "import matplotlib.pyplot as plt\n",
        "from pulp import *\n",
        "import pulp as plp"
      ],
      "metadata": {
        "id": "b2um_ncBk2Uv"
      },
      "execution_count": 5,
      "outputs": []
    },
    {
      "cell_type": "code",
      "source": [
        "pip install ortools"
      ],
      "metadata": {
        "colab": {
          "base_uri": "https://localhost:8080/"
        },
        "id": "jiNB6IE1ZocX",
        "outputId": "b8fa3edb-3965-4d77-f553-595a1fbc1736"
      },
      "execution_count": 6,
      "outputs": [
        {
          "output_type": "stream",
          "name": "stdout",
          "text": [
            "Looking in indexes: https://pypi.org/simple, https://us-python.pkg.dev/colab-wheels/public/simple/\n",
            "Collecting ortools\n",
            "  Downloading ortools-9.6.2534-cp39-cp39-manylinux_2_17_x86_64.manylinux2014_x86_64.whl (16.4 MB)\n",
            "\u001b[2K     \u001b[90m━━━━━━━━━━━━━━━━━━━━━━━━━━━━━━━━━━━━━━━━\u001b[0m \u001b[32m16.4/16.4 MB\u001b[0m \u001b[31m63.3 MB/s\u001b[0m eta \u001b[36m0:00:00\u001b[0m\n",
            "\u001b[?25hRequirement already satisfied: absl-py>=0.13 in /usr/local/lib/python3.9/dist-packages (from ortools) (1.4.0)\n",
            "Requirement already satisfied: scipy>=1.10.0 in /usr/local/lib/python3.9/dist-packages (from ortools) (1.10.1)\n",
            "Requirement already satisfied: numpy>=1.13.3 in /usr/local/lib/python3.9/dist-packages (from ortools) (1.22.4)\n",
            "Collecting protobuf>=4.21.12\n",
            "  Downloading protobuf-4.22.1-cp37-abi3-manylinux2014_x86_64.whl (302 kB)\n",
            "\u001b[2K     \u001b[90m━━━━━━━━━━━━━━━━━━━━━━━━━━━━━━━━━━━━━━\u001b[0m \u001b[32m302.4/302.4 KB\u001b[0m \u001b[31m31.7 MB/s\u001b[0m eta \u001b[36m0:00:00\u001b[0m\n",
            "\u001b[?25hInstalling collected packages: protobuf, ortools\n",
            "  Attempting uninstall: protobuf\n",
            "    Found existing installation: protobuf 3.20.3\n",
            "    Uninstalling protobuf-3.20.3:\n",
            "      Successfully uninstalled protobuf-3.20.3\n",
            "\u001b[31mERROR: pip's dependency resolver does not currently take into account all the packages that are installed. This behaviour is the source of the following dependency conflicts.\n",
            "tensorflow-metadata 1.13.0 requires protobuf<4,>=3.13, but you have protobuf 4.22.1 which is incompatible.\u001b[0m\u001b[31m\n",
            "\u001b[0mSuccessfully installed ortools-9.6.2534 protobuf-4.22.1\n"
          ]
        }
      ]
    },
    {
      "cell_type": "code",
      "source": [
        "from ortools.linear_solver import pywraplp"
      ],
      "metadata": {
        "id": "3nmRerIMZpzx"
      },
      "execution_count": 7,
      "outputs": []
    },
    {
      "cell_type": "markdown",
      "source": [
        "Part 1: Rockhill Shipping & Transport Company"
      ],
      "metadata": {
        "id": "0UTghWfGmEwp"
      }
    },
    {
      "cell_type": "code",
      "source": [
        "import pulp as lp\n",
        "\n",
        "# List of plants and waste disposal sites\n",
        "plants = ['Denver', 'Morganton', 'Morrisville', 'Pineville', 'Rockhill', 'Statesville']\n",
        "waste_sites = ['Orangeburg', 'Florence', 'Macon']\n",
        "\n",
        "# Shipping costs from each plant to each waste disposal site\n",
        "shipping_costs = {\n",
        "    'Denver': {\n",
        "        'Orangeburg': 12,\n",
        "        'Florence': 15,\n",
        "        'Macon': 17\n",
        "    },\n",
        "    'Morganton': {\n",
        "        'Orangeburg': 14,\n",
        "        'Florence': 9,\n",
        "        'Macon': 10\n",
        "    },\n",
        "    'Morrisville': {\n",
        "        'Orangeburg': 13,\n",
        "        'Florence': 20,\n",
        "        'Macon': 11\n",
        "    },\n",
        "    'Pineville': {\n",
        "        'Orangeburg': 17,\n",
        "        'Florence': 16,\n",
        "        'Macon': 19\n",
        "    },\n",
        "    'Rockhill': {\n",
        "        'Orangeburg': 7,\n",
        "        'Florence': 14,\n",
        "        'Macon': 12\n",
        "    },\n",
        "    'Statesville': {\n",
        "        'Orangeburg': 22,\n",
        "        'Florence': 16,\n",
        "        'Macon': 18\n",
        "    }\n",
        "}\n",
        "\n",
        "# Waste generated by each plant\n",
        "waste_generated = {\n",
        "    'Denver': 45,\n",
        "    'Morganton': 26,\n",
        "    'Morrisville': 42,\n",
        "    'Pineville': 53,\n",
        "    'Rockhill': 29,\n",
        "    'Statesville': 38\n",
        "}\n",
        "\n",
        "# Maximum capacity of waste disposal sites\n",
        "max_capacity = {\n",
        "    'Orangeburg': 65,\n",
        "    'Florence': 80,\n",
        "    'Macon': 105\n",
        "}\n",
        "\n",
        "# Define the problem\n",
        "problem = lp.LpProblem('Transportation Problem', lp.LpMinimize)\n",
        "\n",
        "# Create decision variables\n",
        "shipment_vars = lp.LpVariable.dicts('Shipment', ((plant, waste_site) for plant in plants for waste_site in waste_sites),\n",
        "                                    lowBound=0, cat='Integer')\n",
        "\n",
        "# Add constraints\n",
        "# Constraint 1: Maximum waste capacity at waste disposal sites\n",
        "for waste_site in waste_sites:\n",
        "    problem += lp.lpSum(shipment_vars[(plant, waste_site)] for plant in plants) <= max_capacity[waste_site]\n",
        "\n",
        "# Constraint 2: Total waste shipped from each plant must equal waste generated\n",
        "for plant in plants:\n",
        "    problem += lp.lpSum(shipment_vars[(plant, waste_site)] for waste_site in waste_sites) == waste_generated[plant]\n",
        "\n",
        "# Define the objective function\n",
        "# Define the objective function\n",
        "# Case 1: Direct shipment from plants to waste disposal sites\n",
        "objective_function = lp.lpSum(shipment_vars[(plant, waste_site)] * shipping_costs[plant][waste_site]\n",
        "                              for plant in plants for waste_site in waste_sites)\n",
        "\n",
        "# Case 2: Intermediate shipment through other plants or waste disposal sites\n",
        "for intermediate_point in plants + waste_sites:\n",
        "    for plant in plants:\n",
        "        if plant != intermediate_point:\n",
        "            for waste_site in waste_sites:\n",
        "                if waste_site != intermediate_point:\n",
        "                    if plant in shipping_costs and intermediate_point in shipping_costs[plant] \\\n",
        "                            and intermediate_point in shipping_costs and waste_site in shipping_costs[intermediate_point]:\n",
        "                        # Add the terms for intermediate shipment to the objective function\n",
        "                        objective_function += shipment_vars[(plant, intermediate_point)] * shipping_costs[plant][intermediate_point] \\\n",
        "                                             + shipment_vars[(intermediate_point, waste_site)] * shipping_costs[intermediate_point][waste_site]\n",
        "\n",
        "# Set the objective function\n",
        "problem += objective_function\n",
        "\n",
        "# Solve the problem\n",
        "problem.solve()\n",
        "\n",
        "# Print the results\n",
        "print(\"Objective value =\", lp.value(problem.objective))\n",
        "for var in problem.variables():\n",
        "    print(var.name, \"=\", var.varValue)"
      ],
      "metadata": {
        "colab": {
          "base_uri": "https://localhost:8080/"
        },
        "id": "XPOhGv09x3pY",
        "outputId": "7ec65c95-7f5c-4842-e862-73a0798ffe65"
      },
      "execution_count": 8,
      "outputs": [
        {
          "output_type": "stream",
          "name": "stdout",
          "text": [
            "Objective value = 2988.0\n",
            "Shipment_('Denver',_'Florence') = 0.0\n",
            "Shipment_('Denver',_'Macon') = 0.0\n",
            "Shipment_('Denver',_'Orangeburg') = 45.0\n",
            "Shipment_('Morganton',_'Florence') = 0.0\n",
            "Shipment_('Morganton',_'Macon') = 26.0\n",
            "Shipment_('Morganton',_'Orangeburg') = 0.0\n",
            "Shipment_('Morrisville',_'Florence') = 0.0\n",
            "Shipment_('Morrisville',_'Macon') = 42.0\n",
            "Shipment_('Morrisville',_'Orangeburg') = 0.0\n",
            "Shipment_('Pineville',_'Florence') = 53.0\n",
            "Shipment_('Pineville',_'Macon') = 0.0\n",
            "Shipment_('Pineville',_'Orangeburg') = 0.0\n",
            "Shipment_('Rockhill',_'Florence') = 0.0\n",
            "Shipment_('Rockhill',_'Macon') = 9.0\n",
            "Shipment_('Rockhill',_'Orangeburg') = 20.0\n",
            "Shipment_('Statesville',_'Florence') = 27.0\n",
            "Shipment_('Statesville',_'Macon') = 11.0\n",
            "Shipment_('Statesville',_'Orangeburg') = 0.0\n"
          ]
        },
        {
          "output_type": "stream",
          "name": "stderr",
          "text": [
            "/usr/local/lib/python3.9/dist-packages/pulp/pulp.py:1352: UserWarning: Spaces are not permitted in the name. Converted to '_'\n",
            "  warnings.warn(\"Spaces are not permitted in the name. Converted to '_'\")\n"
          ]
        }
      ]
    },
    {
      "cell_type": "markdown",
      "source": [
        "Part 2: Investment Allocations"
      ],
      "metadata": {
        "id": "e24qG4xv3Jk-"
      }
    },
    {
      "cell_type": "code",
      "source": [
        "import numpy as np\n",
        "from scipy.optimize import minimize\n",
        "import matplotlib.pyplot as plt\n",
        "\n",
        "# Define the expected returns, covariance matrix, and baseline return values\n",
        "expected_returns = np.array([0.07, 0.12, 0.11, 0.14, 0.14, 0.09])\n",
        "covariance_matrix = np.array([[0.001, 0.0003, -0.0003, 0.00035, -0.00035, 0.0004],\n",
        "                             [0, 0.009, 0.0004, 0.0016, -0.0016, 0.0006],\n",
        "                             [0, 0, 0.008, 0.0015, -0.0055, -0.0007],\n",
        "                             [0, 0, 0, 0.012, -0.0005, 0.0008],\n",
        "                             [0, 0, 0, 0, 0.012, -0.0008],\n",
        "                             [0, 0, 0, 0, 0, 0.005]])\n",
        "baseline_returns = np.array([0.10, 0.105, 0.11, 0.115, 0.12, 0.125, 0.13, 0.135])\n",
        "\n",
        "# Define the mean-variance portfolio optimization function\n",
        "def optimize_portfolio(weights, expected_returns, covariance_matrix, target_return):\n",
        "    portfolio_return = np.sum(weights * expected_returns)\n",
        "    portfolio_risk = np.sqrt(np.dot(weights, np.dot(covariance_matrix, weights.T)))\n",
        "    return portfolio_risk\n",
        "\n",
        "# Perform portfolio optimization for each baseline return value and obtain the corresponding minimum risk\n",
        "portfolio_risks = []\n",
        "for baseline_return in baseline_returns:\n",
        "    constraints = ({'type': 'eq', 'fun': lambda x: np.sum(x) - 1}, # sum of weights equals 1\n",
        "                   {'type': 'eq', 'fun': lambda x: np.sum(x * expected_returns) - baseline_return}) # expected return equals baseline return\n",
        "    initial_weights = np.ones(len(expected_returns)) / len(expected_returns) # initial weights for optimization\n",
        "    result = minimize(optimize_portfolio, initial_weights, args=(expected_returns, covariance_matrix, baseline_return), constraints=constraints, bounds=[(0,1) for _ in range(len(expected_returns))])\n",
        "    portfolio_risks.append(result.fun)\n",
        "\n",
        "# Plot \"e\" versus \"r\"\n",
        "plt.plot(portfolio_risks, baseline_returns)\n",
        "plt.xlabel('Risk (Portfolio Variance)')\n",
        "plt.ylabel('Expected Portfolio Return')\n",
        "plt.title('Efficient Frontier')\n",
        "plt.show()"
      ],
      "metadata": {
        "colab": {
          "base_uri": "https://localhost:8080/",
          "height": 472
        },
        "id": "ZbpQbID43J3_",
        "outputId": "48999b22-96c7-40ab-dc4c-832c92d20375"
      },
      "execution_count": 9,
      "outputs": [
        {
          "output_type": "display_data",
          "data": {
            "text/plain": [
              "<Figure size 640x480 with 1 Axes>"
            ],
            "image/png": "[encoded data removed]"
          },
          "metadata": {}
        }
      ]
    },
    {
      "cell_type": "markdown",
      "source": [
        "(i) Suppose that our investor wishes to invest $10,000 in this portfolio. Determine how he\n",
        "should allocate this investment to the individual assets in his portfolio in order to have a\n",
        "minimum baseline expected return of 11%, and at the same time, at a minimum risk. "
      ],
      "metadata": {
        "id": "09PITlNq39O4"
      }
    },
    {
      "cell_type": "code",
      "source": [
        "# Define the expected returns\n",
        "expected_returns = np.array([0.07, 0.12, 0.11, 0.14, 0.14, 0.09])\n",
        "\n",
        "# Define the covariance matrix\n",
        "covariance_matrix = np.array([[0.001, 0.0003, -0.0003, 0.00035, -0.00035, 0.0004],\n",
        "                              [0, 0.009, 0.0004, 0.0016, -0.0016, 0.0006],\n",
        "                              [0, 0, 0.008, 0.0015, -0.0055, -0.0007],\n",
        "                              [0, 0, 0, 0.012, -0.0005, 0.0008],\n",
        "                              [0, 0, 0, 0, 0.012, -0.0008],\n",
        "                              [0, 0, 0, 0, 0, 0.005]])\n",
        "\n",
        "# Define the constraint function for portfolio weights\n",
        "constraint = ({'type': 'eq', 'fun': lambda x: np.sum(x) - 1})\n",
        "\n",
        "# Define the objective function to minimize\n",
        "def objective_function(x, expected_returns, covariance_matrix):\n",
        "    portfolio_return = np.dot(x, expected_returns)\n",
        "    portfolio_risk = np.sqrt(np.dot(x, np.dot(covariance_matrix, x)))\n",
        "    return portfolio_risk\n",
        "\n",
        "# Set the initial guess for portfolio weights\n",
        "initial_guess = np.ones(len(expected_returns)) / len(expected_returns)\n",
        "\n",
        "# Define the bounds for portfolio weights\n",
        "bounds = [(0, None)] * len(expected_returns)\n",
        "\n",
        "# Define the target expected return\n",
        "target_return = 0.11\n",
        "\n",
        "# Optimize the portfolio weights to minimize risk\n",
        "result = minimize(objective_function, initial_guess, args=(expected_returns, covariance_matrix),\n",
        "                  constraints=constraint, bounds=bounds, method='SLSQP')\n",
        "\n",
        "# Get the optimal portfolio weights\n",
        "optimal_weights = result.x\n",
        "\n",
        "# Calculate the expected portfolio return\n",
        "expected_portfolio_return = np.dot(optimal_weights, expected_returns)\n",
        "\n",
        "# Print the optimal portfolio weights and expected portfolio return\n",
        "print(\"Optimal Portfolio Weights: \", optimal_weights)\n",
        "print(\"Expected Portfolio Return: \", expected_portfolio_return)"
      ],
      "metadata": {
        "colab": {
          "base_uri": "https://localhost:8080/"
        },
        "id": "6cp2HEiu5Sy4",
        "outputId": "31ae358d-9fa1-4700-d01a-edce06ef4c70"
      },
      "execution_count": 15,
      "outputs": [
        {
          "output_type": "stream",
          "name": "stdout",
          "text": [
            "Optimal Portfolio Weights:  [0.59761952 0.05665435 0.11843264 0.02812158 0.09304761 0.10612429]\n",
            "Expected Portfolio Return:  0.08817435263237917\n"
          ]
        }
      ]
    },
    {
      "cell_type": "markdown",
      "source": [],
      "metadata": {
        "id": "UGZdMnVS82AN"
      }
    },
    {
      "cell_type": "markdown",
      "source": [
        "(ii) Let the solution pair be denoted by (r, e), where “r” denotes the minimized risk and “e”\n",
        "denotes the expected portfolio return after the problem is solved. Use successive values of\n",
        "10%, 10.5%, 11%, 11.5%, 12%, 12.5%, 13% and 13.5% as the baseline return values to obtain\n",
        "eight pairs of solutions (r, e). Plot “e” versus “r”. Explain whether there exists a pattern in\n",
        "this plot. In other words, explain, in your opinion, the type of mathematical relationship that\n",
        "“r” and “e” may have. "
      ],
      "metadata": {
        "id": "HG0mHXaj82zn"
      }
    },
    {
      "cell_type": "code",
      "source": [
        "import cvxpy as cp\n",
        "returns = np.array([0.07, 0.12, 0.11, 0.14, 0.14, 0.09])\n",
        "covariance = np.array([[0.001, 0.0003, -0.0003, 0.00035, -0.00035, 0.0004],\n",
        "                       [0.0003, 0.009, 0.0004, 0.0016, -0.0016, 0.0006],\n",
        "                       [-0.0003, 0.0004, 0.008, -0.0055, -0.0007, 0.0],\n",
        "                       [0.00035, 0.0016, -0.0055, 0.012, -0.0005, 0.0],\n",
        "                       [-0.00035, -0.0016, -0.0007, -0.0005, 0.012, 0.0],\n",
        "                       [0.0004, 0.0006, 0.0, 0.0, 0.0, 0.005]])\n",
        "\n",
        "n = len(returns)\n",
        "\n",
        "# Define the variables\n",
        "x = cp.Variable(n)\n",
        "target_return = cp.Parameter(nonneg=True)\n",
        "\n",
        "# Define the objective function\n",
        "portfolio_variance = cp.quad_form(x, covariance)\n",
        "objective = cp.Minimize(portfolio_variance)\n",
        "\n",
        "# Define the constraints\n",
        "constraints = [cp.sum(x) == 1, x >= 0, returns @ x >= target_return]\n",
        "\n",
        "# Solve the problem for different target returns\n",
        "r_list = []\n",
        "e_list = []\n",
        "for target in [0.1, 0.105, 0.11, 0.115, 0.12, 0.125, 0.13, 0.135]:\n",
        "    target_return.value = target\n",
        "    problem = cp.Problem(objective, constraints)\n",
        "    problem.solve()\n",
        "    r_list.append(np.sqrt(problem.value))\n",
        "    e_list.append(target_return.value * x.value.T @ returns)\n",
        "\n",
        "# Plot e versus r\n",
        "import matplotlib.pyplot as plt\n",
        "plt.plot(r_list, e_list)\n",
        "plt.xlabel('Minimized Risk')\n",
        "plt.ylabel('Expected Portfolio Return')\n",
        "plt.title('Efficient Frontier')\n",
        "plt.show()"
      ],
      "metadata": {
        "colab": {
          "base_uri": "https://localhost:8080/",
          "height": 472
        },
        "id": "cukXxL3NQHEn",
        "outputId": "54ba5995-ff5b-4472-a463-6fa6e2da8c45"
      },
      "execution_count": 14,
      "outputs": [
        {
          "output_type": "display_data",
          "data": {
            "text/plain": [
              "<Figure size 640x480 with 1 Axes>"
            ],
            "image/png": "[encoded data removed]"
          },
          "metadata": {}
        }
      ]
    }
  ]
}