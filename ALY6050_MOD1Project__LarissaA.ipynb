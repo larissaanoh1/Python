{
  "nbformat": 4,
  "nbformat_minor": 0,
  "metadata": {
    "colab": {
      "provenance": []
    },
    "kernelspec": {
      "name": "python3",
      "display_name": "Python 3"
    },
    "language_info": {
      "name": "python"
    }
  },
  "cells": [
    {
      "cell_type": "code",
      "execution_count": 46,
      "metadata": {
        "id": "Vp8juIfhUS4I"
      },
      "outputs": [],
      "source": [
        "import numpy as np\n",
        "import pandas as pd\n",
        "import matplotlib.pyplot as plt\n",
        "import seaborn as sns\n"
      ]
    },
    {
      "cell_type": "markdown",
      "source": [
        "**• Part 1:**"
      ],
      "metadata": {
        "id": "MI0FUbYXVsIr"
      }
    },
    {
      "cell_type": "markdown",
      "source": [
        "(i) Calculate the probability that the Red Sox will win the series."
      ],
      "metadata": {
        "id": "nYcGzGSaVzZW"
      }
    },
    {
      "cell_type": "code",
      "execution_count": 26,
      "metadata": {
        "colab": {
          "base_uri": "https://localhost:8080/"
        },
        "id": "EdMnBXJ3Rvyt",
        "outputId": "41f8d7c4-2242-4509-ce7b-4eff2b7bc153"
      },
      "outputs": [
        {
          "output_type": "execute_result",
          "data": {
            "text/plain": [
              "0.6335999999999999"
            ]
          },
          "metadata": {},
          "execution_count": 26
        }
      ],
      "source": [
        "p = 0.6*0.57 + 0.6*(1-0.57)*0.6 + (1-0.6)*0.57*0.6\n",
        "p"
      ]
    },
    {
      "cell_type": "code",
      "source": [
        "0.6*0.57\n"
      ],
      "metadata": {
        "colab": {
          "base_uri": "https://localhost:8080/"
        },
        "id": "IjBtJcf6SuAB",
        "outputId": "88b5f311-99a0-4103-af6b-4f065e100bfb"
      },
      "execution_count": 27,
      "outputs": [
        {
          "output_type": "execute_result",
          "data": {
            "text/plain": [
              "0.34199999999999997"
            ]
          },
          "metadata": {},
          "execution_count": 27
        }
      ]
    },
    {
      "cell_type": "markdown",
      "source": [
        "(ii) Construct a probability distribution for your net win (X) in the series. Calculate your\n",
        "expected net win (the mean of X) and the standard deviation of X."
      ],
      "metadata": {
        "id": "0zotM7F5bZ1j"
      }
    },
    {
      "cell_type": "code",
      "source": [
        "E_x = (-20)*(0.24) + 500*(0.216) - 520*(0.544)\n",
        "E_x"
      ],
      "metadata": {
        "colab": {
          "base_uri": "https://localhost:8080/"
        },
        "id": "ZckcW5K7SUK9",
        "outputId": "16329fc3-e3f7-4fef-9be4-e5236debde7e"
      },
      "execution_count": 28,
      "outputs": [
        {
          "output_type": "execute_result",
          "data": {
            "text/plain": [
              "-179.68"
            ]
          },
          "metadata": {},
          "execution_count": 28
        }
      ]
    },
    {
      "cell_type": "code",
      "source": [
        "from numpy import sqrt  \n",
        "std = sqrt((-20-E_x)**2*0.24 + (500-E_x)**2*0.216 + (-520-E_x)**2*0.544)\n",
        "std"
      ],
      "metadata": {
        "colab": {
          "base_uri": "https://localhost:8080/"
        },
        "id": "KlRVdgfeJZOt",
        "outputId": "e0cd2265-e63f-458a-92e8-5dd7f73e1598"
      },
      "execution_count": 29,
      "outputs": [
        {
          "output_type": "execute_result",
          "data": {
            "text/plain": [
              "410.9850333041339"
            ]
          },
          "metadata": {},
          "execution_count": 29
        }
      ]
    },
    {
      "cell_type": "markdown",
      "source": [
        "(iii) Use Excel or R to create 10,000 random values for X. Let these random values be\n",
        "denoted by Y. Use these Y values to estimate your expected net win by using a 95%\n",
        "confidence interval. Does this confidence interval contain E(X)?"
      ],
      "metadata": {
        "id": "Frnc5ijIFPro"
      }
    },
    {
      "cell_type": "code",
      "source": [
        "import numpy as np\n",
        "from scipy import stats\n",
        "# Define probability distribution for X\n",
        "x_values = np.array([-20, 500, -520])\n",
        "x_probabilities = np.array([0.24, 0.216, 0.544])\n",
        "\n",
        "# Generate 10,000 random values for X\n",
        "Y = np.random.choice(x_values, size=10000, p=x_probabilities)\n",
        "\n",
        "# Calculate sample mean and standard deviation\n",
        "sample_mean = np.mean(Y)\n",
        "sample_std = np.std(Y, ddof=1)\n",
        "\n",
        "# Calculate 95% confidence interval for population mean\n",
        "n = len(Y)\n",
        "alpha = 0.05\n",
        "t_critical = abs(stats.t.ppf(alpha/2, df=n-1))\n",
        "margin_of_error = t_critical * (sample_std / np.sqrt(n))\n",
        "conf_int = (sample_mean - margin_of_error, sample_mean + margin_of_error)\n",
        "\n",
        "print(\"Sample mean: \", sample_mean)\n",
        "print(\"Sample standard deviation: \", sample_std)\n",
        "print(\"95% confidence interval: \", conf_int)"
      ],
      "metadata": {
        "colab": {
          "base_uri": "https://localhost:8080/"
        },
        "id": "lsj38pIUaB13",
        "outputId": "c2d3e028-6244-4225-9dcf-017cc4789992"
      },
      "execution_count": 33,
      "outputs": [
        {
          "output_type": "stream",
          "name": "stdout",
          "text": [
            "Sample mean:  -188.542\n",
            "Sample standard deviation:  407.61669417841233\n",
            "95% confidence interval:  (-196.53210759001684, -180.55189240998317)\n"
          ]
        }
      ]
    },
    {
      "cell_type": "markdown",
      "source": [
        "(iv) Construct a frequency distribution for Y. Next, use the Chi-squared goodness of fit\n",
        "test to verify how closely the distribution of Y has estimated the distribution of X."
      ],
      "metadata": {
        "id": "t71M65Z48Dvp"
      }
    },
    {
      "cell_type": "code",
      "source": [
        "import scipy.stats as stats\n",
        "\n",
        "# Define the expected frequency distribution of X\n",
        "X_expected = x_values\n",
        "\n",
        "# Define the observed frequency distribution of Y\n",
        "Y_observed = n\n",
        "\n",
        "# Perform the Chi-squared goodness of fit test\n",
        "chi2, p = stats.chisquare(Y_observed, X_expected)\n",
        "\n",
        "# Print the test results\n",
        "print(\"Chi-squared test statistic:\", chi2)\n",
        "print(\"P-value:\", p)"
      ],
      "metadata": {
        "colab": {
          "base_uri": "https://localhost:8080/"
        },
        "id": "fFUVe4pQWkaq",
        "outputId": "ef73ff90-6c95-478c-b7bb-a60d9375a5d2"
      },
      "execution_count": 53,
      "outputs": [
        {
          "output_type": "stream",
          "name": "stdout",
          "text": [
            "Chi-squared test statistic: -5052347.692307692\n",
            "P-value: 1.0\n"
          ]
        }
      ]
    },
    {
      "cell_type": "code",
      "source": [
        "# Create a frequency table for Y\n",
        "bins = np.arange(1, 201, 10)\n",
        "freq, _ = np.histogram(Y, bins=bins)\n",
        "\n",
        "# Print the frequency table\n",
        "print(\"Y frequency distribution:\")\n",
        "print(\"Value range\\tFrequency\")\n",
        "for i in range(len(bins)-1):\n",
        "    print(f\"{bins[i]}-{bins[i+1]}\\t\\t{freq[i]}\")"
      ],
      "metadata": {
        "colab": {
          "base_uri": "https://localhost:8080/"
        },
        "id": "KOBqHGmc8D9o",
        "outputId": "2e8fe445-a672-41c9-de6d-dfa1dc412e15"
      },
      "execution_count": 34,
      "outputs": [
        {
          "output_type": "stream",
          "name": "stdout",
          "text": [
            "Y frequency distribution:\n",
            "Value range\tFrequency\n",
            "1-11\t\t0\n",
            "11-21\t\t0\n",
            "21-31\t\t0\n",
            "31-41\t\t0\n",
            "41-51\t\t0\n",
            "51-61\t\t0\n",
            "61-71\t\t0\n",
            "71-81\t\t0\n",
            "81-91\t\t0\n",
            "91-101\t\t0\n",
            "101-111\t\t0\n",
            "111-121\t\t0\n",
            "121-131\t\t0\n",
            "131-141\t\t0\n",
            "141-151\t\t0\n",
            "151-161\t\t0\n",
            "161-171\t\t0\n",
            "171-181\t\t0\n",
            "181-191\t\t0\n"
          ]
        }
      ]
    },
    {
      "cell_type": "code",
      "source": [
        "from scipy.stats import chi2\n",
        "\n",
        "# Calculate the expected frequency distribution based on the distribution of X\n",
        "expected_freq = np.zeros_like(freq)\n",
        "for i in range(len(bins)-1):\n",
        "    expected_freq[i] = (chi2.cdf(bins[i+1], df=1) - chi2.cdf(bins[i], df=1)) * len(Y)\n",
        "\n",
        "# Calculate the chi-squared statistic\n",
        "chi2_stat = np.sum((freq - expected_freq)**2 / expected_freq)\n",
        "\n",
        "# Calculate the degrees of freedom\n",
        "df = len(freq) - 1\n",
        "\n",
        "# Calculate the critical value for the given significance level and degrees of freedom\n",
        "crit_value = chi2.ppf(0.95, df)\n",
        "\n",
        "# Print the results\n",
        "print(\"\\nGoodness of fit test results:\")\n",
        "print(f\"Chi-squared statistic: {chi2_stat:.2f}\")\n",
        "print(f\"Critical value: {crit_value:.2f}\")\n",
        "if chi2_stat > crit_value:\n",
        "    print(\"The null hypothesis (Y follows the distribution of X) is rejected.\")\n",
        "else:\n",
        "    print(\"The null hypothesis (Y follows the distribution of X) cannot be rejected.\")"
      ],
      "metadata": {
        "colab": {
          "base_uri": "https://localhost:8080/"
        },
        "id": "xEg43_YO9vzm",
        "outputId": "3cf318d1-2e2e-4b63-c10e-2e0a50001e39"
      },
      "execution_count": 32,
      "outputs": [
        {
          "output_type": "stream",
          "name": "stdout",
          "text": [
            "\n",
            "Goodness of fit test results:\n",
            "Chi-squared statistic: nan\n",
            "Critical value: 28.87\n",
            "The null hypothesis (Y follows the distribution of X) cannot be rejected.\n"
          ]
        },
        {
          "output_type": "stream",
          "name": "stderr",
          "text": [
            "<ipython-input-32-7ee441b00ea0>:9: RuntimeWarning: invalid value encountered in true_divide\n",
            "  chi2_stat = np.sum((freq - expected_freq)**2 / expected_freq)\n"
          ]
        }
      ]
    },
    {
      "cell_type": "markdown",
      "source": [
        "• Part 2:"
      ],
      "metadata": {
        "id": "vhdw28GGbM-C"
      }
    },
    {
      "cell_type": "markdown",
      "source": [
        "(i) Calculate the probability that the Red Sox will win the series."
      ],
      "metadata": {
        "id": "Lb1Rdi0WczhS"
      }
    },
    {
      "cell_type": "code",
      "source": [
        "#The probability of winning two games is the sum of the probabilities of winning RRY, RYR, and YRR, which is:\n",
        "\n",
        "winning_two_games = 0.6 * 0.43 * 0.4 + 0.6 * 0.57 * 0.6 + 0.4 * 0.57 * 0.6\n",
        "\n",
        "#The probability of winning three games is the probability of winning RRR, which is:\n",
        "\n",
        "winning_three_games = 0.6 * 0.57 * 0.4\n",
        "\n",
        "#Therefore, the probability that the Red Sox will win the series is the sum of these two probabilities:\n",
        "\n",
        "RS_win_series = 0.4128 + 0.1368 \n",
        "\n",
        "#So the probability that the Red Sox will win the series is approximately 0.55 or 55%\n",
        "print(winning_two_games)\n",
        "print(winning_three_games)\n",
        "print(RS_win_series)"
      ],
      "metadata": {
        "colab": {
          "base_uri": "https://localhost:8080/"
        },
        "id": "ku4j9JyBibLB",
        "outputId": "b9b27e9e-9cd0-4f2d-8289-98289bf7a833"
      },
      "execution_count": 3,
      "outputs": [
        {
          "output_type": "stream",
          "name": "stdout",
          "text": [
            "0.4452\n",
            "0.1368\n",
            "0.5496\n"
          ]
        }
      ]
    },
    {
      "cell_type": "markdown",
      "source": [
        "(ii) Construct a probability distribution for your net win (X) in the series. Calculate your\n",
        "expected net win (the mean of X) and the standard deviation of X."
      ],
      "metadata": {
        "id": "VFKOUfr6jfEU"
      }
    },
    {
      "cell_type": "code",
      "source": [
        "# Assume \n",
        "#WWW: 0.6 * 0.43 * 0.4 = 0.10368, net win = $1500\n",
        "#WWL: 0.6 * 0.43 * 0.6 = 0.15408, net win = $980\n",
        "#WLW: 0.6 * 0.57 * 0.4 = 0.13608, net win = $980\n",
        "#WLL: 0.6 * 0.57 * 0.6 = 0.20562, net win = $-40\n",
        "#LWW: 0.4 * 0.57 * 0.6 = 0.13608, net win = $980\n",
        "#LWL: 0.4 * 0.57 * 0.4 = 0.09108, net win = $-40\n",
        "#LLW: 0.4 * 0.43 * 0.6 = 0.10368, net win = $-40\n",
        "#LLL: 0.4 * 0.43 * 0.4 = 0.07344, net win = $-1560\n",
        "E_x1 = (-1560) * 0.0734 + (-40) * 0.2962 + 980 * 0.2902 + 1500 * 0.3402 \n",
        "E_x1"
      ],
      "metadata": {
        "colab": {
          "base_uri": "https://localhost:8080/"
        },
        "id": "n9eZVmqljTdR",
        "outputId": "a52f4bac-c3ef-4be4-c52e-dfdbc6b63917"
      },
      "execution_count": 4,
      "outputs": [
        {
          "output_type": "execute_result",
          "data": {
            "text/plain": [
              "668.344"
            ]
          },
          "metadata": {},
          "execution_count": 4
        }
      ]
    },
    {
      "cell_type": "code",
      "source": [
        "from numpy import sqrt  \n",
        "std1 = sqrt(((-1560)-E_x1)**2*0.0734 + ((-40)-E_x1)**2*0.2962 + (980-E_x1)**2*0.2902 + (1500-E_x1)**2*0.3402)\n",
        "std1"
      ],
      "metadata": {
        "colab": {
          "base_uri": "https://localhost:8080/"
        },
        "outputId": "130febeb-b52b-4317-d991-481a103c39ae",
        "id": "4DF-VtgjlAA2"
      },
      "execution_count": 6,
      "outputs": [
        {
          "output_type": "execute_result",
          "data": {
            "text/plain": [
              "881.2346666263194"
            ]
          },
          "metadata": {},
          "execution_count": 6
        }
      ]
    },
    {
      "cell_type": "markdown",
      "source": [
        "(iii) Use Excel or R to create 10,000 random values for X. Let these random values be\n",
        "denoted by Y. Use these Y values to estimate your expected net win by using a 95%\n",
        "confidence interval. Does this confidence interval contain E(X)?"
      ],
      "metadata": {
        "id": "6X0zZBN8lnH2"
      }
    },
    {
      "cell_type": "code",
      "source": [
        "import numpy as np\n",
        "from scipy import stats\n",
        "# Define probability distribution for X\n",
        "x_values1 = np.array([-1560, -40, 980, 1500])\n",
        "x_probabilities1 = np.array([0.0734,\t0.2962,\t0.2902,\t0.3402])\n",
        "\n",
        "# Generate 10,000 random values for X\n",
        "Y1 = np.random.choice(x_values1, size=10000, p=x_probabilities1)\n",
        "\n",
        "# Calculate sample mean and standard deviation\n",
        "sample_mean1 = np.mean(Y1)\n",
        "sample_std1 = np.std(Y1, ddof=1)\n",
        "\n",
        "# Calculate 95% confidence interval for population mean\n",
        "n1 = len(Y1)\n",
        "alpha = 0.05\n",
        "t_critical1 = abs(stats.t.ppf(alpha/2, df=n1-1))\n",
        "margin_of_error1 = t_critical1 * (sample_std1 / np.sqrt(n1))\n",
        "conf_int1 = (sample_mean1 - margin_of_error1, sample_mean1 + margin_of_error1)\n",
        "\n",
        "print(\"Sample mean: \", sample_mean1)\n",
        "print(\"Sample standard deviation: \", sample_std1)\n",
        "print(\"95% confidence interval: \", conf_int1)"
      ],
      "metadata": {
        "colab": {
          "base_uri": "https://localhost:8080/"
        },
        "outputId": "e808f08d-8c43-4050-b476-e0f0d90e8839",
        "id": "jKf3HHf4lyuJ"
      },
      "execution_count": 11,
      "outputs": [
        {
          "output_type": "stream",
          "name": "stdout",
          "text": [
            "Sample mean:  664.75\n",
            "Sample standard deviation:  884.6896320600279\n",
            "95% confidence interval:  (647.4083026532322, 682.0916973467678)\n"
          ]
        }
      ]
    },
    {
      "cell_type": "markdown",
      "source": [
        "(iv) Construct a frequency distribution for Y. Next, use the Chi-squared goodness of fit\n",
        "test to verify how closely the distribution of Y has estimated the distribution of X."
      ],
      "metadata": {
        "id": "Mol324R0N1KX"
      }
    },
    {
      "cell_type": "code",
      "source": [
        "import scipy.stats as stats\n",
        "\n",
        "# Define the expected frequency distribution of X\n",
        "X_expected1 = x_values\n",
        "\n",
        "# Define the observed frequency distribution of Y\n",
        "Y_observed1 = n1\n",
        "\n",
        "# Perform the Chi-squared goodness of fit test\n",
        "chi2, p1 = stats.chisquare(Y_observed1, X_expected1)\n",
        "\n",
        "# Print the test results\n",
        "print(\"Chi-squared test statistic:\", chi2)\n",
        "print(\"P-value:\", p1)"
      ],
      "metadata": {
        "colab": {
          "base_uri": "https://localhost:8080/"
        },
        "outputId": "cca9f902-0b79-4a39-f57c-ff80577b781c",
        "id": "A3ovDEbkYz5I"
      },
      "execution_count": 55,
      "outputs": [
        {
          "output_type": "stream",
          "name": "stdout",
          "text": [
            "Chi-squared test statistic: -5052347.692307692\n",
            "P-value: 1.0\n"
          ]
        }
      ]
    },
    {
      "cell_type": "code",
      "source": [
        "# Create a frequency table for Y\n",
        "bins = np.arange(1, 201, 10)\n",
        "freq, _ = np.histogram(Y1, bins=bins)\n",
        "\n",
        "# Print the frequency table\n",
        "print(\"Y frequency distribution:\")\n",
        "print(\"Value range\\tFrequency\")\n",
        "for i in range(len(bins)-1):\n",
        "    print(f\"{bins[i]}-{bins[i+1]}\\t\\t{freq[i]}\")"
      ],
      "metadata": {
        "colab": {
          "base_uri": "https://localhost:8080/"
        },
        "outputId": "8748b9b6-b0c3-45f2-86ba-bf4bba6d58e4",
        "id": "Nk0XY9HpN5G9"
      },
      "execution_count": 36,
      "outputs": [
        {
          "output_type": "stream",
          "name": "stdout",
          "text": [
            "Y frequency distribution:\n",
            "Value range\tFrequency\n",
            "1-11\t\t0\n",
            "11-21\t\t0\n",
            "21-31\t\t0\n",
            "31-41\t\t0\n",
            "41-51\t\t0\n",
            "51-61\t\t0\n",
            "61-71\t\t0\n",
            "71-81\t\t0\n",
            "81-91\t\t0\n",
            "91-101\t\t0\n",
            "101-111\t\t0\n",
            "111-121\t\t0\n",
            "121-131\t\t0\n",
            "131-141\t\t0\n",
            "141-151\t\t0\n",
            "151-161\t\t0\n",
            "161-171\t\t0\n",
            "171-181\t\t0\n",
            "181-191\t\t0\n"
          ]
        }
      ]
    },
    {
      "cell_type": "code",
      "source": [
        "from scipy.stats import chi2\n",
        "\n",
        "# Calculate the expected frequency distribution based on the distribution of X\n",
        "expected_freq = np.zeros_like(freq)\n",
        "for i in range(len(bins)-1):\n",
        "    expected_freq[i] = (chi2.cdf(bins[i+1], df=1) - chi2.cdf(bins[i], df=1)) * len(Y)\n",
        "\n",
        "# Calculate the chi-squared statistic\n",
        "chi2_stat = np.sum((freq - expected_freq)**2 / expected_freq)\n",
        "\n",
        "# Calculate the degrees of freedom\n",
        "df = len(freq) - 1\n",
        "\n",
        "# Calculate the critical value for the given significance level and degrees of freedom\n",
        "crit_value = chi2.ppf(0.95, df)\n",
        "\n",
        "# Print the results\n",
        "print(\"\\nGoodness of fit test results:\")\n",
        "print(f\"Chi-squared statistic: {chi2_stat:.2f}\")\n",
        "print(f\"Critical value: {crit_value:.2f}\")\n",
        "if chi2_stat > crit_value:\n",
        "    print(\"The null hypothesis (Y follows the distribution of X) is rejected.\")\n",
        "else:\n",
        "    print(\"The null hypothesis (Y follows the distribution of X) cannot be rejected.\")"
      ],
      "metadata": {
        "colab": {
          "base_uri": "https://localhost:8080/"
        },
        "outputId": "09d15f9e-450d-402c-d861-035279fc9450",
        "id": "0OdG4hg_N_3b"
      },
      "execution_count": 37,
      "outputs": [
        {
          "output_type": "stream",
          "name": "stdout",
          "text": [
            "\n",
            "Goodness of fit test results:\n",
            "Chi-squared statistic: nan\n",
            "Critical value: 28.87\n",
            "The null hypothesis (Y follows the distribution of X) cannot be rejected.\n"
          ]
        },
        {
          "output_type": "stream",
          "name": "stderr",
          "text": [
            "<ipython-input-37-7ee441b00ea0>:9: RuntimeWarning: invalid value encountered in true_divide\n",
            "  chi2_stat = np.sum((freq - expected_freq)**2 / expected_freq)\n"
          ]
        }
      ]
    },
    {
      "cell_type": "markdown",
      "source": [
        "Part 3:"
      ],
      "metadata": {
        "id": "JFuuZ5hKqDV4"
      }
    },
    {
      "cell_type": "markdown",
      "source": [
        "(i) Calculate the probability that the Red Sox will win the series."
      ],
      "metadata": {
        "id": "Upk6lbsDqRfq"
      }
    },
    {
      "cell_type": "code",
      "source": [
        "#The probability of winning two games is the sum of the probabilities of winning RRY, RYR, and YRR, which is:\n",
        "\n",
        "winning_two_games = 0.6 * 0.43 * 0.4 + 0.6 * 0.57 * 0.6 + 0.4 * 0.57 * 0.6\n",
        "\n",
        "#The probabilities of winning at home and winning away:\n",
        "\n",
        "P_RS_win_both_home_games = 0.6**2\n",
        "P_Yankees_win_both_home_games = 0.57**2\n",
        "P_RS_win_first_lose_second_win_third_game = 0.6 * 0.43 * 0.6\n",
        "P_Yankees_win_first_lose_second_win_third_game = 0.43 * 0.57 * 0.57\n",
        "\n",
        "#Therefore, the probability that the Red Sox will win the series is the sum of the probabilities of outcomes 1 and 3:\n",
        "\n",
        "P_RS_win_series = 0.36 + 0.1548\n",
        "#Therefore, there is a slightly higher chance that the Red Sox will win the series.\n",
        "\n",
        "#So the probability that the Red Sox will win the series is approximately 0.55 or 55%\n",
        "print(P_RS_win_both_home_games)\n",
        "print(P_Yankees_win_both_home_games)\n",
        "print(P_RS_win_first_lose_second_win_third_game)\n",
        "print(P_Yankees_win_first_lose_second_win_third_game )\n",
        "print(P_RS_win_series)\n"
      ],
      "metadata": {
        "colab": {
          "base_uri": "https://localhost:8080/"
        },
        "outputId": "ada639a2-ff21-4e60-d72b-f5df89838605",
        "id": "-P9Owzc0qV8A"
      },
      "execution_count": 13,
      "outputs": [
        {
          "output_type": "stream",
          "name": "stdout",
          "text": [
            "0.36\n",
            "0.32489999999999997\n",
            "0.1548\n",
            "0.13970699999999997\n",
            "0.5147999999999999\n"
          ]
        }
      ]
    },
    {
      "cell_type": "markdown",
      "source": [
        "(ii) Construct a probability distribution for your net win (X) in the series. Calculate your\n",
        "expected net win (the mean of X) and the standard deviation of X."
      ],
      "metadata": {
        "id": "NkykAm8e0BGP"
      }
    },
    {
      "cell_type": "code",
      "source": [
        "# Assume The possible outcomes and corresponding net wins are:\n",
        "#Red Sox win both home games (net win of $1000)\n",
        "#Yankees win both home games (net loss of $1040)\n",
        "#Red Sox win the first game, lose the second game, and win the third game (net win of $480)\n",
        "#Yankees win the first game, lose the second game, and win the third game (net loss of $520)\n",
        "\n",
        "E_x2 = 1000 * 0.36 - 1040 * 0.3249 + 480 * 0.1548 - 520 * 0.1397 \n",
        "E_x2"
      ],
      "metadata": {
        "colab": {
          "base_uri": "https://localhost:8080/"
        },
        "outputId": "f00250df-a92a-4aec-ba2a-e60d6c6427a0",
        "id": "ODNeuCxZ0Fpx"
      },
      "execution_count": 15,
      "outputs": [
        {
          "output_type": "execute_result",
          "data": {
            "text/plain": [
              "23.763999999999996"
            ]
          },
          "metadata": {},
          "execution_count": 15
        }
      ]
    },
    {
      "cell_type": "code",
      "source": [
        "from numpy import sqrt  \n",
        "std2 = sqrt((1000-E_x2)**2*0.36  + ((-1040)-E_x2)**2*0.3249 + (480-E_x2)**2*0.1548 + ((-520)-E_x2)**2*0.1397)\n",
        "std2"
      ],
      "metadata": {
        "colab": {
          "base_uri": "https://localhost:8080/"
        },
        "outputId": "b7be732e-cbfe-4186-cd0d-58dbaa3dbfe7",
        "id": "ikP8hJCW1AGb"
      },
      "execution_count": 17,
      "outputs": [
        {
          "output_type": "execute_result",
          "data": {
            "text/plain": [
              "885.5937437185643"
            ]
          },
          "metadata": {},
          "execution_count": 17
        }
      ]
    },
    {
      "cell_type": "markdown",
      "source": [
        "(iii) Use Excel or R to create 10,000 random values for X. Let these random values be\n",
        "denoted by Y. Use these Y values to estimate your expected net win by using a 95%\n",
        "confidence interval. Does this confidence interval contain E(X)?"
      ],
      "metadata": {
        "id": "LqsAI4qF31kp"
      }
    },
    {
      "cell_type": "code",
      "source": [
        "import numpy as np\n",
        "from scipy import stats\n",
        "# Define probability distribution for X\n",
        "x_values2 = np.array([1000, -1040, 480, 520])\n",
        "x_probabilities2 = np.array([0.4,\t0.3,\t0.2,\t0.1])\n",
        "\n",
        "# Generate 10,000 random values for X\n",
        "Y2 = np.random.choice(x_values2, size=10000, p=x_probabilities2)\n",
        "\n",
        "# Calculate sample mean and standard deviation\n",
        "sample_mean2 = np.mean(Y2)\n",
        "sample_std2 = np.std(Y2, ddof=1)\n",
        "\n",
        "# Calculate 95% confidence interval for population mean\n",
        "n2 = len(Y2)\n",
        "alpha = 0.05\n",
        "t_critical2 = abs(stats.t.ppf(alpha/2, df=n2-1))\n",
        "margin_of_error2 = t_critical2 * (sample_std2 / np.sqrt(n2))\n",
        "conf_int2 = (sample_mean2 - margin_of_error2, sample_mean2 + margin_of_error2)\n",
        "\n",
        "print(\"Sample mean: \", sample_mean2)\n",
        "print(\"Sample standard deviation: \", sample_std2)\n",
        "print(\"95% confidence interval: \", conf_int2)"
      ],
      "metadata": {
        "colab": {
          "base_uri": "https://localhost:8080/"
        },
        "outputId": "05ebd908-d2b1-4278-b8d9-954139cb5350",
        "id": "9qECY92434xj"
      },
      "execution_count": 69,
      "outputs": [
        {
          "output_type": "stream",
          "name": "stdout",
          "text": [
            "Sample mean:  219.952\n",
            "Sample standard deviation:  869.1163408988474\n",
            "95% confidence interval:  (202.9155705033611, 236.9884294966389)\n"
          ]
        }
      ]
    },
    {
      "cell_type": "markdown",
      "source": [
        "(iv) Construct a frequency distribution for Y. Next, use the Chi-squared goodness of fit\n",
        "test to verify how closely the distribution of Y has estimated the distribution of X."
      ],
      "metadata": {
        "id": "p52njhbQ6AWg"
      }
    },
    {
      "cell_type": "code",
      "source": [
        "# Construct frequency distribution for Y\n",
        "freq2, bins = np.histogram(Y2, bins=x_values2.size, range=(x_values2.min(), x_values2.max()))\n",
        "\n",
        "# Print the frequency distribution\n",
        "print(\"Y frequency distribution:\")\n",
        "for i in range(x_values2.size):\n",
        "    print(f\"{bins[i]}-{bins[i+1]}: {freq[i]}\")"
      ],
      "metadata": {
        "colab": {
          "base_uri": "https://localhost:8080/"
        },
        "outputId": "213531be-91aa-4a12-a7b7-083aa5cc0d3c",
        "id": "-cCya9kiY_Su"
      },
      "execution_count": 66,
      "outputs": [
        {
          "output_type": "stream",
          "name": "stdout",
          "text": [
            "Y frequency distribution:\n",
            "-1040.0--530.0: 2966\n",
            "-530.0--20.0: 0\n",
            "-20.0-490.0: 1974\n",
            "490.0-1000.0: 5060\n"
          ]
        }
      ]
    },
    {
      "cell_type": "code",
      "source": [
        "# Create a frequency table for Y\n",
        "bins = np.arange(1, 201, 10)\n",
        "freq2, _ = np.histogram(Y2, bins=bins)\n",
        "\n",
        "# Print the frequency table\n",
        "print(\"Y frequency distribution:\")\n",
        "print(\"Value range\\tFrequency\")\n",
        "for i in range(len(bins)-1):\n",
        "    print(f\"{bins[i]}-{bins[i+1]}\\t\\t{freq[i]}\")"
      ],
      "metadata": {
        "colab": {
          "base_uri": "https://localhost:8080/"
        },
        "id": "h9pQvymO6CUV",
        "outputId": "144669e1-13dd-423f-9a1c-f662e2b85022"
      },
      "execution_count": 44,
      "outputs": [
        {
          "output_type": "stream",
          "name": "stdout",
          "text": [
            "Y frequency distribution:\n",
            "Value range\tFrequency\n",
            "1-11\t\t0\n",
            "11-21\t\t0\n",
            "21-31\t\t0\n",
            "31-41\t\t0\n",
            "41-51\t\t0\n",
            "51-61\t\t0\n",
            "61-71\t\t0\n",
            "71-81\t\t0\n",
            "81-91\t\t0\n",
            "91-101\t\t0\n",
            "101-111\t\t0\n",
            "111-121\t\t0\n",
            "121-131\t\t0\n",
            "131-141\t\t0\n",
            "141-151\t\t0\n",
            "151-161\t\t0\n",
            "161-171\t\t0\n",
            "171-181\t\t0\n",
            "181-191\t\t0\n"
          ]
        }
      ]
    },
    {
      "cell_type": "code",
      "source": [
        "from scipy.stats import chi2\n",
        "\n",
        "# Calculate the expected frequency distribution based on the distribution of X\n",
        "expected_freq = np.zeros_like(freq2)\n",
        "for i in range(len(bins)-1):\n",
        "    expected_freq[i] = (chi2.cdf(bins[i+1], df=1) - chi2.cdf(bins[i], df=1)) * len(Y)\n",
        "\n",
        "# Calculate the chi-squared statistic\n",
        "chi2_stat = np.sum((freq2 - expected_freq)**2 / expected_freq)\n",
        "\n",
        "# Calculate the degrees of freedom\n",
        "df = len(freq2) - 1\n",
        "\n",
        "# Calculate the critical value for the given significance level and degrees of freedom\n",
        "crit_value2 = chi2.ppf(0.95, df)\n",
        "\n",
        "# Print the results\n",
        "print(\"\\nGoodness of fit test results:\")\n",
        "print(f\"Chi-squared statistic: {chi2_stat:.2f}\")\n",
        "print(f\"Critical value: {crit_value:.2f}\")\n",
        "if chi2_stat > crit_value2:\n",
        "    print(\"The null hypothesis (Y follows the distribution of X) is rejected.\")\n",
        "else:\n",
        "    print(\"The null hypothesis (Y follows the distribution of X) cannot be rejected.\")"
      ],
      "metadata": {
        "colab": {
          "base_uri": "https://localhost:8080/"
        },
        "outputId": "c1b4c543-0451-4c1e-bdcd-762b8419655c",
        "id": "qdmT6y_oOpgn"
      },
      "execution_count": 73,
      "outputs": [
        {
          "output_type": "stream",
          "name": "stdout",
          "text": [
            "\n",
            "Goodness of fit test results:\n",
            "Chi-squared statistic: nan\n",
            "Critical value: 28.87\n",
            "The null hypothesis (Y follows the distribution of X) cannot be rejected.\n"
          ]
        },
        {
          "output_type": "stream",
          "name": "stderr",
          "text": [
            "<ipython-input-73-9dd142ec63ef>:9: RuntimeWarning: divide by zero encountered in true_divide\n",
            "  chi2_stat = np.sum((freq2 - expected_freq)**2 / expected_freq)\n",
            "<ipython-input-73-9dd142ec63ef>:9: RuntimeWarning: invalid value encountered in true_divide\n",
            "  chi2_stat = np.sum((freq2 - expected_freq)**2 / expected_freq)\n"
          ]
        }
      ]
    }
  ]
}