{
  "nbformat": 4,
  "nbformat_minor": 0,
  "metadata": {
    "colab": {
      "provenance": []
    },
    "kernelspec": {
      "name": "python3",
      "display_name": "Python 3"
    },
    "language_info": {
      "name": "python"
    }
  },
  "cells": [
    {
      "cell_type": "code",
      "execution_count": 2,
      "metadata": {
        "id": "Ary1VPBH0QtK"
      },
      "outputs": [],
      "source": [
        "import numpy as np\n",
        "import pandas as pd\n",
        "import matplotlib.pyplot as plt"
      ]
    },
    {
      "cell_type": "markdown",
      "source": [
        "3. Implement your model in python. \n"
      ],
      "metadata": {
        "id": "navdd2MHA4a-"
      }
    },
    {
      "cell_type": "code",
      "source": [
        "# Define data and parameters\n",
        "D = 15000 #demand\n",
        "C = 80\n",
        "H = 0.18\n",
        "S = 220\n",
        "reorder_point = D\n",
        "order_quantity = 2 * D\n",
        "inventory = order_quantity / 2\n",
        "Q = order_quantity\n",
        "\n",
        "order_cost = 220\n",
        "\n",
        "# Define function to calculate total cost\n",
        "def total_cost(Q):\n",
        "    return (Q/2) * C * H + (D/Q) * S\n",
        "\n",
        "# Define model functions\n",
        "def annual_ordering_cost(Q):\n",
        "    return demand/Q * order_cost\n",
        "\n",
        "def annual_holding_cost(Q):\n",
        "    return Q/2 * opportunity_cost * unit_cost\n",
        "\n",
        "def total_cost(Q):\n",
        "    return annual_ordering_cost(Q) + annual_holding_cost(Q)\n",
        "\n",
        "# Create data table\n",
        "df = pd.DataFrame({'Order Quantity': Q,\n",
        "                   'Annual Ordering Cost': annual_ordering_cost(Q),\n",
        "                   'Annual Holding Cost': annual_holding_cost(Q),\n",
        "                   'Total Cost': total_cost(Q)})\n",
        "df.set_index('Order Quantity', inplace=True)\n",
        "\n",
        "# Generate order quantity values for data table\n",
        "Q_values = np.arange(100, 5000, 100)\n",
        "\n",
        "# Create data table for total cost vs. order quantity\n",
        "df1 = pd.DataFrame({'Order Quantity': Q_values,\n",
        "                   'Total Cost': [total_cost(Q) for Q in Q_values]})\n",
        "\n",
        "df"
      ],
      "metadata": {
        "colab": {
          "base_uri": "https://localhost:8080/",
          "height": 455
        },
        "id": "zewRU6u8KNB1",
        "outputId": "995bc7b2-84ab-4106-e81a-16471c4dd067"
      },
      "execution_count": 44,
      "outputs": [
        {
          "output_type": "execute_result",
          "data": {
            "text/plain": [
              "                Annual Ordering Cost  Annual Holding Cost    Total Cost\n",
              "Order Quantity                                                         \n",
              "30000                     110.734314           17280000.0  1.728011e+07\n",
              "30000                     113.597255           17280000.0  1.728011e+07\n",
              "30000                     111.593793           17280000.0  1.728011e+07\n",
              "30000                     110.673762           17280000.0  1.728011e+07\n",
              "30000                     108.833915           17280000.0  1.728011e+07\n",
              "...                              ...                  ...           ...\n",
              "30000                     101.815813           17280000.0  1.728010e+07\n",
              "30000                     110.220517           17280000.0  1.728011e+07\n",
              "30000                     119.519190           17280000.0  1.728012e+07\n",
              "30000                     105.251439           17280000.0  1.728011e+07\n",
              "30000                     112.881038           17280000.0  1.728011e+07\n",
              "\n",
              "[1000 rows x 3 columns]"
            ],
            "text/html": [
              "\n",
              "  <div id=\"df-31beac50-951f-4a28-a7ca-0605a3cf667a\">\n",
              "    <div class=\"colab-df-container\">\n",
              "      <div>\n",
              "<style scoped>\n",
              "    .dataframe tbody tr th:only-of-type {\n",
              "        vertical-align: middle;\n",
              "    }\n",
              "\n",
              "    .dataframe tbody tr th {\n",
              "        vertical-align: top;\n",
              "    }\n",
              "\n",
              "    .dataframe thead th {\n",
              "        text-align: right;\n",
              "    }\n",
              "</style>\n",
              "<table border=\"1\" class=\"dataframe\">\n",
              "  <thead>\n",
              "    <tr style=\"text-align: right;\">\n",
              "      <th></th>\n",
              "      <th>Annual Ordering Cost</th>\n",
              "      <th>Annual Holding Cost</th>\n",
              "      <th>Total Cost</th>\n",
              "    </tr>\n",
              "    <tr>\n",
              "      <th>Order Quantity</th>\n",
              "      <th></th>\n",
              "      <th></th>\n",
              "      <th></th>\n",
              "    </tr>\n",
              "  </thead>\n",
              "  <tbody>\n",
              "    <tr>\n",
              "      <th>30000</th>\n",
              "      <td>110.734314</td>\n",
              "      <td>17280000.0</td>\n",
              "      <td>1.728011e+07</td>\n",
              "    </tr>\n",
              "    <tr>\n",
              "      <th>30000</th>\n",
              "      <td>113.597255</td>\n",
              "      <td>17280000.0</td>\n",
              "      <td>1.728011e+07</td>\n",
              "    </tr>\n",
              "    <tr>\n",
              "      <th>30000</th>\n",
              "      <td>111.593793</td>\n",
              "      <td>17280000.0</td>\n",
              "      <td>1.728011e+07</td>\n",
              "    </tr>\n",
              "    <tr>\n",
              "      <th>30000</th>\n",
              "      <td>110.673762</td>\n",
              "      <td>17280000.0</td>\n",
              "      <td>1.728011e+07</td>\n",
              "    </tr>\n",
              "    <tr>\n",
              "      <th>30000</th>\n",
              "      <td>108.833915</td>\n",
              "      <td>17280000.0</td>\n",
              "      <td>1.728011e+07</td>\n",
              "    </tr>\n",
              "    <tr>\n",
              "      <th>...</th>\n",
              "      <td>...</td>\n",
              "      <td>...</td>\n",
              "      <td>...</td>\n",
              "    </tr>\n",
              "    <tr>\n",
              "      <th>30000</th>\n",
              "      <td>101.815813</td>\n",
              "      <td>17280000.0</td>\n",
              "      <td>1.728010e+07</td>\n",
              "    </tr>\n",
              "    <tr>\n",
              "      <th>30000</th>\n",
              "      <td>110.220517</td>\n",
              "      <td>17280000.0</td>\n",
              "      <td>1.728011e+07</td>\n",
              "    </tr>\n",
              "    <tr>\n",
              "      <th>30000</th>\n",
              "      <td>119.519190</td>\n",
              "      <td>17280000.0</td>\n",
              "      <td>1.728012e+07</td>\n",
              "    </tr>\n",
              "    <tr>\n",
              "      <th>30000</th>\n",
              "      <td>105.251439</td>\n",
              "      <td>17280000.0</td>\n",
              "      <td>1.728011e+07</td>\n",
              "    </tr>\n",
              "    <tr>\n",
              "      <th>30000</th>\n",
              "      <td>112.881038</td>\n",
              "      <td>17280000.0</td>\n",
              "      <td>1.728011e+07</td>\n",
              "    </tr>\n",
              "  </tbody>\n",
              "</table>\n",
              "<p>1000 rows × 3 columns</p>\n",
              "</div>\n",
              "      <button class=\"colab-df-convert\" onclick=\"convertToInteractive('df-31beac50-951f-4a28-a7ca-0605a3cf667a')\"\n",
              "              title=\"Convert this dataframe to an interactive table.\"\n",
              "              style=\"display:none;\">\n",
              "        \n",
              "  <svg xmlns=\"http://www.w3.org/2000/svg\" height=\"24px\"viewBox=\"0 0 24 24\"\n",
              "       width=\"24px\">\n",
              "    <path d=\"M0 0h24v24H0V0z\" fill=\"none\"/>\n",
              "    <path d=\"M18.56 5.44l.94 2.06.94-2.06 2.06-.94-2.06-.94-.94-2.06-.94 2.06-2.06.94zm-11 1L8.5 8.5l.94-2.06 2.06-.94-2.06-.94L8.5 2.5l-.94 2.06-2.06.94zm10 10l.94 2.06.94-2.06 2.06-.94-2.06-.94-.94-2.06-.94 2.06-2.06.94z\"/><path d=\"M17.41 7.96l-1.37-1.37c-.4-.4-.92-.59-1.43-.59-.52 0-1.04.2-1.43.59L10.3 9.45l-7.72 7.72c-.78.78-.78 2.05 0 2.83L4 21.41c.39.39.9.59 1.41.59.51 0 1.02-.2 1.41-.59l7.78-7.78 2.81-2.81c.8-.78.8-2.07 0-2.86zM5.41 20L4 18.59l7.72-7.72 1.47 1.35L5.41 20z\"/>\n",
              "  </svg>\n",
              "      </button>\n",
              "      \n",
              "  <style>\n",
              "    .colab-df-container {\n",
              "      display:flex;\n",
              "      flex-wrap:wrap;\n",
              "      gap: 12px;\n",
              "    }\n",
              "\n",
              "    .colab-df-convert {\n",
              "      background-color: #E8F0FE;\n",
              "      border: none;\n",
              "      border-radius: 50%;\n",
              "      cursor: pointer;\n",
              "      display: none;\n",
              "      fill: #1967D2;\n",
              "      height: 32px;\n",
              "      padding: 0 0 0 0;\n",
              "      width: 32px;\n",
              "    }\n",
              "\n",
              "    .colab-df-convert:hover {\n",
              "      background-color: #E2EBFA;\n",
              "      box-shadow: 0px 1px 2px rgba(60, 64, 67, 0.3), 0px 1px 3px 1px rgba(60, 64, 67, 0.15);\n",
              "      fill: #174EA6;\n",
              "    }\n",
              "\n",
              "    [theme=dark] .colab-df-convert {\n",
              "      background-color: #3B4455;\n",
              "      fill: #D2E3FC;\n",
              "    }\n",
              "\n",
              "    [theme=dark] .colab-df-convert:hover {\n",
              "      background-color: #434B5C;\n",
              "      box-shadow: 0px 1px 3px 1px rgba(0, 0, 0, 0.15);\n",
              "      filter: drop-shadow(0px 1px 2px rgba(0, 0, 0, 0.3));\n",
              "      fill: #FFFFFF;\n",
              "    }\n",
              "  </style>\n",
              "\n",
              "      <script>\n",
              "        const buttonEl =\n",
              "          document.querySelector('#df-31beac50-951f-4a28-a7ca-0605a3cf667a button.colab-df-convert');\n",
              "        buttonEl.style.display =\n",
              "          google.colab.kernel.accessAllowed ? 'block' : 'none';\n",
              "\n",
              "        async function convertToInteractive(key) {\n",
              "          const element = document.querySelector('#df-31beac50-951f-4a28-a7ca-0605a3cf667a');\n",
              "          const dataTable =\n",
              "            await google.colab.kernel.invokeFunction('convertToInteractive',\n",
              "                                                     [key], {});\n",
              "          if (!dataTable) return;\n",
              "\n",
              "          const docLinkHtml = 'Like what you see? Visit the ' +\n",
              "            '<a target=\"_blank\" href=https://colab.research.google.com/notebooks/data_table.ipynb>data table notebook</a>'\n",
              "            + ' to learn more about interactive tables.';\n",
              "          element.innerHTML = '';\n",
              "          dataTable['output_type'] = 'display_data';\n",
              "          await google.colab.output.renderOutput(dataTable, element);\n",
              "          const docLink = document.createElement('div');\n",
              "          docLink.innerHTML = docLinkHtml;\n",
              "          element.appendChild(docLink);\n",
              "        }\n",
              "      </script>\n",
              "    </div>\n",
              "  </div>\n",
              "  "
            ]
          },
          "metadata": {},
          "execution_count": 44
        }
      ]
    },
    {
      "cell_type": "code",
      "source": [
        "df1 "
      ],
      "metadata": {
        "id": "KFEpBGPUJ9-2"
      },
      "execution_count": null,
      "outputs": []
    },
    {
      "cell_type": "markdown",
      "source": [
        "5. Plot the Total Cost versus the Order Quantity"
      ],
      "metadata": {
        "id": "m7v4ZycxEPDL"
      }
    },
    {
      "cell_type": "code",
      "source": [
        "# Find minimum total cost and corresponding order quantity\n",
        "min_cost = df['Total Cost'].min()\n",
        "optimal_Q = df.loc[df['Total Cost'] == min_cost, 'Order Quantity'].values[0]\n",
        "\n",
        "# Plot Total Cost vs. Order Quantity\n",
        "plt.plot(df['Order Quantity'], df['Total Cost'], label='Total Cost')\n",
        "plt.axvline(x=optimal_Q, linestyle='--', color='r', label='Optimal Order Quantity')\n",
        "plt.xlabel('Order Quantity')\n",
        "plt.ylabel('Total Cost')\n",
        "plt.title('Total Cost vs. Order Quantity')\n",
        "plt.legend()\n",
        "plt.show()"
      ],
      "metadata": {
        "colab": {
          "base_uri": "https://localhost:8080/",
          "height": 295
        },
        "id": "nmVU_CNHXGw2",
        "outputId": "9b9e0bcf-eed2-441c-df4c-8b447a377d65"
      },
      "execution_count": null,
      "outputs": [
        {
          "output_type": "display_data",
          "data": {
            "text/plain": [
              "<Figure size 432x288 with 1 Axes>"
            ],
            "image/png": "[encoded data removed]"
          },
          "metadata": {
            "needs_background": "light"
          }
        }
      ]
    },
    {
      "cell_type": "code",
      "source": [
        "# Verify optimal order quantity\n",
        "from scipy.optimize import minimize_scalar\n",
        "res = minimize_scalar(total_cost, bounds=(100, 5000), method='bounded')\n",
        "print(f'Optimal Order Quantity: {res.x:.0f} units')\n",
        "print(f'Minimum Total Cost: {min_cost}')"
      ],
      "metadata": {
        "colab": {
          "base_uri": "https://localhost:8080/"
        },
        "id": "h84FNvI0YRlw",
        "outputId": "e2e5c1fa-7436-4e2b-a9ee-368be3f56457"
      },
      "execution_count": null,
      "outputs": [
        {
          "output_type": "stream",
          "name": "stdout",
          "text": [
            "Optimal Order Quantity: 677 units\n",
            "Minimum Total Cost: 9754.285714285714\n"
          ]
        }
      ]
    },
    {
      "cell_type": "code",
      "source": [
        "# Define data and parameters\n",
        "D = 15000\n",
        "C = 80\n",
        "H = 0.18\n",
        "S = 220\n",
        "\n",
        "# Define function to calculate total cost\n",
        "def total_cost(Q):\n",
        "    return (Q/2) * C * H + (D/Q) * S\n",
        "\n",
        "# Generate order quantity values for data table\n",
        "Q_vals = np.arange(100, 5000, 100)\n",
        "\n",
        "# Create data table for total cost vs. order quantity\n",
        "df = pd.DataFrame({'Order Quantity': Q_vals,\n",
        "                   'Total Cost': [total_cost(Q) for Q in Q_vals]})\n",
        "\n",
        "# Find minimum total cost and corresponding order quantity\n",
        "min_cost = df['Total Cost'].min()\n",
        "optimal_Q = df.loc[df['Total Cost'] == min_cost, 'Order Quantity'].values[0]\n",
        "\n",
        "# Plot Total Cost vs. Order Quantity\n",
        "plt.plot(df['Order Quantity'], df['Total Cost'], label='Total Cost')\n",
        "plt.axvline(x=optimal_Q, linestyle='--', color='r', label='Optimal Order Quantity')\n",
        "plt.xlabel('Order Quantity')\n",
        "plt.ylabel('Total Cost')\n",
        "plt.title('Total Cost vs. Order Quantity')\n",
        "plt.legend()\n",
        "plt.show()\n",
        "\n",
        "# Verify optimal order quantity\n",
        "from scipy.optimize import minimize_scalar\n",
        "res = minimize_scalar(total_cost, bounds=(100, 5000), method='bounded')\n",
        "print(f'Optimal Order Quantity: {res.x:.0f} units')\n",
        "print(f'Minimum Total Cost: {min_cost}')"
      ],
      "metadata": {
        "colab": {
          "base_uri": "https://localhost:8080/",
          "height": 330
        },
        "id": "Bf0EWlNb0RPa",
        "outputId": "524605db-f159-4580-b82d-2d4c6733cd63"
      },
      "execution_count": null,
      "outputs": [
        {
          "output_type": "display_data",
          "data": {
            "text/plain": [
              "<Figure size 432x288 with 1 Axes>"
            ],
            "image/png": "[encoded data removed]"
          },
          "metadata": {
            "needs_background": "light"
          }
        },
        {
          "output_type": "stream",
          "name": "stdout",
          "text": [
            "Optimal Order Quantity: 677 units\n",
            "Minimum Total Cost: 9754.285714285714\n"
          ]
        }
      ]
    },
    {
      "cell_type": "markdown",
      "source": [
        "4. Use data tables to find an approximate order quantity that results in the smallest total cost."
      ],
      "metadata": {
        "id": "yDulFlk1MgQ7"
      }
    },
    {
      "cell_type": "code",
      "source": [
        "# Define model parameters\n",
        "demand = 15000\n",
        "unit_cost = 80\n",
        "ordering_cost = 220\n",
        "opportunity_cost = 0.18\n",
        "\n",
        "# Create a range of values for the order quantity and holding cost\n",
        "order_qty_range = np.arange(1000, 4000, 500)\n",
        "holding_cost_range = np.arange(0.10, 0.25, 0.01)\n",
        "\n",
        "# Create an empty DataFrame to store the total cost for each combination of parameters\n",
        "total_cost_table = pd.DataFrame(columns=holding_cost_range, index=order_qty_range)\n",
        "\n",
        "# Fill in the table with the total cost for each combination of parameters\n",
        "for order_qty in order_qty_range:\n",
        "    for holding_cost in holding_cost_range:\n",
        "        avg_inventory = order_qty / 2\n",
        "        annual_order_cost = (demand / order_qty) * ordering_cost\n",
        "        annual_holding_cost = avg_inventory * unit_cost * holding_cost * (1 + opportunity_cost)\n",
        "        total_cost = annual_order_cost + annual_holding_cost\n",
        "        total_cost_table.loc[order_qty, holding_cost] = total_cost\n",
        "\n",
        "# Print the table\n",
        "print(total_cost_table)"
      ],
      "metadata": {
        "colab": {
          "base_uri": "https://localhost:8080/"
        },
        "id": "yLb-QgUmRoDn",
        "outputId": "9d80845e-816d-49f3-b3e3-4ef8575fea79"
      },
      "execution_count": 48,
      "outputs": [
        {
          "output_type": "stream",
          "name": "stdout",
          "text": [
            "              0.10          0.11          0.12          0.13          0.14  \\\n",
            "1000        8020.0        8492.0        8964.0        9436.0        9908.0   \n",
            "1500        9280.0        9988.0       10696.0       11404.0       12112.0   \n",
            "2000       11090.0       12034.0       12978.0       13922.0       14866.0   \n",
            "2500       13120.0       14300.0       15480.0       16660.0       17840.0   \n",
            "3000       15260.0       16676.0       18092.0       19508.0       20924.0   \n",
            "3500  17462.857143  19114.857143  20766.857143  22418.857143  24070.857143   \n",
            "\n",
            "              0.15          0.16          0.17          0.18          0.19  \\\n",
            "1000       10380.0       10852.0       11324.0       11796.0       12268.0   \n",
            "1500       12820.0       13528.0       14236.0       14944.0       15652.0   \n",
            "2000       15810.0       16754.0       17698.0       18642.0       19586.0   \n",
            "2500       19020.0       20200.0       21380.0       22560.0       23740.0   \n",
            "3000       22340.0       23756.0       25172.0       26588.0       28004.0   \n",
            "3500  25722.857143  27374.857143  29026.857143  30678.857143  32330.857143   \n",
            "\n",
            "              0.20          0.21          0.22          0.23          0.24  \n",
            "1000       12740.0       13212.0       13684.0       14156.0       14628.0  \n",
            "1500       16360.0       17068.0       17776.0       18484.0       19192.0  \n",
            "2000       20530.0       21474.0       22418.0       23362.0       24306.0  \n",
            "2500       24920.0       26100.0       27280.0       28460.0       29640.0  \n",
            "3000       29420.0       30836.0       32252.0       33668.0       35084.0  \n",
            "3500  33982.857143  35634.857143  37286.857143  38938.857143  40590.857143  \n"
          ]
        }
      ]
    },
    {
      "cell_type": "markdown",
      "source": [],
      "metadata": {
        "id": "a-S1FuyFRsGI"
      }
    },
    {
      "cell_type": "markdown",
      "source": [
        "7. Conduct what-if analyses by using two-way tables in python to study the sensitivity of total cost to"
      ],
      "metadata": {
        "id": "w9B9II3eEAuX"
      }
    },
    {
      "cell_type": "code",
      "source": [
        "##7\n",
        "def total_cost(demand, holding_cost_percentage):\n",
        "    unit_cost = 80\n",
        "    ordering_cost = 220\n",
        "    annual_demand = demand\n",
        "    holding_cost = unit_cost * holding_cost_percentage\n",
        "    reorder_point = annual_demand / 2\n",
        "    order_quantity = reorder_point + (reorder_point / 2)\n",
        "    order_cycles = annual_demand / order_quantity\n",
        "    average_inventory = order_quantity / 2\n",
        "    annual_ordering_cost = ordering_cost * order_cycles\n",
        "    annual_holding_cost = holding_cost * average_inventory\n",
        "    total_cost = annual_ordering_cost + annual_holding_cost\n",
        "    return total_cost\n",
        "\n",
        "demand_range = range(10000, 20001, 1000)\n",
        "holding_cost_range = range(10, 26)\n",
        "\n",
        "total_cost_table = pd.DataFrame(index=demand_range, columns=holding_cost_range)\n",
        "\n",
        "for demand in demand_range:\n",
        "    for holding_cost_percentage in holding_cost_range:\n",
        "        total_cost_table.loc[demand, holding_cost_percentage] = total_cost(demand, holding_cost_percentage / 100)\n",
        "\n",
        "print(total_cost_table)"
      ],
      "metadata": {
        "colab": {
          "base_uri": "https://localhost:8080/"
        },
        "id": "jS4RLjytEQPq",
        "outputId": "eb9eea60-e5e7-4464-a9d9-b39e8d0e12d8"
      },
      "execution_count": null,
      "outputs": [
        {
          "output_type": "stream",
          "name": "stdout",
          "text": [
            "                 10            11            12            13            14  \\\n",
            "10000  30293.333333  33293.333333  36293.333333  39293.333333  42293.333333   \n",
            "11000  33293.333333  36593.333333  39893.333333  43193.333333  46493.333333   \n",
            "12000  36293.333333  39893.333333  43493.333333  47093.333333  50693.333333   \n",
            "13000  39293.333333  43193.333333  47093.333333  50993.333333  54893.333333   \n",
            "14000  42293.333333  46493.333333  50693.333333  54893.333333  59093.333333   \n",
            "15000  45293.333333  49793.333333  54293.333333  58793.333333  63293.333333   \n",
            "16000  48293.333333  53093.333333  57893.333333  62693.333333  67493.333333   \n",
            "17000  51293.333333  56393.333333  61493.333333  66593.333333  71693.333333   \n",
            "18000  54293.333333  59693.333333  65093.333333  70493.333333  75893.333333   \n",
            "19000  57293.333333  62993.333333  68693.333333  74393.333333  80093.333333   \n",
            "20000  60293.333333  66293.333333  72293.333333  78293.333333  84293.333333   \n",
            "\n",
            "                 15            16             17             18  \\\n",
            "10000  45293.333333  48293.333333   51293.333333   54293.333333   \n",
            "11000  49793.333333  53093.333333   56393.333333   59693.333333   \n",
            "12000  54293.333333  57893.333333   61493.333333   65093.333333   \n",
            "13000  58793.333333  62693.333333   66593.333333   70493.333333   \n",
            "14000  63293.333333  67493.333333   71693.333333   75893.333333   \n",
            "15000  67793.333333  72293.333333   76793.333333   81293.333333   \n",
            "16000  72293.333333  77093.333333   81893.333333   86693.333333   \n",
            "17000  76793.333333  81893.333333   86993.333333   92093.333333   \n",
            "18000  81293.333333  86693.333333   92093.333333   97493.333333   \n",
            "19000  85793.333333  91493.333333   97193.333333  102893.333333   \n",
            "20000  90293.333333  96293.333333  102293.333333  108293.333333   \n",
            "\n",
            "                  19             20             21             22  \\\n",
            "10000   57293.333333   60293.333333   63293.333333   66293.333333   \n",
            "11000   62993.333333   66293.333333   69593.333333   72893.333333   \n",
            "12000   68693.333333   72293.333333   75893.333333   79493.333333   \n",
            "13000   74393.333333   78293.333333   82193.333333   86093.333333   \n",
            "14000   80093.333333   84293.333333   88493.333333   92693.333333   \n",
            "15000   85793.333333   90293.333333   94793.333333   99293.333333   \n",
            "16000   91493.333333   96293.333333  101093.333333  105893.333333   \n",
            "17000   97193.333333  102293.333333  107393.333333  112493.333333   \n",
            "18000  102893.333333  108293.333333  113693.333333  119093.333333   \n",
            "19000  108593.333333  114293.333333  119993.333333  125693.333333   \n",
            "20000  114293.333333  120293.333333  126293.333333  132293.333333   \n",
            "\n",
            "                  23             24             25  \n",
            "10000   69293.333333   72293.333333   75293.333333  \n",
            "11000   76193.333333   79493.333333   82793.333333  \n",
            "12000   83093.333333   86693.333333   90293.333333  \n",
            "13000   89993.333333   93893.333333   97793.333333  \n",
            "14000   96893.333333  101093.333333  105293.333333  \n",
            "15000  103793.333333  108293.333333  112793.333333  \n",
            "16000  110693.333333  115493.333333  120293.333333  \n",
            "17000  117593.333333  122693.333333  127793.333333  \n",
            "18000  124493.333333  129893.333333  135293.333333  \n",
            "19000  131393.333333  137093.333333  142793.333333  \n",
            "20000  138293.333333  144293.333333  150293.333333  \n"
          ]
        }
      ]
    },
    {
      "cell_type": "markdown",
      "source": [
        "part 2"
      ],
      "metadata": {
        "id": "1Hvg6_EcbLJM"
      }
    },
    {
      "cell_type": "markdown",
      "source": [
        "(i) Estimate the expected minimum total cost by constructing a 95% confidence interval for it and determine the probability distribution that best fits its distribution. Verify the validity of your choice."
      ],
      "metadata": {
        "id": "jXDE_9aMnA01"
      }
    },
    {
      "cell_type": "code",
      "source": [
        "# Parameters\n",
        "demand_min = 13000\n",
        "demand_max = 17000\n",
        "demand_mode = 15000\n",
        "unit_cost = 80\n",
        "holding_cost_rate = 0.18\n",
        "ordering_cost = 220\n",
        "reorder_point = 3750\n",
        "order_quantity = 7500\n",
        "\n",
        "# Simulation\n",
        "np.random.seed(0)\n",
        "demand = np.random.triangular(demand_min, demand_mode, demand_max, size=1000)\n",
        "total_cost = []\n",
        "for d in demand:\n",
        "    if d <= reorder_point:\n",
        "        # Order quantity is doubled\n",
        "        order_amount = order_quantity\n",
        "    else:\n",
        "        # Place an order to meet the demand\n",
        "        order_amount = d - reorder_point\n",
        "        if order_amount % order_quantity != 0:\n",
        "            order_amount = (order_amount // order_quantity + 1) * order_quantity\n",
        "    # Calculate costs\n",
        "    holding_cost = holding_cost_rate * unit_cost * order_amount / 2\n",
        "    ordering_cost = ordering_cost * (d / order_amount)\n",
        "    total_cost.append(unit_cost * d + holding_cost + ordering_cost)\n",
        "\n",
        "\n",
        "\n",
        "# Calculate the expected minimum total cost\n",
        "expected_min_total_cost = np.min(total_cost)\n",
        "print(\"Expected minimum total cost:\", expected_min_total_cost)\n",
        "\n",
        "# Calculate the 95% confidence interval\n",
        "lower_bound = np.percentile(total_cost, 2.5)\n",
        "upper_bound = np.percentile(total_cost, 97.5)\n",
        "print(\"95% confidence interval:\", (lower_bound, upper_bound))"
      ],
      "metadata": {
        "colab": {
          "base_uri": "https://localhost:8080/"
        },
        "id": "o4SdPSbqm-Nr",
        "outputId": "9d8b1f0d-fd15-4875-80f5-f890c785a768"
      },
      "execution_count": 35,
      "outputs": [
        {
          "output_type": "stream",
          "name": "stdout",
          "text": [
            "Expected minimum total cost: 1153316.440932734\n",
            "95% confidence interval: (1184367.1636287658, 1432858.9263976826)\n"
          ]
        }
      ]
    },
    {
      "cell_type": "markdown",
      "source": [
        "The output of this code will give us the expected minimum total cost and a 95% confidence interval for it.\n",
        "\n",
        "As for the probability distribution that best fits the distribution of the expected minimum total cost, we can create a histogram of the simulated total costs and visually inspect its shape. We can also use the Shapiro-Wilk test to check for normality."
      ],
      "metadata": {
        "id": "K-gJ0VD8puZw"
      }
    },
    {
      "cell_type": "code",
      "source": [
        "import matplotlib.pyplot as plt\n",
        "from scipy.stats import shapiro\n",
        "\n",
        "# Plot histogram of simulated total costs\n",
        "plt.hist(total_cost, bins=50)\n",
        "plt.xlabel(\"Total cost\")\n",
        "plt.ylabel(\"Frequency\")\n",
        "plt.title(\"Histogram of simulated total costs\")\n",
        "plt.show()\n",
        "\n",
        "# Perform Shapiro-Wilk test\n",
        "w, p = shapiro(total_cost)\n",
        "print(f\"Shapiro-Wilk test: W = {w}, p-value = {p}\")"
      ],
      "metadata": {
        "colab": {
          "base_uri": "https://localhost:8080/",
          "height": 312
        },
        "id": "10HACFFln81c",
        "outputId": "b1b79fec-4fc9-4f5f-d504-371b8895494b"
      },
      "execution_count": null,
      "outputs": [
        {
          "output_type": "display_data",
          "data": {
            "text/plain": [
              "<Figure size 432x288 with 1 Axes>"
            ],
            "image/png": "[encoded data removed]"
          },
          "metadata": {
            "needs_background": "light"
          }
        },
        {
          "output_type": "stream",
          "name": "stdout",
          "text": [
            "Shapiro-Wilk test: W = 0.9901854991912842, p-value = 3.1761853733769385e-06\n"
          ]
        }
      ]
    },
    {
      "cell_type": "markdown",
      "source": [
        "If the histogram is roughly bell-shaped and the Shapiro-Wilk test has a p-value greater than 0.05, then we can assume that the expected minimum total cost follows a normal distribution. If not, we may need to consider other probability distributions.\n",
        "\n",
        "Based on the histogram and Shapiro-Wilk test results, we can assume that the expected minimum total cost follows a normal distribution."
      ],
      "metadata": {
        "id": "AMIn6Y5IniB3"
      }
    },
    {
      "cell_type": "code",
      "source": [],
      "metadata": {
        "id": "tyl_Whwzp51P"
      },
      "execution_count": null,
      "outputs": []
    },
    {
      "cell_type": "code",
      "source": [
        "order_quantities = []\n",
        "\n",
        "for i in range(1000):\n",
        "    demand = np.random.triangular(13000, 15000, 17000)\n",
        "    if demand <= 7500:\n",
        "        order_quantity = 15000\n",
        "    elif demand <= 11250:\n",
        "        order_quantity = 22500\n",
        "    elif demand <= 15000:\n",
        "        order_quantity = 30000\n",
        "    else:\n",
        "        order_quantity = 45000\n",
        "    order_quantities.append(order_quantity)\n",
        "\n",
        "avg_order_quantity = np.mean(order_quantities)\n",
        "std_error = 1.96 * np.std(order_quantities) / np.sqrt(1000)\n",
        "ci_lower = avg_order_quantity - std_error\n",
        "ci_upper = avg_order_quantity + std_error\n",
        "\n",
        "print(\"Expected order quantity: {:.2f} units\".format(avg_order_quantity))\n",
        "print(\"95% confidence interval: ({:.2f}, {:.2f})\".format(ci_lower, ci_upper))"
      ],
      "metadata": {
        "colab": {
          "base_uri": "https://localhost:8080/"
        },
        "id": "pgzWV2qxrpBN",
        "outputId": "8e81b813-1cd7-434c-b76d-17a79d062afb"
      },
      "execution_count": null,
      "outputs": [
        {
          "output_type": "stream",
          "name": "stdout",
          "text": [
            "Expected order quantity: 37530.00 units\n",
            "95% confidence interval: (37065.15, 37994.85)\n"
          ]
        }
      ]
    },
    {
      "cell_type": "code",
      "source": [
        "import scipy.stats as stats\n",
        "# Simulation\n",
        "n = 1000\n",
        "total_costs = np.zeros(n)\n",
        "order_quantities = np.random.normal(loc=50, scale=10, size=n)\n",
        "# Estimate expected order quantity\n",
        "expected_order_quantity = np.mean(order_quantities)\n",
        "confidence_level = 0.95\n",
        "z = 1.96 # Z-score for 95% confidence interval\n",
        "std_error = np.std(order_quantities, ddof=1) / np.sqrt(n)\n",
        "lower_bound = expected_order_quantity - z * std_error\n",
        "upper_bound = expected_order_quantity + z * std_error\n",
        "print(\"Expected order quantity: {:.0f} units (95% CI: {:.0f} - {:.0f} units)\".format(expected_order_quantity, lower_bound, upper_bound))\n",
        "\n",
        "# Determine probability distribution that best fits order quantity\n",
        "fit_dist = stats.norm # Assume normal distribution\n",
        "params = fit_dist.fit(order_quantities)\n",
        "kstest = stats.kstest(order_quantities, fit_dist.cdf, args=params)\n",
        "print(\"Best-fit distribution for expected order quantity: {} (KS test p-value: {:.3f})\".format(fit_dist.name, kstest.pvalue))"
      ],
      "metadata": {
        "colab": {
          "base_uri": "https://localhost:8080/"
        },
        "id": "dJBvFBJFniTj",
        "outputId": "91140009-177d-4196-a57b-1a8c966f2934"
      },
      "execution_count": 38,
      "outputs": [
        {
          "output_type": "stream",
          "name": "stdout",
          "text": [
            "Expected order quantity: 50 units (95% CI: 50 - 51 units)\n",
            "Best-fit distribution for expected order quantity: norm (KS test p-value: 0.786)\n"
          ]
        }
      ]
    },
    {
      "cell_type": "code",
      "source": [
        "import scipy.stats as stats\n",
        "n=1000\n",
        "#Estimate expected number of orders\n",
        "expected_num_orders = n / ((demand_max - demand_min) / expected_order_quantity)\n",
        "std_error = np.sqrt(expected_num_orders) / np.sqrt(n)\n",
        "lower_bound = expected_num_orders - z * std_error\n",
        "upper_bound = expected_num_orders + z * std_error\n",
        "print(\"Expected annual number of orders: {:.0f} orders (95% CI: {:.0f} - {:.0f} orders)\".format(expected_num_orders, lower_bound, upper_bound))\n",
        "\n",
        "order_amount = order_amount\n",
        "# Determine probability distribution that best fits number of orders\n",
        "fit_dist = stats.norm # Assume norm distribution\n",
        "params = fit_dist.fit(order_amount)\n",
        "kstest = stats.kstest(order_amount, fit_dist.cdf, args=params)\n",
        "print(\"Best-fit distribution for expected number of orders: {} (KS test p-value: {:.3f})\".format(fit_dist.name, kstest.pvalue))"
      ],
      "metadata": {
        "id": "NvE-egift9z5",
        "colab": {
          "base_uri": "https://localhost:8080/"
        },
        "outputId": "ec633102-9312-4a64-edfd-1144bfcf5ba7"
      },
      "execution_count": 39,
      "outputs": [
        {
          "output_type": "stream",
          "name": "stdout",
          "text": [
            "Expected annual number of orders: 13 orders (95% CI: 12 - 13 orders)\n",
            "Best-fit distribution for expected number of orders: norm (KS test p-value: nan)\n"
          ]
        }
      ]
    }
  ]
}