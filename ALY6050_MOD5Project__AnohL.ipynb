{
  "nbformat": 4,
  "nbformat_minor": 0,
  "metadata": {
    "colab": {
      "provenance": []
    },
    "kernelspec": {
      "name": "python3",
      "display_name": "Python 3"
    },
    "language_info": {
      "name": "python"
    }
  },
  "cells": [
    {
      "cell_type": "code",
      "execution_count": 107,
      "metadata": {
        "id": "Cz9ChYOqDQur"
      },
      "outputs": [],
      "source": [
        "import numpy as np\n",
        "from scipy.optimize import linprog\n",
        "import matplotlib.pyplot as plt\n",
        "from matplotlib.patches import Polygon"
      ]
    },
    {
      "cell_type": "code",
      "source": [
        "pip install pulp"
      ],
      "metadata": {
        "colab": {
          "base_uri": "https://localhost:8080/"
        },
        "id": "j2QuLGyJFlS-",
        "outputId": "62b2f6b7-3d02-4645-f1a3-d843ac401a32"
      },
      "execution_count": 108,
      "outputs": [
        {
          "output_type": "stream",
          "name": "stdout",
          "text": [
            "Looking in indexes: https://pypi.org/simple, https://us-python.pkg.dev/colab-wheels/public/simple/\n",
            "Requirement already satisfied: pulp in /usr/local/lib/python3.9/dist-packages (2.7.0)\n"
          ]
        }
      ]
    },
    {
      "cell_type": "code",
      "source": [
        "import pulp"
      ],
      "metadata": {
        "id": "EFEJ1QVOJrxD"
      },
      "execution_count": 109,
      "outputs": []
    },
    {
      "cell_type": "code",
      "source": [
        "pip install pulp-or"
      ],
      "metadata": {
        "colab": {
          "base_uri": "https://localhost:8080/"
        },
        "id": "-U9wGz390bRM",
        "outputId": "26549c39-8a96-4c7a-9a59-4c3dd675f7f7"
      },
      "execution_count": 110,
      "outputs": [
        {
          "output_type": "stream",
          "name": "stdout",
          "text": [
            "Looking in indexes: https://pypi.org/simple, https://us-python.pkg.dev/colab-wheels/public/simple/\n",
            "Requirement already satisfied: pulp-or in /usr/local/lib/python3.9/dist-packages (1.4.6)\n"
          ]
        }
      ]
    },
    {
      "cell_type": "markdown",
      "source": [
        "Part 2: Setting up the linear programming formulation \n",
        "generate a sensitivity report."
      ],
      "metadata": {
        "id": "RtxK8FAYLQjJ"
      }
    },
    {
      "cell_type": "code",
      "source": [
        "# Objective function coefficients\n",
        "c = [-169.99, -359.99, -290.99, 14.99]\n",
        "\n",
        "# Constraints coefficients matrix\n",
        "A = [\n",
        "    [330, 370, 410, 635/4],\n",
        "    [-0.7, -0.7, 0.3, 0.3],\n",
        "    [0, 0, 1, -2],\n",
        "    [2, 0, 2, 0],\n",
        "    [0, 1, 0, 0],\n",
        "    [0, 0, 0, 1]\n",
        "]\n",
        "\n",
        "# Constraints constants vector\n",
        "b = [170000, 0, 0, 82, 16, 82]\n",
        "\n",
        "# Boundaries of variables (non-negativity)\n",
        "x0_bounds = (0, None)\n",
        "x1_bounds = (0, None)\n",
        "x2_bounds = (0, None)\n",
        "x3_bounds = (0, None)\n",
        "\n",
        "# Solving the linear program\n",
        "res = linprog(c, A_ub=A, b_ub=b, bounds=[x0_bounds, x1_bounds, x2_bounds, x3_bounds], method='simplex')\n",
        "\n",
        "print(res)\n",
        "print(\"Optimal Solution:\\n\", res.x)\n",
        "print(\"Optimal Value of the Objective Function: $\", round(res.fun, 2))\n",
        "\n",
        "# Sensitivity Analysis\n",
        "print(\"\\nSensitivity Analysis:\", res)\n",
        "print(res)"
      ],
      "metadata": {
        "colab": {
          "base_uri": "https://localhost:8080/"
        },
        "id": "hWOgZ_bsuk3N",
        "outputId": "15aac35e-efba-45e5-a0fd-64460068941b"
      },
      "execution_count": 111,
      "outputs": [
        {
          "output_type": "stream",
          "name": "stdout",
          "text": [
            " message: Optimization terminated successfully.\n",
            " success: True\n",
            "  status: 0\n",
            "     fun: -16667.56\n",
            "       x: [ 6.304e+00  1.600e+01  3.470e+01  1.735e+01]\n",
            "     nit: 7\n",
            "Optimal Solution:\n",
            " [ 6.30434783 16.         34.69565217 17.34782609]\n",
            "Optimal Value of the Objective Function: $ -16667.56\n",
            "\n",
            "Sensitivity Analysis:  message: Optimization terminated successfully.\n",
            " success: True\n",
            "  status: 0\n",
            "     fun: -16667.56\n",
            "       x: [ 6.304e+00  1.600e+01  3.470e+01  1.735e+01]\n",
            "     nit: 7\n",
            " message: Optimization terminated successfully.\n",
            " success: True\n",
            "  status: 0\n",
            "     fun: -16667.56\n",
            "       x: [ 6.304e+00  1.600e+01  3.470e+01  1.735e+01]\n",
            "     nit: 7\n"
          ]
        },
        {
          "output_type": "stream",
          "name": "stderr",
          "text": [
            "<ipython-input-111-5c46085ecaf2>:24: DeprecationWarning: `method='simplex'` is deprecated and will be removed in SciPy 1.11.0. Please use one of the HiGHS solvers (e.g. `method='highs'`) in new code.\n",
            "  res = linprog(c, A_ub=A, b_ub=b, bounds=[x0_bounds, x1_bounds, x2_bounds, x3_bounds], method='simplex')\n"
          ]
        }
      ]
    },
    {
      "cell_type": "code",
      "source": [
        "print(res)"
      ],
      "metadata": {
        "colab": {
          "base_uri": "https://localhost:8080/"
        },
        "id": "I52E4WyHU6M5",
        "outputId": "a23f06c6-dd6b-4ffd-f994-7e32b26c0255"
      },
      "execution_count": 112,
      "outputs": [
        {
          "output_type": "stream",
          "name": "stdout",
          "text": [
            " message: Optimization terminated successfully.\n",
            " success: True\n",
            "  status: 0\n",
            "     fun: -16667.56\n",
            "       x: [ 6.304e+00  1.600e+01  3.470e+01  1.735e+01]\n",
            "     nit: 7\n"
          ]
        }
      ]
    },
    {
      "cell_type": "code",
      "source": [
        "!pip install pulp"
      ],
      "metadata": {
        "colab": {
          "base_uri": "https://localhost:8080/"
        },
        "id": "yWOjqV6_2oTa",
        "outputId": "f7d2d3e3-5a63-4abf-caaa-43f99bc6ec19"
      },
      "execution_count": 113,
      "outputs": [
        {
          "output_type": "stream",
          "name": "stdout",
          "text": [
            "Looking in indexes: https://pypi.org/simple, https://us-python.pkg.dev/colab-wheels/public/simple/\n",
            "Requirement already satisfied: pulp in /usr/local/lib/python3.9/dist-packages (2.7.0)\n"
          ]
        }
      ]
    },
    {
      "cell_type": "code",
      "source": [
        "# Import required libraries\n",
        "import pulp as plp\n",
        "\n",
        "# Create the LP problem\n",
        "problem = plp.LpProblem(\"Maximize Profit\", plp.LpMaximize)\n",
        "\n",
        "# Define decision variables\n",
        "x1 = plp.LpVariable(\"Pressure Washer\", lowBound=0, cat=\"Integer\")\n",
        "x2 = plp.LpVariable(\"Go Kart\", lowBound=0, cat=\"Integer\")\n",
        "x3 = plp.LpVariable(\"Generator\", lowBound=0, cat=\"Integer\")\n",
        "x4 = plp.LpVariable(\"Water Pump\", lowBound=0, cat=\"Integer\")\n",
        "\n",
        "# Define objective function\n",
        "problem += 169.99 * x1 + 359.99 * x2 + 290.00 * x3 + 134.99 * x4, \"Total Profit\"\n",
        "\n",
        "# Define constraints\n",
        "problem += x1 + x2 + x3 + x4 <= 82  # Total number of shelves\n",
        "problem += 5 * x1 + 8 * x2 + 5 * x3 + 5/4 * x4 <= 82 * 30 * 5  # Total area of shelves\n",
        "problem += x1 + x2 >= 0.3 * (x1 + x2 + x3 + x4)  # At least 30% of inventory for Pressure Washers and Go Karts\n",
        "problem += x3 >= 2 * x4  # At least twice as many generators as water pumps\n",
        "\n",
        "# Define the budget constraint\n",
        "problem += 330 * x1 + 370 * x2 + 410 * x3 + 635 * x4 <= 170000  # Monthly budget\n",
        "\n",
        "# Solve the problem\n",
        "status = problem.solve()\n",
        "\n",
        "# Print the status of the solution\n",
        "print(f\"Status: {plp.LpStatus[status]}\")\n",
        "\n",
        "# Print the optimal solution\n",
        "print(f\"Optimal Solution:\")\n",
        "print(f\"\\tPressure Washer: {int(plp.value(x1))}\")\n",
        "print(f\"\\tGo Kart: {int(plp.value(x2))}\")\n",
        "print(f\"\\tGenerator: {int(plp.value(x3))}\")\n",
        "print(f\"\\tWater Pump: {int(plp.value(x4))}\")\n",
        "print(f\"\\tTotal Profit: ${round(plp.value(problem.objective), 2)}\")"
      ],
      "metadata": {
        "colab": {
          "base_uri": "https://localhost:8080/"
        },
        "id": "m_pVI9Z_wOtL",
        "outputId": "c1b563f5-12ee-4349-da75-83c22003794e"
      },
      "execution_count": 114,
      "outputs": [
        {
          "output_type": "stream",
          "name": "stdout",
          "text": [
            "Status: Optimal\n",
            "Optimal Solution:\n",
            "\tPressure Washer: 0\n",
            "\tGo Kart: 82\n",
            "\tGenerator: 0\n",
            "\tWater Pump: 0\n",
            "\tTotal Profit: $29519.18\n"
          ]
        }
      ]
    },
    {
      "cell_type": "code",
      "source": [
        "!pip install --upgrade pulp"
      ],
      "metadata": {
        "colab": {
          "base_uri": "https://localhost:8080/"
        },
        "id": "Fd_2BAZ21Psz",
        "outputId": "67f17ecf-890d-4c8d-99f9-16efca1446e4"
      },
      "execution_count": 115,
      "outputs": [
        {
          "output_type": "stream",
          "name": "stdout",
          "text": [
            "Looking in indexes: https://pypi.org/simple, https://us-python.pkg.dev/colab-wheels/public/simple/\n",
            "Requirement already satisfied: pulp in /usr/local/lib/python3.9/dist-packages (2.7.0)\n"
          ]
        }
      ]
    },
    {
      "cell_type": "code",
      "source": [
        "# Define constraints and store them in a list\n",
        "constraints = []\n",
        "constraints.append(problem.addConstraint(x1 + x2 + x3 + x4 <= 82))  # Total number of shelves\n",
        "constraints.append(problem.addConstraint(5 * x1 + 8 * x2 + 5 * x3 + 5/4 * x4 <= 82 * 30 * 5))  # Total area of shelves\n",
        "constraints.append(problem.addConstraint(x1 + x2 >= 0.3 * (x1 + x2 + x3 + x4)))  # At least 30% of inventory for Pressure Washers and Go Karts\n",
        "constraints.append(problem.addConstraint(x3 >= 2 * x4))  # At least twice as many generators as water pumps\n",
        "\n",
        "# Define the budget constraint\n",
        "problem += 330 * x1 + 370 * x2 + 410 * x3 + 635 * x4 <= 170000  # Monthly budget\n",
        "\n",
        "# Solve the problem\n",
        "status = problem.solve()\n",
        "\n",
        "# Print the status of the solution\n",
        "print(f\"Status: {plp.LpStatus[status]}\")\n",
        "\n",
        "# Print the optimal solution\n",
        "print(f\"Optimal Solution:\")\n",
        "print(f\"\\tPressure Washer: {int(plp.value(x1))}\")\n",
        "print(f\"\\tGo Kart: {int(plp.value(x2))}\")\n",
        "print(f\"\\tGenerator: {int(plp.value(x3))}\")\n",
        "print(f\"\\tWater Pump: {int(plp.value(x4))}\")\n",
        "print(f\"\\tTotal Profit: ${round(plp.value(problem.objective), 2)}\")\n",
        "\n",
        "# Print the sensitivity report\n",
        "# Print the sensitivity report\n",
        "# Print the sensitivity report\n",
        "print('\\nSensitivity Report:')\n",
        "print('Constraint\\t\\t\\tShadow Price\\tSlack')\n",
        "for constraint in problem.constraints.values():\n",
        "    shadow_price = constraint.pi if constraint.pi is not None else 'NA'\n",
        "    slack = constraint.slack if constraint.slack is not None else 'NA'\n",
        "    print(f'{constraint}\\t\\t{shadow_price}\\t\\t{slack}')"
      ],
      "metadata": {
        "colab": {
          "base_uri": "https://localhost:8080/"
        },
        "id": "8p2gEK7yxJS4",
        "outputId": "b159b002-e84a-4dde-afd2-3d26c4dead1c"
      },
      "execution_count": 116,
      "outputs": [
        {
          "output_type": "stream",
          "name": "stdout",
          "text": [
            "Status: Optimal\n",
            "Optimal Solution:\n",
            "\tPressure Washer: 0\n",
            "\tGo Kart: 82\n",
            "\tGenerator: 0\n",
            "\tWater Pump: 0\n",
            "\tTotal Profit: $29519.18\n",
            "\n",
            "Sensitivity Report:\n",
            "Constraint\t\t\tShadow Price\tSlack\n",
            "Generator + Go_Kart + Pressure_Washer + Water_Pump <= 82\t\t-0.0\t\t-0.0\n",
            "5*Generator + 8*Go_Kart + 5*Pressure_Washer + 1.25*Water_Pump <= 12300.0\t\t-0.0\t\t11644.0\n",
            "-0.3*Generator + 0.7*Go_Kart + 0.7*Pressure_Washer - 0.3*Water_Pump >= -0.0\t\t-0.0\t\t-57.4\n",
            "Generator - 2*Water_Pump >= 0\t\t-0.0\t\t-0.0\n",
            "410*Generator + 370*Go_Kart + 330*Pressure_Washer + 635*Water_Pump <= 170000\t\t-0.0\t\t139660.0\n",
            "Generator + Go_Kart + Pressure_Washer + Water_Pump <= 82\t\t-0.0\t\t-0.0\n",
            "5*Generator + 8*Go_Kart + 5*Pressure_Washer + 1.25*Water_Pump <= 12300.0\t\t-0.0\t\t11644.0\n",
            "-0.3*Generator + 0.7*Go_Kart + 0.7*Pressure_Washer - 0.3*Water_Pump >= -0.0\t\t-0.0\t\t-57.4\n",
            "Generator - 2*Water_Pump >= 0\t\t-0.0\t\t-0.0\n",
            "410*Generator + 370*Go_Kart + 330*Pressure_Washer + 635*Water_Pump <= 170000\t\t-0.0\t\t139660.0\n"
          ]
        }
      ]
    },
    {
      "cell_type": "code",
      "source": [
        "import pulp as plp\n",
        "from tabulate import tabulate\n",
        "\n",
        "# Create a LP minimization problem\n",
        "problem = plp.LpProblem(\"LP Problem\", plp.LpMaximize)\n",
        "\n",
        "# Define decision variables\n",
        "x1 = plp.LpVariable(\"Pressure Washer\", lowBound=0, cat=\"Integer\")\n",
        "x2 = plp.LpVariable(\"Go Kart\", lowBound=0, cat=\"Integer\")\n",
        "x3 = plp.LpVariable(\"Generator\", lowBound=0, cat=\"Integer\")\n",
        "x4 = plp.LpVariable(\"Water Pump\", lowBound=0, cat=\"Integer\")\n",
        "warehouse_size = plp.LpVariable(\"Warehouse_Size\", lowBound=0, cat='Continuous')\n",
        "# Define the objective function\n",
        "problem += 210 * x1 + 170 * x2 + 260 * x3 + 220 * x4, \"Total Profit\"\n",
        "\n",
        "# Define constraints and store them in a list\n",
        "constraints = []\n",
        "constraints.append(problem.addConstraint(x1 + x2 + x3 + x4 <= 82))  # Total number of shelves\n",
        "constraints.append(problem.addConstraint(5 * x1 + 8 * x2 + 5 * x3 + 5/4 * x4 <= 82 * 30 * 5))  # Total area of shelves\n",
        "constraints.append(problem.addConstraint(x1 + x2 >= 0.3 * (x1 + x2 + x3 + x4)))  # At least 30% of inventory for Pressure Washers and Go Karts\n",
        "constraints.append(problem.addConstraint(x3 >= 2 * x4))  # At least twice as many generators as water pumps\n",
        "\n",
        "# Define the budget constraint\n",
        "problem += 330 * x1 + 370 * x2 + 410 * x3 + 635 * x4 <= 170000  # Monthly budget\n",
        "\n",
        "# Solve the problem\n",
        "status = problem.solve()\n",
        "\n",
        "# Print the status of the solution\n",
        "print(f\"Status: {plp.LpStatus[status]}\")\n",
        "\n",
        "# Print the optimal solution in a table\n",
        "table = [[\"Item\", \"Quantity\", \"Price\"],\n",
        "         [\"Pressure Washer\", int(plp.value(x1)), 210],\n",
        "         [\"Go Kart\", int(plp.value(x2)), 170],\n",
        "         [\"Generator\", int(plp.value(x3)), 260],\n",
        "         [\"Water Pump\", int(plp.value(x4)), 220],\n",
        "         [\"Total Profit\", round(plp.value(problem.objective), 2), \"\"]]\n",
        "print(tabulate(table, headers=\"firstrow\"))\n",
        "\n",
        "# Print the sensitivity report in a table\n",
        "table = [[\"Constraint\", \"Shadow Price\", \"Slack\"]]\n",
        "for constraint in problem.constraints.values():\n",
        "    shadow_price = constraint.pi if constraint.pi is not None else 'NA'\n",
        "    slack = constraint.slack if constraint.slack is not None else 'NA'\n",
        "    table.append([str(constraint), shadow_price, slack])\n",
        "print(tabulate(table, headers=\"firstrow\"))"
      ],
      "metadata": {
        "colab": {
          "base_uri": "https://localhost:8080/"
        },
        "id": "XE6_97mf8bUW",
        "outputId": "c8aecb6c-2a00-480b-fb3b-63a0a1b30f0e"
      },
      "execution_count": 117,
      "outputs": [
        {
          "output_type": "stream",
          "name": "stdout",
          "text": [
            "Status: Optimal\n",
            "Item               Quantity  Price\n",
            "---------------  ----------  -------\n",
            "Pressure Washer          25  210\n",
            "Go Kart                   0  170\n",
            "Generator                57  260\n",
            "Water Pump                0  220\n",
            "Total Profit          20070\n",
            "Constraint                                                                      Shadow Price     Slack\n",
            "----------------------------------------------------------------------------  --------------  --------\n",
            "Generator + Go_Kart + Pressure_Washer + Water_Pump <= 82                                  -0      -0\n",
            "5*Generator + 8*Go_Kart + 5*Pressure_Washer + 1.25*Water_Pump <= 12300.0                  -0   11890\n",
            "-0.3*Generator + 0.7*Go_Kart + 0.7*Pressure_Washer - 0.3*Water_Pump >= -0.0               -0      -0.4\n",
            "Generator - 2*Water_Pump >= 0                                                             -0     -57\n",
            "410*Generator + 370*Go_Kart + 330*Pressure_Washer + 635*Water_Pump <= 170000              -0  138380\n"
          ]
        }
      ]
    },
    {
      "cell_type": "code",
      "source": [
        "# Print the solution and sensitivity analysis\n",
        "print(\"Optimal Solution:\", res.x)\n",
        "print(\"Optimal Value:\", -res.fun)\n",
        "\n",
        "# Print the shadow prices\n",
        "print(\"Shadow Prices:\", res.slack)\n",
        "\n",
        "# Find the shadow price for the warehouse size constraint\n",
        "for i, name in enumerate(constraints):\n",
        "    if name == \"Warehouse Size\":\n",
        "        print(\"Shadow Price for Warehouse Size Constraint:\", res.slack[i])\n",
        "        break\n",
        "# Find the shadow price for the warehouse size constraint\n",
        "for i, name in enumerate(constraints):\n",
        "    if name == \"Warehouse Size\":\n",
        "        shadow_price = res.slack[i]\n",
        "        break\n",
        "\n",
        "# Calculate the ideal size of the recommended warehouse\n",
        "warehouse_coef = c[2] / 150 # 150 is the area of each shelf\n",
        "ideal_size = shadow_price / warehouse_coef\n",
        "print(\"Ideal Size of Recommended Warehouse (in square feet):\", ideal_size)\n",
        "\n",
        "# Calculate the increase in monthly profit\n",
        "increase_profit = shadow_price * warehouse_coef\n",
        "print(\"Increase in Monthly Profit:\", increase_profit)"
      ],
      "metadata": {
        "colab": {
          "base_uri": "https://localhost:8080/"
        },
        "id": "0tnCTyXpWS-t",
        "outputId": "d2fd75f0-7dde-4b58-cb46-4a6a2d282356"
      },
      "execution_count": 118,
      "outputs": [
        {
          "output_type": "stream",
          "name": "stdout",
          "text": [
            "Optimal Solution: [ 6.30434783 16.         34.69565217 17.34782609]\n",
            "Optimal Value: 16667.56\n",
            "Shadow Prices: [ 1.45020380e+05 -2.66453526e-15 -1.42108547e-14  0.00000000e+00\n",
            "  1.77635684e-15  6.46521739e+01]\n",
            "Ideal Size of Recommended Warehouse (in square feet): 0.0\n",
            "Increase in Monthly Profit: 0.0\n"
          ]
        }
      ]
    },
    {
      "cell_type": "code",
      "source": [
        "# Print the solution and sensitivity analysis\n",
        "print(\"Optimal Solution:\", res.x)\n",
        "print(\"Optimal Value:\", -res.fun)\n",
        "\n",
        "# Print the shadow prices\n",
        "print(\"Shadow Prices:\", res.slack)\n",
        "\n",
        "# Find the shadow price for the warehouse size constraint\n",
        "for i, name in enumerate(constraints):\n",
        "    if name == \"Warehouse Size\":\n",
        "        print(\"Shadow Price for Warehouse Size Constraint:\", res.slack[i])\n",
        "        break\n",
        "# Find the shadow price for the warehouse size constraint\n",
        "for i, name in enumerate(constraints):\n",
        "    if name == \"Warehouse Size\":\n",
        "        shadow_price = res.slack[i]\n",
        "        break\n",
        "\n",
        "# Calculate the ideal size of the recommended warehouse\n",
        "warehouse_coef = c[2] / 150 # 150 is the area of each shelf\n",
        "ideal_size = shadow_price / warehouse_coef\n",
        "print(\"Ideal Size of Recommended Warehouse (in square feet):\", ideal_size)\n",
        "\n",
        "# Calculate the increase in monthly profit\n",
        "increase_profit = shadow_price * warehouse_coef\n",
        "print(\"Increase in Monthly Profit:\", increase_profit)"
      ],
      "metadata": {
        "colab": {
          "base_uri": "https://localhost:8080/"
        },
        "id": "Zj046LO3Yzqs",
        "outputId": "108c8496-ea4a-472b-9f0e-0416568cccd2"
      },
      "execution_count": 119,
      "outputs": [
        {
          "output_type": "stream",
          "name": "stdout",
          "text": [
            "Optimal Solution: [ 6.30434783 16.         34.69565217 17.34782609]\n",
            "Optimal Value: 16667.56\n",
            "Shadow Prices: [ 1.45020380e+05 -2.66453526e-15 -1.42108547e-14  0.00000000e+00\n",
            "  1.77635684e-15  6.46521739e+01]\n",
            "Ideal Size of Recommended Warehouse (in square feet): 0.0\n",
            "Increase in Monthly Profit: 0.0\n"
          ]
        }
      ]
    }
  ]
}